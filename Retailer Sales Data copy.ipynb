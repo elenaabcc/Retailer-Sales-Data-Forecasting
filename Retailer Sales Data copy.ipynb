{
 "cells": [
  {
   "cell_type": "markdown",
   "metadata": {},
   "source": [
    "### Retailer Sales Data Forecasting\n",
    "\n",
    "This dataset contains the daily sales data of a US retailer.  \n",
    "Your objective is to forecast the total sales for each State over the next 12 months, using the historical data provided.\n"
   ]
  },
  {
   "cell_type": "markdown",
   "metadata": {},
   "source": [
    "### Part 1: Top-Down Approach\n",
    "\n",
    "1. **Aggregate Sales:**  \n",
    "   Combine the sales data to create total sales at the `year-month` level, using the `Order Date` as the time variable for aggregation.\n",
    "\n",
    "\n",
    "2. **Train a Model:**  \n",
    "   Using the aggregated `year-month` data, train a model to forecast the total sales for the next 12 months.  \n",
    "   *(The choice of model is up to you.)*\n",
    "\n",
    "3. **Disaggregate Predictions:**  \n",
    "   Split the predicted sales from the `year-month` level back to the `year-month-State` level.  \n",
    "   *(The splitting strategy is up to you.)*\n",
    "\n",
    "4. **Evaluate Accuracy:**  \n",
    "   Assess the forecast accuracy at both the `year-month` and `year-month-State` levels.\n"
   ]
  },
  {
   "cell_type": "markdown",
   "metadata": {},
   "source": [
    "# ____________________________________________________________"
   ]
  },
  {
   "cell_type": "markdown",
   "metadata": {},
   "source": [
    "### Part 2: Alternative Approach\n",
    "\n",
    "- Implement a different approach to forecast the next 12 months of sales at the `year-month-State` level.\n"
   ]
  },
  {
   "cell_type": "markdown",
   "metadata": {},
   "source": [
    "# ____________________________________________________________"
   ]
  },
  {
   "cell_type": "code",
   "execution_count": 1,
   "metadata": {},
   "outputs": [],
   "source": [
    "# Libraries\n",
    "\n",
    "# Data handling and manipulation\n",
    "import pandas as pd  \n",
    "import numpy as np  \n",
    "import os\n",
    "\n",
    "# Evaluation metrics\n",
    "from sklearn.metrics import mean_squared_error, mean_absolute_error, r2_score\n",
    "\n",
    "\n",
    "# Data visualization\n",
    "import matplotlib.pyplot as plt  \n",
    "\n",
    "# Data preprocessing\n",
    "from sklearn.preprocessing import MinMaxScaler  # this scales data between a min and max value\n",
    "\n",
    "# Deep learning framework\n",
    "# Time series modeling\n",
    "from statsmodels.tsa.statespace.sarimax import SARIMAX   \n",
    "from keras.optimizers import Adam\n",
    "import visualkeras\n",
    "from keras.models import Sequential\n",
    "from keras.layers import LSTM, Dropout, Dense, BatchNormalization, LeakyReLU\n",
    "from keras.optimizers import Adam\n",
    "from keras.callbacks import EarlyStopping\n",
    "\n"
   ]
  },
  {
   "cell_type": "markdown",
   "metadata": {},
   "source": [
    "# ETL"
   ]
  },
  {
   "cell_type": "code",
   "execution_count": 2,
   "metadata": {},
   "outputs": [],
   "source": [
    "# Load the dataset\n",
    "df = pd.read_csv('Retailer Sales Data.csv')\n",
    "\n",
    "# Convert 'Order Date' and 'Ship Date' columns to datetime format\n",
    "df['Order Date'] = pd.to_datetime(df['Order Date'], format='%d/%m/%Y')\n",
    "df['Ship Date'] = pd.to_datetime(df['Ship Date'], format='%d/%m/%Y')\n"
   ]
  },
  {
   "cell_type": "code",
   "execution_count": 3,
   "metadata": {},
   "outputs": [
    {
     "name": "stdout",
     "output_type": "stream",
     "text": [
      "Number of missing values on 'Ship Date' and 'Order Date': 14\n",
      "Missing months of sales: PeriodIndex([], dtype='period[M]')\n"
     ]
    }
   ],
   "source": [
    "# Print the number of missing values where both 'Ship Date' and 'Order Date' are missing\n",
    "print(\"Number of missing values on 'Ship Date' and 'Order Date':\", \n",
    "      df[df['Ship Date'].isnull() & df['Order Date'].isnull()].shape[0])\n",
    "\n",
    "# Calculate shipping days as the difference between 'Ship Date' and 'Order Date'\n",
    "df['Shipping_days'] = df['Ship Date'] - df['Order Date']\n",
    "\n",
    "# Calculate the average shipping days\n",
    "avg_shipping_days = df['Shipping_days'].mean()\n",
    "\n",
    "# Impute missing 'Order Date' by subtracting the average shipping days from 'Ship Date'\n",
    "df.loc[df['Order Date'].isnull(), 'Order Date'] = df['Ship Date'] - pd.to_timedelta(avg_shipping_days, unit='D')\n",
    "\n",
    "# Drop rows where 'Order Date' is still missing\n",
    "df = df[df['Order Date'].notna()]\n",
    "\n",
    "# Create a new column 'Year-Month' for the order date at a monthly granularity\n",
    "df['Year-Month'] = df['Order Date'].dt.to_period('M')\n",
    "\n",
    "# Identify and print missing months in the dataset\n",
    "missing_months = pd.period_range(start=df['Year-Month'].min(), \n",
    "                                 end=df['Year-Month'].max(), \n",
    "                                 freq='M').difference(df['Year-Month'])\n",
    "print(\"Missing months of sales:\", missing_months)\n",
    "\n",
    "# Clean up by removing the temporary variable\n",
    "del avg_shipping_days\n"
   ]
  },
  {
   "cell_type": "code",
   "execution_count": 4,
   "metadata": {},
   "outputs": [
    {
     "name": "stdout",
     "output_type": "stream",
     "text": [
      "Number of missing values on 'Sales' and 'Sub-Category': 23\n"
     ]
    }
   ],
   "source": [
    "# Print number of rows with missing 'Sales' and 'Sub-Category'\n",
    "print(\"Number of missing values on 'Sales' and 'Sub-Category':\", \n",
    "      df[['Sales', 'Sub-Category']].isnull().all(axis=1).sum())\n",
    "\n",
    "# Calculate average sales by 'Sub-Category' and 'Category'\n",
    "avg_sales_sub_cat = df.groupby('Sub-Category')['Sales'].mean()\n",
    "avg_sales_cat = df.groupby('Category')['Sales'].mean()\n",
    "\n",
    "# Impute missing 'Sales' with average sales by 'Sub-Category' and 'Category'\n",
    "df['Sales'] = df['Sales'].fillna(df['Sub-Category'].map(avg_sales_sub_cat))\n",
    "df['Sales'] = df['Sales'].fillna(df['Category'].map(avg_sales_cat))\n",
    "\n",
    "# Drop rows with still missing 'Sales'\n",
    "df.dropna(subset=['Sales'], inplace=True)\n",
    "\n",
    "# Clean up\n",
    "del avg_sales_cat\n"
   ]
  },
  {
   "cell_type": "code",
   "execution_count": 5,
   "metadata": {},
   "outputs": [
    {
     "name": "stdout",
     "output_type": "stream",
     "text": [
      "0\n",
      "0\n"
     ]
    }
   ],
   "source": [
    "# Check if any 'Customer ID' has more than one 'Customer Name'\n",
    "print((df.groupby('Customer ID')['Customer Name'].nunique() > 1).sum())\n",
    "\n",
    "# Create a dictionary to map 'Customer ID' to the first non-null 'State'\n",
    "state_fill_dict = df.dropna(subset=['State']).groupby('Customer ID')['State'].first().to_dict()\n",
    "\n",
    "# Fill missing 'State' values based on 'Customer ID'\n",
    "df['State'] = df['State'].fillna(df['Customer ID'].map(state_fill_dict))\n",
    "\n",
    "# Create a dictionary to map 'Country' to the first non-null 'State'\n",
    "city_fill_dict = df.dropna(subset=['State', 'Country']).groupby('Country')['State'].first().to_dict()\n",
    "\n",
    "# Fill remaining missing 'State' values based on 'Country'\n",
    "df.loc[df['State'].isna() & df['Country'].notna(), 'State'] = df['Country'].map(city_fill_dict)\n",
    "\n",
    "# Drop rows where 'State' is still missing\n",
    "df.dropna(subset=['State'], inplace=True)\n",
    "\n",
    "# Check for any remaining missing values in 'State'\n",
    "print(df['State'].isna().sum())\n",
    "\n",
    "# Clean up\n",
    "del city_fill_dict\n",
    "del state_fill_dict\n"
   ]
  },
  {
   "cell_type": "code",
   "execution_count": 6,
   "metadata": {},
   "outputs": [
    {
     "name": "stdout",
     "output_type": "stream",
     "text": [
      "447\n",
      "31\n",
      "0\n",
      "-\n",
      "480\n",
      "10\n",
      "0\n"
     ]
    }
   ],
   "source": [
    "print(df['Product ID'].isna().sum())\n",
    "# Create a dictionary to map 'Customer ID' to the first non-null 'State'\n",
    "product_fill_dict = df.dropna(subset=['Product ID']).groupby('Product Name')['Product ID'].first().to_dict()\n",
    "\n",
    "# Fill missing 'State' values based on 'Customer ID'\n",
    "df['Product ID'] = df['Product ID'].fillna(df['Product Name'].map(product_fill_dict))\n",
    "\n",
    "print(df['Product ID'].isna().sum())\n",
    "df.dropna(subset=['Product ID'], inplace=True)\n",
    "print(df['Product ID'].isna().sum())\n",
    "\n",
    "print('-')\n",
    "print(df['Sub-Category'].isna().sum())\n",
    "# Create a dictionary to map 'Customer ID' to the first non-null 'State'\n",
    "sub_cat_fill_dict = df.dropna(subset=['Sub-Category']).groupby('Product Name')['Sub-Category'].first().to_dict()\n",
    "product_id_fill_dict = df.dropna(subset=['Sub-Category']).groupby('Product ID')['Sub-Category'].first().to_dict()\n",
    "\n",
    "# Fill missing 'State' values based on 'Customer ID'\n",
    "df['Sub-Category'] = df['Sub-Category'].fillna(df['Product Name'].map(sub_cat_fill_dict))\n",
    "df['Sub-Category'] = df['Sub-Category'].fillna(df['Product ID'].map(product_id_fill_dict))\n",
    "\n",
    "\n",
    "print(df['Sub-Category'].isna().sum())\n",
    "df.dropna(subset=['Sub-Category'], inplace=True)\n",
    "print(df['Sub-Category'].isna().sum())\n"
   ]
  },
  {
   "cell_type": "markdown",
   "metadata": {},
   "source": [
    "# ____________________________________________________________"
   ]
  },
  {
   "cell_type": "markdown",
   "metadata": {},
   "source": [
    "# Modeling - Top Down Approach (Part 1)"
   ]
  },
  {
   "cell_type": "markdown",
   "metadata": {},
   "source": [
    "### SARIMA\n"
   ]
  },
  {
   "cell_type": "markdown",
   "metadata": {},
   "source": [
    "##### Year - Month Level"
   ]
  },
  {
   "cell_type": "code",
   "execution_count": 7,
   "metadata": {},
   "outputs": [],
   "source": [
    "# Group sales data by 'Year-Month' and 'State', then sum the sales\n",
    "monthly_sales_state = df.groupby(['Year-Month', 'State'])['Sales'].sum().reset_index()\n",
    "\n",
    "# Aggregate sales by 'Year-Month'\n",
    "monthly_sales = monthly_sales_state.groupby(['Year-Month'])['Sales'].sum()\n",
    "\n",
    "# Pivot the sales data to get sales by 'State' in columns\n",
    "sales_by_state = monthly_sales_state.groupby(['Year-Month', 'State'])['Sales'].sum().unstack().fillna(0)\n",
    "\n",
    "# Calculate the proportion of sales by state for each month\n",
    "state_proportions = sales_by_state.div(sales_by_state.sum(axis=1), axis=0)\n",
    "\n",
    "# Split the data into training and test sets based on date\n",
    "train_data = monthly_sales[monthly_sales.index < '2018-01']\n",
    "test_data = monthly_sales[monthly_sales.index >= '2018-01']\n",
    "\n"
   ]
  },
  {
   "cell_type": "code",
   "execution_count": 8,
   "metadata": {},
   "outputs": [
    {
     "name": "stderr",
     "output_type": "stream",
     "text": [
      "/Users/elenaabcc/miniconda3/envs/tensorflow/lib/python3.10/site-packages/statsmodels/tsa/statespace/sarimax.py:866: UserWarning: Too few observations to estimate starting parameters for seasonal ARMA. All parameters except for variances will be set to zeros.\n",
      "  warn('Too few observations to estimate starting parameters%s.'\n"
     ]
    }
   ],
   "source": [
    "\n",
    "# Define SARIMA model parameters\n",
    "p, d, q = 4, 1, 1  # ARIMA parameters\n",
    "P, D, Q, s = 1, 1, 1, 12  # Seasonal parameters (s=12 for monthly data)\n",
    "\n",
    "# Train the SARIMA model\n",
    "model = SARIMAX(train_data, order=(p, d, q), seasonal_order=(P, D, Q, s))\n",
    "model_fit = model.fit(disp=False)\n"
   ]
  },
  {
   "cell_type": "markdown",
   "metadata": {},
   "source": [
    "#####  Model Evaluation at Year - Month Level"
   ]
  },
  {
   "cell_type": "code",
   "execution_count": 9,
   "metadata": {},
   "outputs": [
    {
     "data": {
      "image/png": "[encoded data removed]",
      "text/plain": [
       "<Figure size 1200x600 with 1 Axes>"
      ]
     },
     "metadata": {},
     "output_type": "display_data"
    }
   ],
   "source": [
    "# Make forecasts for the next 12 periods\n",
    "forecast = model_fit.get_forecast(steps=12)\n",
    "forecast_values = forecast.predicted_mean\n",
    "forecast_conf_int = forecast.conf_int()\n",
    "\n",
    "# Create a Series for forecasted values\n",
    "forecast_index = pd.period_range(start='2018-01', periods=12, freq='M')\n",
    "forecast_series = pd.Series(forecast_values, index=forecast_index)\n",
    "\n",
    "# Plot the results\n",
    "plt.figure(figsize=(12, 6))\n",
    "plt.plot(train_data.index.to_timestamp(), train_data, label='Training Data', color='blue')\n",
    "plt.plot(test_data.index.to_timestamp(), test_data, label='Actual Data', color='green')\n",
    "plt.plot(forecast_series.index.to_timestamp(), forecast_series, label='Forecast', color='red', linestyle='--')\n",
    "plt.fill_between(forecast_series.index.to_timestamp(), \n",
    "                 forecast_conf_int.iloc[:, 0], \n",
    "                 forecast_conf_int.iloc[:, 1], \n",
    "                 color='red', alpha=0.3)\n",
    "plt.title('Forecast vs Actual Data')\n",
    "plt.xlabel('Date')\n",
    "plt.ylabel('Sales')\n",
    "plt.legend()\n",
    "plt.grid(True)\n",
    "plt.show()\n"
   ]
  },
  {
   "cell_type": "code",
   "execution_count": 10,
   "metadata": {},
   "outputs": [
    {
     "name": "stdout",
     "output_type": "stream",
     "text": [
      "Mean Squared Error (MSE): 497492678.46\n",
      "Root Mean Squared Error (RMSE): 22304.54\n",
      "Mean Absolute Error (MAE): 19043.94\n"
     ]
    }
   ],
   "source": [
    "\n",
    "# Evaluate forecast accuracy using MSE, RMSE, and MAE\n",
    "mse = mean_squared_error(test_data, forecast_series)\n",
    "rmse = np.sqrt(mse)\n",
    "mae = mean_absolute_error(test_data, forecast_series)\n",
    "\n",
    "print(f\"Mean Squared Error (MSE): {mse:.2f}\")\n",
    "print(f\"Root Mean Squared Error (RMSE): {rmse:.2f}\")\n",
    "print(f\"Mean Absolute Error (MAE): {mae:.2f}\")\n"
   ]
  },
  {
   "cell_type": "markdown",
   "metadata": {},
   "source": [
    "##### Year - Month proportioned by States"
   ]
  },
  {
   "cell_type": "code",
   "execution_count": 11,
   "metadata": {},
   "outputs": [],
   "source": [
    "\n",
    "# Create a DataFrame to hold proportionally forecasted values for each state\n",
    "forecast_proportioned = pd.DataFrame(index=forecast_series.index, columns=state_proportions.columns)\n",
    "\n",
    "# Allocate the total forecasted values proportionally across states\n",
    "for state in state_proportions.columns:\n",
    "    forecast_proportioned[state] = forecast_series * state_proportions[state]\n"
   ]
  },
  {
   "cell_type": "code",
   "execution_count": 12,
   "metadata": {},
   "outputs": [],
   "source": [
    "test_data_state = pd.DataFrame(index=test_data.index, columns=state_proportions.columns)\n"
   ]
  },
  {
   "cell_type": "markdown",
   "metadata": {},
   "source": [
    "#####  Model Results at Year - Month  - states Level"
   ]
  },
  {
   "cell_type": "code",
   "execution_count": 13,
   "metadata": {},
   "outputs": [],
   "source": [
    "# Ensure the index of forecast_proportioned is in PeriodIndex format and convert if necessary\n",
    "if isinstance(forecast_proportioned.index, pd.PeriodIndex):\n",
    "    # Convert PeriodIndex to Timestamp for output\n",
    "    forecast_proportioned.index = forecast_proportioned.index.to_timestamp()\n",
    "else:\n",
    "    # Convert non-periodic index to PeriodIndex first, then to Timestamp\n",
    "    forecast_proportioned.index = pd.to_datetime(forecast_proportioned.index).to_period('M').to_timestamp()\n",
    "\n",
    "# Reset index to long format for pivoting\n",
    "forecast_long = forecast_proportioned.reset_index()\n",
    "\n",
    "# Convert the DataFrame to long format (pivot)\n",
    "forecast_long = pd.melt(forecast_long, id_vars=['index'], var_name='State', value_name='Sales')\n",
    "\n",
    "# Rename 'index' column to 'Year-Month'\n",
    "forecast_long.rename(columns={'index': 'Year-Month'}, inplace=True)\n",
    "\n",
    "# Ensure 'Year-Month' is in datetime format\n",
    "forecast_long['Year-Month'] = pd.to_datetime(forecast_long['Year-Month'], format='%Y-%m')\n"
   ]
  },
  {
   "cell_type": "code",
   "execution_count": 14,
   "metadata": {},
   "outputs": [],
   "source": [
    "# Aggregate actual sales data\n",
    "actualsales = df.groupby(['Year-Month', 'State'])['Sales'].sum().reset_index()\n",
    "\n",
    "# Convert 'Year-Month' tao PeriodIndex for merging\n",
    "forecast_long['Year-Month'] = forecast_long['Year-Month'].dt.to_period('M')\n",
    "\n",
    "# Rename columns for clarity\n",
    "forecast_long.rename(columns={'Sales': 'Sales_Prediction'}, inplace=True)\n",
    "actualsales.rename(columns={'Sales': 'Sales_Actual'}, inplace=True)\n",
    "\n",
    "# Merge forecasted and actual sales data\n",
    "prediction_and_actuals = forecast_long.merge(actualsales, on=['Year-Month', 'State'], how='left')\n",
    "\n",
    "# Replace NaN values in 'Sales_Actual' with 0\n",
    "prediction_and_actuals['Sales_Actual'] = prediction_and_actuals['Sales_Actual'].fillna(0)\n"
   ]
  },
  {
   "cell_type": "code",
   "execution_count": 15,
   "metadata": {},
   "outputs": [
    {
     "name": "stdout",
     "output_type": "stream",
     "text": [
      "Figures saved in the directory: sarima_state_sales_figures\n"
     ]
    }
   ],
   "source": [
    "\n",
    "if pd.api.types.is_period_dtype(prediction_and_actuals['Year-Month']):\n",
    "    prediction_and_actuals['Year-Month'] = prediction_and_actuals['Year-Month'].dt.to_timestamp()\n",
    "else:\n",
    "    prediction_and_actuals['Year-Month'] = pd.to_datetime(prediction_and_actuals['Year-Month'], format='%Y-%m')\n",
    "\n",
    "# Create a directory to save figures\n",
    "output_dir = 'sarima_state_sales_figures'\n",
    "os.makedirs(output_dir, exist_ok=True)\n",
    "\n",
    "# Get the list of unique states\n",
    "states = prediction_and_actuals['State'].unique()\n",
    "\n",
    "# Generate and save a plot for each state\n",
    "for state in states:\n",
    "    # Filter data for the current state\n",
    "    state_data = prediction_and_actuals[prediction_and_actuals['State'] == state]\n",
    "    \n",
    "    # Set 'Year-Month' as the index\n",
    "    state_data.set_index('Year-Month', inplace=True)\n",
    "    \n",
    "    # Create the plot\n",
    "    plt.figure(figsize=(12, 6))\n",
    "    plt.plot(state_data.index, state_data['Sales_Prediction'], label='Sales Prediction', marker='o')\n",
    "    plt.plot(state_data.index, state_data['Sales_Actual'], label='Sales Actual', marker='o')\n",
    "    plt.title(f'Sales Prediction vs Actual Sales for {state}')\n",
    "    plt.xlabel('Year-Month')\n",
    "    plt.ylabel('Sales')\n",
    "    plt.legend()\n",
    "    plt.grid(True)\n",
    "    plt.xticks(rotation=45)\n",
    "    plt.tight_layout()\n",
    "    \n",
    "    # Save the plot to the specified directory\n",
    "    file_path = os.path.join(output_dir, f'{state}_sales.png')\n",
    "    plt.savefig(file_path)\n",
    "    plt.close()  # Close the figure to free up memory\n",
    "\n",
    "print(f'Figures saved in the directory: {output_dir}')\n"
   ]
  },
  {
   "cell_type": "markdown",
   "metadata": {},
   "source": [
    "# Modeling - Bottom-Up Approach (Part 2)"
   ]
  },
  {
   "cell_type": "code",
   "execution_count": 16,
   "metadata": {},
   "outputs": [],
   "source": [
    "\n",
    "# Aggregate sales by Year-Month, State, and Sub-Category\n",
    "df_encoded = df.groupby(['Year-Month', 'State', 'Sub-Category'])['Sales'].sum().reset_index()\n",
    "\n",
    "#* ######## One-hot encode ############\n",
    "df_encoded = pd.get_dummies(df_encoded, columns=['Sub-Category', 'State'], drop_first=True)\n",
    "#* ######## ###############  ##########\n",
    "\n",
    "# Set 'Year-Month' as index\n",
    "df_encoded.set_index('Year-Month', inplace=True)\n",
    "\n",
    "# 3. Extract columns for scaling\n",
    "features_to_scale = df_encoded[['Sales']]\n",
    "\n",
    "# Very impotart -   MinMaxScaler to 0 to 1 range - avoiding high values\n",
    "sales = features_to_scale.values.reshape(-1, 1)\n",
    "scaler = MinMaxScaler()\n",
    "sales_scaled = scaler.fit_transform(sales)\n",
    "\n",
    "# Convert scaled data back to DataFrame\n",
    "scaled_df = pd.DataFrame(sales_scaled, columns=['Sales'], index=df_encoded.index)\n",
    "\n",
    "# Add encoded columns (dummies) to the scaled DataFrame\n",
    "scaled_df = pd.concat([scaled_df, df_encoded.drop(['Sales'], axis=1)], axis=1)\n"
   ]
  },
  {
   "cell_type": "code",
   "execution_count": 17,
   "metadata": {},
   "outputs": [],
   "source": [
    "\n",
    "#* ######## Create training, validation, and test sets ######### \n",
    "# Training set up to 01 2017\n",
    "train_data = scaled_df[scaled_df.index < '2017-01']\n",
    "\n",
    "# Validation set from 01 2017 to 12 2017\n",
    "val_data = scaled_df[(scaled_df.index >= '2017-01') & (scaled_df.index <= '2017-12')]\n",
    "\n",
    "# Test set for 2018\n",
    "test_data = scaled_df[scaled_df.index >= '2018-01']\n",
    "\n",
    "##################################\n",
    "y_train = train_data['Sales'].values\n",
    "y_val = val_data['Sales'].values\n",
    "y_test = test_data['Sales'].values  \n",
    "##################################\n",
    "\n",
    "##################################\n",
    "X_train = train_data.drop(['Sales'], axis=1).values\n",
    "X_val = val_data.drop(['Sales'], axis=1).values\n",
    "X_test = test_data.drop(['Sales'], axis=1).values  # Test set\n",
    "##################################\n",
    "\n",
    "################################## (samples, timesteps, features)\n",
    "X_train = X_train.reshape((X_train.shape[0], 1, X_train.shape[1]))\n",
    "X_val = X_val.reshape((X_val.shape[0], 1, X_val.shape[1]))\n",
    "X_test = X_test.reshape((X_test.shape[0], 1, X_test.shape[1]))  # Reshape test set\n",
    "##################################\n",
    "\n",
    "##################################\n",
    "# y_train = np.array(y_train)\n",
    "y_val = np.array(y_val)\n",
    "y_test = np.array(y_test)\n",
    "##################################"
   ]
  },
  {
   "cell_type": "code",
   "execution_count": 18,
   "metadata": {},
   "outputs": [
    {
     "name": "stdout",
     "output_type": "stream",
     "text": [
      "0.0 3.069191861321636e-05 6.820426358492557e-07\n",
      "0.7459463648491595 0.5967499645337829 1.0\n"
     ]
    }
   ],
   "source": [
    "print(min(y_val), min(y_test), min(y_train))\n",
    "print(max(y_val), max(y_test), max(y_train))"
   ]
  },
  {
   "cell_type": "code",
   "execution_count": 19,
   "metadata": {},
   "outputs": [
    {
     "data": {
      "text/plain": [
       "\"\\n#* ####################################################\\n#* ############ Create the LSTM model ################\\nmodel = Sequential()  \\nmodel.add(LSTM(units=100, return_sequences=True, input_shape=(X_train.shape[1], X_train.shape[2]))) \\n\\nmodel.add(Dropout(0.2)) \\nmodel.add(LSTM(units=100, return_sequences=False))  # do not return sequences as it's the last LSTM layer\\n\\nmodel.add(Dropout(0.3))  # Add another dropout layer\\nmodel.add(Dense(units=1))  # Add a Dense layer with 1 unit for output\\n#* ####################################################\\n#* ####################################################\\n\\n#* ####################################################\\n#* ############ Create the LSTM model ################\\nmodel = Sequential()  \\nmodel.add(LSTM(units=100, return_sequences=True, input_shape=(X_train.shape[1], X_train.shape[2]))) \\nmodel.add(Dropout(0.2)) \\n\\nmodel.add(LSTM(units=100, return_sequences=True)) \\nmodel.add(Dropout(0.2)) \\n\\nmodel.add(LSTM(units=100, return_sequences=False))  # ultimo LSTM\\nmodel.add(Dropout(0.3)) \\n\\nmodel.add(Dense(units=50, activation='relu'))\\nmodel.add(Dropout(0.3))  # ulteriore Dropout\\n\\nmodel.add(Dense(units=1))   # output finale\\n\\n#* ####################################################\\n#* ####################################################\\n\\n# Learning rate for the optimizer\\nlearning_rate = 0.001  \\noptimizer = Adam(learning_rate=learning_rate) \\n\\n\\n#* ################ Compile and train the model ################\\nmodel.compile(optimizer=optimizer, loss='mean_squared_error', metrics=['mae'])  \\n\\nhistory = model.fit(X_train, y_train, epochs=100, batch_size=32, validation_data=(X_val, y_val))  \\n\""
      ]
     },
     "execution_count": 19,
     "metadata": {},
     "output_type": "execute_result"
    }
   ],
   "source": [
    "\"\"\"\n",
    "#* ####################################################\n",
    "#* ############ Create the LSTM model ################\n",
    "model = Sequential()  \n",
    "model.add(LSTM(units=100, return_sequences=True, input_shape=(X_train.shape[1], X_train.shape[2]))) \n",
    "\n",
    "model.add(Dropout(0.2)) \n",
    "model.add(LSTM(units=100, return_sequences=False))  # do not return sequences as it's the last LSTM layer\n",
    "\n",
    "model.add(Dropout(0.3))  # Add another dropout layer\n",
    "model.add(Dense(units=1))  # Add a Dense layer with 1 unit for output\n",
    "#* ####################################################\n",
    "#* ####################################################\n",
    "\n",
    "#* ####################################################\n",
    "#* ############ Create the LSTM model ################\n",
    "model = Sequential()  \n",
    "model.add(LSTM(units=100, return_sequences=True, input_shape=(X_train.shape[1], X_train.shape[2]))) \n",
    "model.add(Dropout(0.2)) \n",
    "\n",
    "model.add(LSTM(units=100, return_sequences=True)) \n",
    "model.add(Dropout(0.2)) \n",
    "\n",
    "model.add(LSTM(units=100, return_sequences=False))  # ultimo LSTM\n",
    "model.add(Dropout(0.3)) \n",
    "\n",
    "model.add(Dense(units=50, activation='relu'))\n",
    "model.add(Dropout(0.3))  # ulteriore Dropout\n",
    "\n",
    "model.add(Dense(units=1))   # output finale\n",
    "\n",
    "#* ####################################################\n",
    "#* ####################################################\n",
    "\n",
    "# Learning rate for the optimizer\n",
    "learning_rate = 0.001  \n",
    "optimizer = Adam(learning_rate=learning_rate) \n",
    "\n",
    "\n",
    "#* ################ Compile and train the model ################\n",
    "model.compile(optimizer=optimizer, loss='mean_squared_error', metrics=['mae'])  \n",
    "\n",
    "history = model.fit(X_train, y_train, epochs=100, batch_size=32, validation_data=(X_val, y_val))  \n",
    "\"\"\""
   ]
  },
  {
   "cell_type": "code",
   "execution_count": 20,
   "metadata": {},
   "outputs": [
    {
     "name": "stderr",
     "output_type": "stream",
     "text": [
      "2024-09-29 20:19:16.121596: I metal_plugin/src/device/metal_device.cc:1154] Metal device set to: Apple M1\n",
      "2024-09-29 20:19:16.121891: I metal_plugin/src/device/metal_device.cc:296] systemMemory: 8.00 GB\n",
      "2024-09-29 20:19:16.122009: I metal_plugin/src/device/metal_device.cc:313] maxCacheSize: 2.67 GB\n",
      "2024-09-29 20:19:16.122968: I tensorflow/core/common_runtime/pluggable_device/pluggable_device_factory.cc:303] Could not identify NUMA node of platform GPU ID 0, defaulting to 0. Your kernel may not have been built with NUMA support.\n",
      "2024-09-29 20:19:16.124414: I tensorflow/core/common_runtime/pluggable_device/pluggable_device_factory.cc:269] Created TensorFlow device (/job:localhost/replica:0/task:0/device:GPU:0 with 0 MB memory) -> physical PluggableDevice (device: 0, name: METAL, pci bus id: <undefined>)\n",
      "WARNING:absl:At this time, the v2.11+ optimizer `tf.keras.optimizers.Adam` runs slowly on M1/M2 Macs, please use the legacy Keras optimizer instead, located at `tf.keras.optimizers.legacy.Adam`.\n",
      "WARNING:absl:There is a known slowdown when using v2.11+ Keras optimizers on M1/M2 Macs. Falling back to the legacy Keras optimizer, i.e., `tf.keras.optimizers.legacy.Adam`.\n"
     ]
    },
    {
     "name": "stdout",
     "output_type": "stream",
     "text": [
      "Epoch 1/2\n"
     ]
    },
    {
     "name": "stderr",
     "output_type": "stream",
     "text": [
      "2024-09-29 20:19:18.680559: I tensorflow/core/grappler/optimizers/custom_graph_optimizer_registry.cc:114] Plugin optimizer for device_type GPU is enabled.\n",
      "2024-09-29 20:19:19.089309: I tensorflow/core/grappler/optimizers/custom_graph_optimizer_registry.cc:114] Plugin optimizer for device_type GPU is enabled.\n",
      "2024-09-29 20:19:19.229242: I tensorflow/core/grappler/optimizers/custom_graph_optimizer_registry.cc:114] Plugin optimizer for device_type GPU is enabled.\n",
      "2024-09-29 20:19:19.340752: I tensorflow/core/grappler/optimizers/custom_graph_optimizer_registry.cc:114] Plugin optimizer for device_type GPU is enabled.\n",
      "2024-09-29 20:19:19.554520: I tensorflow/core/grappler/optimizers/custom_graph_optimizer_registry.cc:114] Plugin optimizer for device_type GPU is enabled.\n",
      "2024-09-29 20:19:19.738577: I tensorflow/core/grappler/optimizers/custom_graph_optimizer_registry.cc:114] Plugin optimizer for device_type GPU is enabled.\n"
     ]
    },
    {
     "name": "stdout",
     "output_type": "stream",
     "text": [
      " 3/78 [>.............................] - ETA: 1s - loss: 2.1535 - mae: 0.1684  "
     ]
    },
    {
     "name": "stderr",
     "output_type": "stream",
     "text": [
      "2024-09-29 20:19:19.918517: I tensorflow/core/grappler/optimizers/custom_graph_optimizer_registry.cc:114] Plugin optimizer for device_type GPU is enabled.\n"
     ]
    },
    {
     "name": "stdout",
     "output_type": "stream",
     "text": [
      "78/78 [==============================] - ETA: 0s - loss: 1.9902 - mae: 0.1397"
     ]
    },
    {
     "name": "stderr",
     "output_type": "stream",
     "text": [
      "2024-09-29 20:19:22.531764: I tensorflow/core/grappler/optimizers/custom_graph_optimizer_registry.cc:114] Plugin optimizer for device_type GPU is enabled.\n",
      "2024-09-29 20:19:22.674200: I tensorflow/core/grappler/optimizers/custom_graph_optimizer_registry.cc:114] Plugin optimizer for device_type GPU is enabled.\n",
      "2024-09-29 20:19:22.740257: I tensorflow/core/grappler/optimizers/custom_graph_optimizer_registry.cc:114] Plugin optimizer for device_type GPU is enabled.\n",
      "2024-09-29 20:19:22.799987: I tensorflow/core/grappler/optimizers/custom_graph_optimizer_registry.cc:114] Plugin optimizer for device_type GPU is enabled.\n"
     ]
    },
    {
     "name": "stdout",
     "output_type": "stream",
     "text": [
      "78/78 [==============================] - 6s 47ms/step - loss: 1.9902 - mae: 0.1397 - val_loss: 1.8090 - val_mae: 0.0182\n",
      "Epoch 2/2\n",
      "78/78 [==============================] - 3s 42ms/step - loss: 1.6967 - mae: 0.1152 - val_loss: 1.5460 - val_mae: 0.0201\n"
     ]
    }
   ],
   "source": [
    "\n",
    "\n",
    "model = Sequential()\n",
    "\n",
    "# Primo layer LSTM\n",
    "model.add(LSTM(units=100, return_sequences=True, input_shape=(X_train.shape[1], X_train.shape[2]))) \n",
    "model.add(Dropout(0.2)) \n",
    "model.add(BatchNormalization())\n",
    "\n",
    "# Secondo layer LSTM\n",
    "from keras.regularizers import l2\n",
    "\n",
    "# Add L2 regularization to LSTM layers\n",
    "model.add(LSTM(units=100, return_sequences=True, kernel_regularizer='l2'))  #l2(0.01)\n",
    "model.add(Dropout(0.4)) \n",
    "model.add(BatchNormalization())\n",
    "\n",
    "# Ultimo layer LSTM\n",
    "model.add(LSTM(units=50, return_sequences=False))  \n",
    "model.add(Dropout(0.3)) \n",
    "\n",
    "# Layer Dense\n",
    "model.add(Dense(units=50, kernel_regularizer='l2'))  # Aggiungi regolarizzazione L2\n",
    "model.add(LeakyReLU(alpha=0.1))\n",
    "model.add(Dropout(0.4))  # Ulteriore Dropout\n",
    "\n",
    "# Output layer\n",
    "model.add(Dense(units=1)) \n",
    "\n",
    "# Compila il modello\n",
    "model.compile(optimizer=Adam(learning_rate=0.0001), loss='mean_squared_error',metrics=['mae'] )\n",
    "\n",
    "# Aggiungi Early Stopping\n",
    "early_stopping = EarlyStopping(monitor='val_loss', patience=30, restore_best_weights=True)\n",
    "\n",
    "# Addestra il modello\n",
    "history = model.fit(X_train, y_train, validation_data=(X_val, y_val), \n",
    "                    epochs=2, batch_size=32, callbacks=[early_stopping])\n"
   ]
  },
  {
   "cell_type": "code",
   "execution_count": 21,
   "metadata": {},
   "outputs": [
    {
     "name": "stdout",
     "output_type": "stream",
     "text": [
      "47/47 [==============================] - 1s 14ms/step - loss: 1.5460 - mae: 0.0201\n",
      "Test Loss: 1.5459729433059692\n",
      "Test MAE: 0.020101752132177353\n"
     ]
    }
   ],
   "source": [
    "test_loss, test_mae = model.evaluate(X_val, y_val)\n",
    "print(f'Test Loss: {test_loss}')\n",
    "print(f'Test MAE: {test_mae}')\n"
   ]
  },
  {
   "cell_type": "code",
   "execution_count": 22,
   "metadata": {},
   "outputs": [
    {
     "data": {
      "image/png": "[encoded data removed]",
      "text/plain": [
       "<Figure size 1000x600 with 1 Axes>"
      ]
     },
     "metadata": {},
     "output_type": "display_data"
    }
   ],
   "source": [
    "\n",
    "plt.figure(figsize=(10, 6))\n",
    "plt.plot(history.history['mae'], label='Train MAE')  \n",
    "plt.plot(history.history['val_mae'], label='Validation MAE')  \n",
    "plt.title('Train and Val mae')\n",
    "plt.xlabel('Epochs')\n",
    "plt.ylabel('Mean Absolute Error')\n",
    "plt.legend()\n",
    "plt.show()\n"
   ]
  },
  {
   "cell_type": "code",
   "execution_count": 23,
   "metadata": {},
   "outputs": [
    {
     "data": {
      "image/png": "[encoded data removed]",
      "text/plain": [
       "<Figure size 1000x600 with 1 Axes>"
      ]
     },
     "metadata": {},
     "output_type": "display_data"
    }
   ],
   "source": [
    "\n",
    "plt.figure(figsize=(10, 6))\n",
    "plt.plot(history.history['loss'], label='Training Loss')  \n",
    "plt.plot(history.history['val_loss'], label='Validation Loss')  \n",
    "plt.title('Train val loss')\n",
    "plt.xlabel('Epochs')\n",
    "plt.ylabel('Loss')\n",
    "plt.legend()\n",
    "plt.show()\n"
   ]
  },
  {
   "cell_type": "code",
   "execution_count": 24,
   "metadata": {},
   "outputs": [
    {
     "name": "stderr",
     "output_type": "stream",
     "text": [
      "2024-09-29 20:19:28.997474: I tensorflow/core/grappler/optimizers/custom_graph_optimizer_registry.cc:114] Plugin optimizer for device_type GPU is enabled.\n",
      "2024-09-29 20:19:29.131622: I tensorflow/core/grappler/optimizers/custom_graph_optimizer_registry.cc:114] Plugin optimizer for device_type GPU is enabled.\n"
     ]
    },
    {
     "name": "stdout",
     "output_type": "stream",
     "text": [
      "10/55 [====>.........................] - ETA: 0s  "
     ]
    },
    {
     "name": "stderr",
     "output_type": "stream",
     "text": [
      "2024-09-29 20:19:29.216573: I tensorflow/core/grappler/optimizers/custom_graph_optimizer_registry.cc:114] Plugin optimizer for device_type GPU is enabled.\n",
      "2024-09-29 20:19:29.277083: I tensorflow/core/grappler/optimizers/custom_graph_optimizer_registry.cc:114] Plugin optimizer for device_type GPU is enabled.\n"
     ]
    },
    {
     "name": "stdout",
     "output_type": "stream",
     "text": [
      "55/55 [==============================] - 1s 5ms/step\n"
     ]
    }
   ],
   "source": [
    "# Make predictions on the test set\n",
    "y_pred_test = model.predict(X_test)  # Generate predictions using the trained model on the test data\n",
    "\n",
    "# Inverse scaling of predictions and actual values\n",
    "# Combine features and predicted values, then inverse transform to get original scale\n",
    "y_pred_test_inverse = scaler.inverse_transform(np.hstack((X_test.reshape(X_test.shape[0], -1), y_pred_test)))\n",
    "y_test_inverse = scaler.inverse_transform(np.hstack((X_test.reshape(X_test.shape[0], -1), y_test.reshape(-1, 1))))\n",
    "\n",
    "# Create a DataFrame for the predicted and actual sales\n",
    "predictions_df = pd.DataFrame({\n",
    "    'Year-Month': test_data.index,  # Use the index from the test data for the Year-Month\n",
    "    'Real Sales': y_test_inverse[:, -1],  # Last column for 'Sales' values\n",
    "    'Predicted Sales': y_pred_test_inverse[:, -1]  # Last column for predicted 'Sales'\n",
    "})\n",
    "\n",
    "#* ############## Convert dummy columns to categorical columns\n",
    "#* ######################################################################\n",
    "\n",
    "state_columns = [col for col in test_data.columns if 'State_' in col]  # Identify state dummy columns\n",
    "sub_cat_columns = [col for col in test_data.columns if 'Sub-Category_' in col]  # Identify sub-category dummy columns\n",
    "\n",
    "dummy_data = test_data[state_columns + sub_cat_columns]  # Extract dummy columns\n",
    "decoded_data = pd.DataFrame(scaler.inverse_transform(dummy_data), columns=dummy_data.columns)  # Inverse scale the dummy data\n",
    "\n",
    "decoded_data['State'] = decoded_data[state_columns].idxmax(axis=1).str.replace('State_', '')  # Get the original state names\n",
    "decoded_data['Sub-Category'] = decoded_data[sub_cat_columns].idxmax(axis=1).str.replace('Sub-Category_', '')  # Get the original sub-category names\n",
    "\n",
    "#* ######################################################################\n",
    "#* ######################################################################\n",
    "\n",
    "# Add 'State' and 'Sub-Category' columns to the predictions DataFrame\n",
    "predictions_df = pd.concat([predictions_df, decoded_data[['State', 'Sub-Category']]], axis=1)\n",
    "\n",
    "# 1. Group the original DataFrame df by Year-Month, State, and Sub-Category and sum sales\n",
    "df_grouped = df.groupby(['Year-Month', 'State', 'Sub-Category'])['Sales'].sum().reset_index()  # Aggregate sales data\n",
    "\n",
    "# Merge the predictionsaFr with the aggregated data\n",
    "predictions_df = predictions_df.merge(df_grouped, on=['Year-Month', 'State', 'Sub-Category'], how='left', suffixes=('', '_agg'))\n",
    "\n",
    "predictions_df.rename(columns={'Sales': 'Aggregated Sales'}, inplace=True)  # Rename the sales column for clarity\n"
   ]
  },
  {
   "cell_type": "code",
   "execution_count": 25,
   "metadata": {},
   "outputs": [],
   "source": [
    "df_grouped = df.groupby(['Year-Month', 'State'])['Sales'].sum().reset_index()  # Aggregate sales data\n",
    "\n",
    "grouped_predictions = predictions_df.groupby(['State', 'Year-Month']).agg({\n",
    "    'Real Sales': 'sum',  \n",
    "    'Predicted Sales': 'sum' \n",
    "}).reset_index() "
   ]
  },
  {
   "cell_type": "code",
   "execution_count": 26,
   "metadata": {},
   "outputs": [
    {
     "name": "stdout",
     "output_type": "stream",
     "text": [
      "Figures saved in the directory: lstm_state_sales_figures\n"
     ]
    }
   ],
   "source": [
    "# Convert 'Year-Month' to datetime format for plotting\n",
    "if pd.api.types.is_period_dtype(grouped_predictions['Year-Month']):\n",
    "    grouped_predictions['Year-Month'] = grouped_predictions['Year-Month'].dt.to_timestamp()\n",
    "else:\n",
    "    grouped_predictions['Year-Month'] = pd.to_datetime(grouped_predictions['Year-Month'], format='%Y-%m')\n",
    "\n",
    "# Create a directory to save figures\n",
    "output_dir = 'lstm_state_sales_figures'\n",
    "os.makedirs(output_dir, exist_ok=True)\n",
    "\n",
    "# Get the list of unique states\n",
    "states = grouped_predictions['State'].unique()\n",
    "\n",
    "# Define a common date range from January 2018 to December 2018\n",
    "full_date_range = pd.date_range(start='2018-01-01', end='2018-12-01', freq='MS')\n",
    "\n",
    "# Generate and save a plot for each state\n",
    "for state in states:\n",
    "    # Filter data for the current state\n",
    "    state_data = grouped_predictions[grouped_predictions['State'] == state]\n",
    "\n",
    "    # Set 'Year-Month' as the index\n",
    "    state_data.set_index('Year-Month', inplace=True)\n",
    "    \n",
    "    # Reindex the state data to include all months from 2018-01 to 2018-12, filling NaNs with 0\n",
    "    state_data = state_data.reindex(full_date_range, fill_value=0)\n",
    "    \n",
    "    # Create the plot\n",
    "    plt.figure(figsize=(12, 6))\n",
    "    plt.plot(state_data.index, state_data['Predicted Sales'], label='Sales Prediction', marker='o', color='blue')\n",
    "    plt.plot(state_data.index, state_data['Real Sales'], label='Sales Actual', marker='o', color='orange')\n",
    "    plt.title(f'Sales Prediction vs Actual Sales for {state} (2018)')\n",
    "    plt.xlabel('Year-Month')\n",
    "    plt.ylabel('Sales')\n",
    "    plt.legend()\n",
    "    plt.grid(True)\n",
    "    plt.xticks(rotation=45)\n",
    "    plt.tight_layout()\n",
    "    \n",
    "    # Save the plot to the specified directory\n",
    "    file_path = os.path.join(output_dir, f'{state}.png')\n",
    "    plt.savefig(file_path)\n",
    "    plt.close()  # Close the figure to free up memory\n",
    "\n",
    "print(f'Figures saved in the directory: {output_dir}')\n"
   ]
  },
  {
   "cell_type": "code",
   "execution_count": 27,
   "metadata": {},
   "outputs": [
    {
     "name": "stdout",
     "output_type": "stream",
     "text": [
      "Model: \"sequential\"\n",
      "_________________________________________________________________\n",
      " Layer (type)                Output Shape              Param #   \n",
      "=================================================================\n",
      " lstm (LSTM)                 (None, 1, 100)            66000     \n",
      "                                                                 \n",
      " dropout (Dropout)           (None, 1, 100)            0         \n",
      "                                                                 \n",
      " batch_normalization (Batch  (None, 1, 100)            400       \n",
      " Normalization)                                                  \n",
      "                                                                 \n",
      " lstm_1 (LSTM)               (None, 1, 100)            80400     \n",
      "                                                                 \n",
      " dropout_1 (Dropout)         (None, 1, 100)            0         \n",
      "                                                                 \n",
      " batch_normalization_1 (Bat  (None, 1, 100)            400       \n",
      " chNormalization)                                                \n",
      "                                                                 \n",
      " lstm_2 (LSTM)               (None, 50)                30200     \n",
      "                                                                 \n",
      " dropout_2 (Dropout)         (None, 50)                0         \n",
      "                                                                 \n",
      " dense (Dense)               (None, 50)                2550      \n",
      "                                                                 \n",
      " leaky_re_lu (LeakyReLU)     (None, 50)                0         \n",
      "                                                                 \n",
      " dropout_3 (Dropout)         (None, 50)                0         \n",
      "                                                                 \n",
      " dense_1 (Dense)             (None, 1)                 51        \n",
      "                                                                 \n",
      "=================================================================\n",
      "Total params: 180001 (703.13 KB)\n",
      "Trainable params: 179601 (701.57 KB)\n",
      "Non-trainable params: 400 (1.56 KB)\n",
      "_________________________________________________________________\n"
     ]
    }
   ],
   "source": [
    "model.summary()\n"
   ]
  },
  {
   "cell_type": "markdown",
   "metadata": {},
   "source": [
    "# GROUND TRUTH & ESAMBLE"
   ]
  },
  {
   "cell_type": "code",
   "execution_count": 28,
   "metadata": {},
   "outputs": [],
   "source": [
    "df_real = df.groupby(['Year-Month', 'State'])['Sales'].sum().reset_index()"
   ]
  },
  {
   "cell_type": "code",
   "execution_count": 29,
   "metadata": {},
   "outputs": [],
   "source": [
    "\n",
    "df_real['Year-Month'] = df_real['Year-Month'].astype(str)\n",
    "\n",
    "# Ensure 'Year-Month' is a string in both DataFrames\n",
    "grouped_predictions['Year-Month'] = grouped_predictions['Year-Month'].astype(str)\n",
    "prediction_and_actuals['Year-Month'] = prediction_and_actuals['Year-Month'].astype(str)\n",
    "\n",
    "# Remove the last 3 characters from 'Year-Month'\n",
    "grouped_predictions['Year-Month'] = grouped_predictions['Year-Month'].str[:-3]\n",
    "prediction_and_actuals['Year-Month'] = prediction_and_actuals['Year-Month'].str[:-3]\n",
    "\n",
    "\n"
   ]
  },
  {
   "cell_type": "code",
   "execution_count": 30,
   "metadata": {},
   "outputs": [
    {
     "name": "stdout",
     "output_type": "stream",
     "text": [
      "       State Year-Month        Sales  lstm_Predicted_Sales\n",
      "0    Arizona    2018-01   100.922000           1782.603516\n",
      "1    Arizona    2018-02  1112.044723           2675.407227\n",
      "2    Arizona    2018-03          NaN                   NaN\n",
      "3    Arizona    2018-04   560.896000           2255.750488\n",
      "4    Arizona    2018-05  1087.963897           2702.619385\n",
      "..       ...        ...          ...                   ...\n",
      "583  Wyoming    2018-08          NaN                   NaN\n",
      "584  Wyoming    2018-09          NaN                   NaN\n",
      "585  Wyoming    2018-10          NaN                   NaN\n",
      "586  Wyoming    2018-11          NaN                   NaN\n",
      "587  Wyoming    2018-12          NaN                   NaN\n",
      "\n",
      "[588 rows x 4 columns]\n"
     ]
    }
   ],
   "source": [
    "\n",
    "# Rename columns for LSTM model\n",
    "df_lstm = grouped_predictions.rename(columns={\n",
    "    'Predicted Sales': 'lstm_Predicted_Sales',\n",
    "})\n",
    "\n",
    "# Rename columns for SARIMA model\n",
    "df_sarima = prediction_and_actuals.rename(columns={\n",
    "    'Sales_Prediction': 'sarima_Sales_Prediction',\n",
    "})\n",
    "\n",
    "# Create a list of all months in string format for 2018\n",
    "months_2018 = pd.date_range(start='2018-01-01', end='2018-12-31', freq='M').strftime('%Y-%m').tolist()\n",
    "\n",
    "# Get all unique states from the dataframes\n",
    "all_states = pd.concat([df_lstm['State'], df_sarima['State'], df_real['State']]).unique()\n",
    "\n",
    "# Create all possible combinations of states and Year-Months\n",
    "state_month_combinations = pd.MultiIndex.from_product([all_states, months_2018], names=['State', 'Year-Month']).to_frame(index=False)\n",
    "\n",
    "# Merge with real data\n",
    "ground_truth = pd.merge(state_month_combinations, df_real, on=['State', 'Year-Month'], how='left')\n",
    "\n",
    "# Merge with LSTM predictions\n",
    "ground_truth = pd.merge(ground_truth, df_lstm[['State', 'Year-Month',  'lstm_Predicted_Sales']], \n",
    "                         on=['State', 'Year-Month'], how='left')\n",
    "\n",
    "\n",
    "\n",
    "\n",
    "# Display the final result\n"
   ]
  },
  {
   "cell_type": "code",
   "execution_count": 31,
   "metadata": {},
   "outputs": [
    {
     "name": "stdout",
     "output_type": "stream",
     "text": [
      "       State Year-Month        Sales  lstm_Predicted_Sales  \\\n",
      "0    Arizona    2018-01   100.922000           1782.603516   \n",
      "1    Arizona    2018-02  1112.044723           2675.407227   \n",
      "2    Arizona    2018-03     0.000000              0.000000   \n",
      "3    Arizona    2018-04   560.896000           2255.750488   \n",
      "4    Arizona    2018-05  1087.963897           2702.619385   \n",
      "..       ...        ...          ...                   ...   \n",
      "583  Wyoming    2018-08     0.000000              0.000000   \n",
      "584  Wyoming    2018-09     0.000000              0.000000   \n",
      "585  Wyoming    2018-10     0.000000              0.000000   \n",
      "586  Wyoming    2018-11     0.000000              0.000000   \n",
      "587  Wyoming    2018-12     0.000000              0.000000   \n",
      "\n",
      "     sarima_Sales_Prediction     ensemble  \n",
      "0                 130.853585   956.728550  \n",
      "1                2703.108032  2689.257629  \n",
      "2                   0.000000     0.000000  \n",
      "3                1151.432516  1703.591502  \n",
      "4                1928.195044  2315.407214  \n",
      "..                       ...          ...  \n",
      "583                 0.000000     0.000000  \n",
      "584                 0.000000     0.000000  \n",
      "585                 0.000000     0.000000  \n",
      "586                 0.000000     0.000000  \n",
      "587                 0.000000     0.000000  \n",
      "\n",
      "[588 rows x 6 columns]\n"
     ]
    }
   ],
   "source": [
    "# Merge with SARIMA data\n",
    "ground_truth = pd.merge(ground_truth, df_sarima[['State', 'Year-Month', 'sarima_Sales_Prediction']], \n",
    "                         on=['State', 'Year-Month'], how='left')\n",
    "\n",
    "# Select relevant columns for the final result\n",
    "ground_truth = ground_truth[['State', 'Year-Month', 'Sales', 'lstm_Predicted_Sales', 'sarima_Sales_Prediction']]\n",
    "\n",
    "# Calculate average between LSTM and SARIMA to create \"ensemble\" column\n",
    "ground_truth['ensemble'] = ground_truth[['lstm_Predicted_Sales', 'sarima_Sales_Prediction']].mean(axis=1)\n",
    "\n",
    "# fill na with 0 all the dataset ground_thrut\n",
    "ground_truth = ground_truth.fillna(0)\n",
    "\n",
    "print(ground_truth)\n"
   ]
  },
  {
   "cell_type": "code",
   "execution_count": 32,
   "metadata": {},
   "outputs": [
    {
     "name": "stdout",
     "output_type": "stream",
     "text": [
      "Metrics calculation completed and results saved to 'models_results_outputs.csv'.\n"
     ]
    }
   ],
   "source": [
    "import numpy as np\n",
    "import pandas as pd\n",
    "\n",
    "# Calculate weighted average between LSTM and SARIMA\n",
    "weight_lstm = 0.3  # LSTM weight\n",
    "weight_sarima = 0.7  # SARIMA weight\n",
    "ground_truth['weighted_ensemble'] = (ground_truth['lstm_Predicted_Sales'] * weight_lstm +\n",
    "                                      ground_truth['sarima_Sales_Prediction'] * weight_sarima)\n",
    "\n",
    "# Define function to calculate RMSE, MSE, and MAE for each state\n",
    "def calculate_metrics(df, prediction_col):\n",
    "    # Remove rows with null values\n",
    "    df = df.dropna(subset=['Sales', prediction_col])\n",
    "\n",
    "    # Calculate RMSE\n",
    "    rmse = np.sqrt(np.mean((df['Sales'] - df[prediction_col]) ** 2))\n",
    "    \n",
    "    # Calculate MSE\n",
    "    mse = np.mean((df['Sales'] - df[prediction_col]) ** 2)\n",
    "\n",
    "    # Calculate MAE\n",
    "    mae = np.mean(np.abs(df['Sales'] - df[prediction_col]))\n",
    "\n",
    "    return rmse, mse, mae\n",
    "\n",
    "# Step: Calculate metrics for each state and year-month\n",
    "metrics_results = []\n",
    "\n",
    "# Group by both 'State' and 'Year-Month' and calculate metrics for each group\n",
    "for (state, year_month), group in ground_truth.groupby(['State', 'Year-Month']):\n",
    "    # Calculate metrics for weighted ensemble\n",
    "    rmse_weighted, mse_weighted, mae_weighted = calculate_metrics(group, 'weighted_ensemble')\n",
    "    \n",
    "    # Calculate metrics for LSTM predictions\n",
    "    rmse_lstm, mse_lstm, mae_lstm = calculate_metrics(group, 'lstm_Predicted_Sales')\n",
    "    \n",
    "    # Calculate metrics for SARIMA predictions\n",
    "    rmse_sarima, mse_sarima, mae_sarima = calculate_metrics(group, 'sarima_Sales_Prediction')\n",
    "\n",
    "    # Append results for the state along with the actual values\n",
    "    metrics_results.append({\n",
    "        'State': state,\n",
    "        'Year-Month': year_month,  # Include Year-Month in results\n",
    "        'SARIMA_Sales_Prediction': group['sarima_Sales_Prediction'].mean(),  # Average for each state and month\n",
    "        'LSTM_Predicted_Sales': group['lstm_Predicted_Sales'].mean(),  # Average for each state and month\n",
    "        'Weighted_Ensemble': group['weighted_ensemble'].mean(),         # Average for each state and month\n",
    "        'RMSE_Weighted_Ensemble': rmse_weighted,\n",
    "        'MSE_Weighted_Ensemble': mse_weighted,\n",
    "        'MAE_Weighted_Ensemble': mae_weighted,\n",
    "        'RMSE_LSTM': rmse_lstm,\n",
    "        'MSE_LSTM': mse_lstm,\n",
    "        'MAE_LSTM': mae_lstm,\n",
    "        'RMSE_SARIMA': rmse_sarima,\n",
    "        'MSE_SARIMA': mse_sarima,\n",
    "        'MAE_SARIMA': mae_sarima,\n",
    "        'Sales': group['Sales'].mean()                                    # Average for each state and month\n",
    "    })\n",
    "\n",
    "# Create a DataFrame from the results\n",
    "metrics_df = pd.DataFrame(metrics_results)\n",
    "\n",
    "# Save the results to a CSV file\n",
    "metrics_df.to_csv('models_results_outputs.csv', index=False)\n",
    "\n",
    "print(\"Metrics calculation completed and results saved to 'models_results_outputs.csv'.\")\n"
   ]
  },
  {
   "cell_type": "code",
   "execution_count": null,
   "metadata": {},
   "outputs": [],
   "source": [
    "import numpy as np\n",
    "import pandas as pd\n",
    "\n",
    "# Calculate weighted average between LSTM and SARIMA\n",
    "weight_lstm = 0.3  # LSTM weight\n",
    "weight_sarima = 0.7  # SARIMA weight\n",
    "ground_truth['weighted_ensemble'] = (ground_truth['lstm_Predicted_Sales'] * weight_lstm +\n",
    "                                      ground_truth['sarima_Sales_Prediction'] * weight_sarima)\n",
    "\n",
    "# Define function to calculate RMSE, MSE, and MAE for each state\n",
    "def calculate_metrics(df, prediction_col):\n",
    "    # Remove rows with null values\n",
    "    df = df.dropna(subset=['Sales', prediction_col])\n",
    "\n",
    "    # Calculate RMSE\n",
    "    rmse = np.sqrt(np.mean((df['Sales'] - df[prediction_col]) ** 2))\n",
    "    \n",
    "    # Calculate MSE\n",
    "    mse = np.mean((df['Sales'] - df[prediction_col]) ** 2)\n",
    "\n",
    "    # Calculate MAE\n",
    "    mae = np.mean(np.abs(df['Sales'] - df[prediction_col]))\n",
    "\n",
    "    return rmse, mse, mae\n",
    "\n",
    "# Step: Calculate metrics for each state\n",
    "metrics_results = []\n",
    "\n",
    "# Group by 'State' and calculate metrics for each group\n",
    "for state, group in ground_truth.groupby('State'):\n",
    "    # Calculate metrics for weighted ensemble\n",
    "    rmse_weighted, mse_weighted, mae_weighted = calculate_metrics(group, 'weighted_ensemble')\n",
    "    \n",
    "    # Calculate metrics for LSTM predictions\n",
    "    rmse_lstm, mse_lstm, mae_lstm = calculate_metrics(group, 'lstm_Predicted_Sales')\n",
    "    \n",
    "    # Calculate metrics for SARIMA predictions\n",
    "    rmse_sarima, mse_sarima, mae_sarima = calculate_metrics(group, 'sarima_Sales_Prediction')\n",
    "\n",
    "    # Append results for the state along with the actual values\n",
    "    metrics_results.append({\n",
    "        'State': state,\n",
    "        'SARIMA_Sales_Prediction': group['sarima_Sales_Prediction'].mean(),  # Average for each state\n",
    "        'LSTM_Predicted_Sales': group['lstm_Predicted_Sales'].mean(),  # Average for each state\n",
    "        'Weighted_Ensemble': group['weighted_ensemble'].mean(),         # Average for each state\n",
    "        'RMSE_Weighted_Ensemble': rmse_weighted,\n",
    "        'MSE_Weighted_Ensemble': mse_weighted,\n",
    "        'MAE_Weighted_Ensemble': mae_weighted,\n",
    "        'RMSE_LSTM': rmse_lstm,\n",
    "        'MSE_LSTM': mse_lstm,\n",
    "        'MAE_LSTM': mae_lstm,\n",
    "        'RMSE_SARIMA': rmse_sarima,\n",
    "        'MSE_SARIMA': mse_sarima,\n",
    "        'MAE_SARIMA': mae_sarima,\n",
    "        'Sales': group['Sales'].mean()                                    # Average for each state\n",
    "    })\n",
    "\n",
    "# Create a DataFrame from the results\n",
    "metrics_df = pd.DataFrame(metrics_results)\n",
    "\n",
    "# Save the results to a CSV file\n",
    "metrics_df.to_csv('models_results_outputs_state.csv', index=False)\n",
    "\n"
   ]
  },
  {
   "cell_type": "code",
   "execution_count": null,
   "metadata": {},
   "outputs": [],
   "source": [
    "metrics_df"
   ]
  },
  {
   "cell_type": "code",
   "execution_count": null,
   "metadata": {},
   "outputs": [],
   "source": [
    "import os\n",
    "import pandas as pd\n",
    "import matplotlib.pyplot as plt\n",
    "\n",
    "# Convert 'Year-Month' to datetime format for plotting in ground_truth\n",
    "if pd.api.types.is_period_dtype(ground_truth['Year-Month']):\n",
    "    ground_truth['Year-Month'] = ground_truth['Year-Month'].dt.to_timestamp()\n",
    "else:\n",
    "    ground_truth['Year-Month'] = pd.to_datetime(ground_truth['Year-Month'], format='%Y-%m')\n",
    "\n",
    "# Create a directory to save figures\n",
    "output_dir = 'esamble_state_sales_figures'\n",
    "os.makedirs(output_dir, exist_ok=True)\n",
    "\n",
    "# Get the list of unique states\n",
    "states = ground_truth['State'].unique()\n",
    "\n",
    "# Define a common date range from January 2018 to December 2018\n",
    "full_date_range = pd.date_range(start='2018-01-01', end='2018-12-01', freq='MS')\n",
    "\n",
    "# Generate and save a plot for each state\n",
    "for state in states:\n",
    "    # Filter data for the current state\n",
    "    state_data = ground_truth[ground_truth['State'] == state]\n",
    "\n",
    "    # Set 'Year-Month' as the index\n",
    "    state_data.set_index('Year-Month', inplace=True)\n",
    "    \n",
    "    # Reindex the state data to include all months from 2018-01 to 2018-12, filling NaNs with 0\n",
    "    state_data = state_data.reindex(full_date_range, fill_value=0)\n",
    "    \n",
    "    # Create the plot\n",
    "    plt.figure(figsize=(12, 6))\n",
    "    plt.plot(state_data.index, state_data['weighted_ensemble'], label='Weighted Ensemble', marker='o', color='blue')\n",
    "    plt.plot(state_data.index, state_data['Sales'], label='Sales Actual', marker='o', color='orange')\n",
    "    plt.title(f'Sales Prediction vs Actual Sales for {state} (2018)')\n",
    "    plt.xlabel('Year-Month')\n",
    "    plt.ylabel('Sales')\n",
    "    plt.legend()\n",
    "    plt.grid(True)\n",
    "    plt.xticks(rotation=45)\n",
    "    plt.tight_layout()\n",
    "    \n",
    "    # Save the plot to the specified directory\n",
    "    file_path = os.path.join(output_dir, f'{state}.png')\n",
    "    plt.savefig(file_path)\n",
    "    plt.close()  # Close the figure to free up memory\n",
    "\n",
    "print(f'Figures saved in the directory: {output_dir}')\n"
   ]
  }
 ],
 "metadata": {
  "kernelspec": {
   "display_name": "Python 3.10 (tensorflow)",
   "language": "python",
   "name": "tensorflow"
  },
  "language_info": {
   "codemirror_mode": {
    "name": "ipython",
    "version": 3
   },
   "file_extension": ".py",
   "mimetype": "text/x-python",
   "name": "python",
   "nbconvert_exporter": "python",
   "pygments_lexer": "ipython3",
   "version": "3.10.12"
  }
 },
 "nbformat": 4,
 "nbformat_minor": 2
}
