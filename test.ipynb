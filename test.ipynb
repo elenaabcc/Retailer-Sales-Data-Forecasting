{
 "cells": [
  {
   "cell_type": "code",
   "execution_count": 1,
   "metadata": {},
   "outputs": [],
   "source": [
    "import pandas as pd\n",
    "from statsmodels.tsa.statespace.sarimax import SARIMAX\n",
    "from sklearn.metrics import mean_absolute_error, mean_squared_error\n",
    "import numpy as np\n",
    "\n",
    "import pandas as pd\n",
    "\n",
    "df = pd.read_csv('Retailer Sales Data.csv')\n",
    "df['Order Date'] = pd.to_datetime(df['Order Date'], format='%d/%m/%Y')\n",
    "df['Ship Date'] = pd.to_datetime(df['Ship Date'], format='%d/%m/%Y')\n"
   ]
  },
  {
   "cell_type": "markdown",
   "metadata": {},
   "source": [
    "# ETL PROCESS"
   ]
  },
  {
   "cell_type": "code",
   "execution_count": 12,
   "metadata": {},
   "outputs": [
    {
     "name": "stdout",
     "output_type": "stream",
     "text": [
      "Number of missing values on 'Ship Date' and 'Order Date': 0\n",
      "Missing months of sales: PeriodIndex([], dtype='period[M]')\n"
     ]
    }
   ],
   "source": [
    "\n",
    "#! Handling the order date missing values\n",
    "\n",
    "print( \"Number of missing values on 'Ship Date' and 'Order Date':\", df[df['Ship Date'].isnull() & df['Order Date'].isnull()].shape[0])\n",
    "\n",
    "df['Shipping_days'] = df['Ship Date'] - df['Order Date'] \n",
    "\n",
    "\n",
    "# PRINT THE average of (df['Shipping_days']) \n",
    "avg_shipping_days = df['Shipping_days'].mean()\n",
    "\n",
    "# Se \"Order Date\" è mancante, sostituiscilo con \"Ship Date\" meno la media dei giorni di spedizione\n",
    "df.loc[df['Order Date'].isnull(), 'Order Date'] = df['Ship Date'] - pd.to_timedelta(avg_shipping_days, unit='D')\n",
    "\n",
    "\n",
    "# Drop 'Order Date' row if Nan\n",
    "df = df[df['Order Date'].notna()]\n",
    "\n",
    "#df['Order Date'].isna().value_counts()\n",
    "\"\"\"\n",
    "False    9301\n",
    "True      499\n",
    "\n",
    "False    9786\n",
    "True       14\n",
    "\"\"\"\n",
    "\n",
    "#  Convert Order Date to `year-month` level\n",
    "df['Year-Month'] = df['Order Date'].dt.to_period('M')\n",
    "\n",
    "print(\"Missing months of sales:\",\n",
    "    pd.period_range(start=df['Year-Month'].min(), \n",
    "                                 end=df['Year-Month'].max(), \n",
    "                                 freq='M').difference(df['Year-Month']))\n",
    "\n",
    "del avg_shipping_days\n"
   ]
  },
  {
   "cell_type": "code",
   "execution_count": 13,
   "metadata": {},
   "outputs": [
    {
     "name": "stdout",
     "output_type": "stream",
     "text": [
      "Number of missing values on 'Sales' and 'Sub-Category': 23\n"
     ]
    }
   ],
   "source": [
    "\n",
    "#! Handle missing values of Sales\n",
    "print( \"Number of missing values on 'Sales' and 'Sub-Category':\", df[df['Sales'].isnull() & df['Sub-Category'].isnull()].shape[0])\n",
    "\n",
    "# create a new df called \"product_price\" and group by Sub-Category' and get the average Sales\n",
    "product_price_sub_cat = df.groupby('Sub-Category')['Sales'].mean().reset_index()\n",
    "product_price_cat = df.groupby('Category')['Sales'].mean().reset_index()\n",
    "\n",
    "# if sales is missing assign the average price of the sub-category to sales\n",
    "\n",
    "df['Sales'] = df['Sales'].fillna(df['Sub-Category'].map(product_price_sub_cat.set_index('Sub-Category')['Sales']))\n",
    "df['Sales'] = df['Sales'].fillna(df['Category'].map(product_price_cat.set_index('Category')['Sales']))\n",
    "df = df[df['Sales'].notna()]\n",
    "\n",
    "del product_price_sub_cat\n",
    "del product_price_cat"
   ]
  },
  {
   "cell_type": "code",
   "execution_count": 16,
   "metadata": {},
   "outputs": [
    {
     "data": {
      "text/plain": [
       "False    9296\n",
       "True      488\n",
       "Name: State, dtype: int64"
      ]
     },
     "execution_count": 16,
     "metadata": {},
     "output_type": "execute_result"
    }
   ],
   "source": [
    "df['State'].isna().value_counts()"
   ]
  },
  {
   "cell_type": "code",
   "execution_count": 38,
   "metadata": {},
   "outputs": [
    {
     "data": {
      "text/plain": [
       "False    9781\n",
       "Name: State, dtype: int64"
      ]
     },
     "execution_count": 38,
     "metadata": {},
     "output_type": "execute_result"
    }
   ],
   "source": [
    "# Check if count cUSTOMER ID has more than one 'Customer Name'\n",
    "(df.groupby('Customer ID')['Customer Name'].nunique() > 1).sum()\n",
    "\n",
    "state_fill_dict = df.dropna(subset=['State']).groupby('Customer ID')['State'].first().to_dict()\n",
    "\n",
    "# Passo 2: Usa il dizionario per riempire i valori mancanti nella colonna 'State'\n",
    "df['State'] = df.apply(\n",
    "    lambda row: state_fill_dict.get(row['Customer ID'], row['State']) \n",
    "    if pd.isna(row['State']) \n",
    "    else row['State'], \n",
    "    axis=1\n",
    ")\n",
    "\n",
    "city_fill_dict = df.dropna(subset=['State', 'Country']).groupby('Country')['State'].first().to_dict()\n",
    "\n",
    "# Passo 2: Riempi i valori mancanti nella colonna 'State' basati su 'Country'\n",
    "df['State'] = df.apply(\n",
    "    lambda row: city_fill_dict.get(row['Country'], row['State']) \n",
    "    if pd.isna(row['State']) and not pd.isna(row['Country']) \n",
    "    else row['State'], \n",
    "    axis=1\n",
    ")\n",
    "\n",
    "df = df[df['State'].notna()]\n",
    "\n",
    "df['State'].isna().value_counts()\n",
    "\n",
    "del city_fill_dict\n",
    "del state_fill_dict\n"
   ]
  },
  {
   "cell_type": "markdown",
   "metadata": {},
   "source": [
    "# MODELS"
   ]
  },
  {
   "cell_type": "code",
   "execution_count": 14,
   "metadata": {},
   "outputs": [
    {
     "name": "stdout",
     "output_type": "stream",
     "text": [
      "2015-01 2018-12\n"
     ]
    }
   ],
   "source": [
    "print(df['Year-Month'].min(), df['Year-Month'].max())"
   ]
  },
  {
   "cell_type": "code",
   "execution_count": null,
   "metadata": {},
   "outputs": [],
   "source": []
  },
  {
   "cell_type": "code",
   "execution_count": 18,
   "metadata": {},
   "outputs": [
    {
     "data": {
      "text/plain": [
       "Index(['Row ID', 'Order ID', 'Order Date', 'Ship Date', 'Ship Mode',\n",
       "       'Customer ID', 'Customer Name', 'Segment', 'Country', 'City', 'State',\n",
       "       'Postal Code', 'Region', 'Product ID', 'Category', 'Sub-Category',\n",
       "       'Product Name', 'Sales', 'Shipping_days', 'Year-Month'],\n",
       "      dtype='object')"
      ]
     },
     "execution_count": 18,
     "metadata": {},
     "output_type": "execute_result"
    }
   ],
   "source": [
    "df.columns\n"
   ]
  },
  {
   "cell_type": "code",
   "execution_count": null,
   "metadata": {},
   "outputs": [],
   "source": []
  }
 ],
 "metadata": {
  "kernelspec": {
   "display_name": "Python 3.10 (tensorflow)",
   "language": "python",
   "name": "tensorflow"
  },
  "language_info": {
   "codemirror_mode": {
    "name": "ipython",
    "version": 3
   },
   "file_extension": ".py",
   "mimetype": "text/x-python",
   "name": "python",
   "nbconvert_exporter": "python",
   "pygments_lexer": "ipython3",
   "version": "3.10.12"
  }
 },
 "nbformat": 4,
 "nbformat_minor": 2
}
