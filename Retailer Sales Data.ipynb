{
 "cells": [
  {
   "cell_type": "markdown",
   "metadata": {},
   "source": [
    "### Retailer Sales Data Forecasting\n",
    "\n",
    "This dataset contains the daily sales data of a US retailer.  \n",
    "Your objective is to forecast the total sales for each State over the next 12 months, using the historical data provided.\n"
   ]
  },
  {
   "cell_type": "markdown",
   "metadata": {},
   "source": [
    "### Part 1: Top-Down Approach\n",
    "\n",
    "1. **Aggregate Sales:**  \n",
    "   Combine the sales data to create total sales at the `year-month` level, using the `Order Date` as the time variable for aggregation.\n",
    "\n",
    "\n",
    "2. **Train a Model:**  \n",
    "   Using the aggregated `year-month` data, train a model to forecast the total sales for the next 12 months.  \n",
    "   *(The choice of model is up to you.)*\n",
    "\n",
    "3. **Disaggregate Predictions:**  \n",
    "   Split the predicted sales from the `year-month` level back to the `year-month-State` level.  \n",
    "   *(The splitting strategy is up to you.)*\n",
    "\n",
    "4. **Evaluate Accuracy:**  \n",
    "   Assess the forecast accuracy at both the `year-month` and `year-month-State` levels.\n"
   ]
  },
  {
   "cell_type": "markdown",
   "metadata": {},
   "source": [
    "# ____________________________________________________________"
   ]
  },
  {
   "cell_type": "markdown",
   "metadata": {},
   "source": [
    "### Part 2: Alternative Approach\n",
    "\n",
    "- Implement a different approach to forecast the next 12 months of sales at the `year-month-State` level.\n"
   ]
  },
  {
   "cell_type": "markdown",
   "metadata": {},
   "source": [
    "# ____________________________________________________________"
   ]
  },
  {
   "cell_type": "code",
   "execution_count": 1,
   "metadata": {},
   "outputs": [],
   "source": [
    "# Libraries\n",
    "import pandas as pd\n",
    "from statsmodels.tsa.statespace.sarimax import SARIMAX\n",
    "from sklearn.metrics import mean_absolute_error, mean_squared_error\n",
    "import numpy as np\n",
    "import matplotlib.pyplot as plt\n",
    "\n"
   ]
  },
  {
   "cell_type": "markdown",
   "metadata": {},
   "source": [
    "# ETL"
   ]
  },
  {
   "cell_type": "code",
   "execution_count": 2,
   "metadata": {},
   "outputs": [],
   "source": [
    "# Load the dataset\n",
    "df = pd.read_csv('Retailer Sales Data.csv')\n",
    "\n",
    "# Convert 'Order Date' and 'Ship Date' columns to datetime format\n",
    "df['Order Date'] = pd.to_datetime(df['Order Date'], format='%d/%m/%Y')\n",
    "df['Ship Date'] = pd.to_datetime(df['Ship Date'], format='%d/%m/%Y')\n"
   ]
  },
  {
   "cell_type": "code",
   "execution_count": 3,
   "metadata": {},
   "outputs": [
    {
     "name": "stdout",
     "output_type": "stream",
     "text": [
      "Number of missing values on 'Ship Date' and 'Order Date': 14\n",
      "Missing months of sales: PeriodIndex([], dtype='period[M]')\n"
     ]
    }
   ],
   "source": [
    "# Print the number of missing values where both 'Ship Date' and 'Order Date' are missing\n",
    "print(\"Number of missing values on 'Ship Date' and 'Order Date':\", \n",
    "      df[df['Ship Date'].isnull() & df['Order Date'].isnull()].shape[0])\n",
    "\n",
    "# Calculate shipping days as the difference between 'Ship Date' and 'Order Date'\n",
    "df['Shipping_days'] = df['Ship Date'] - df['Order Date']\n",
    "\n",
    "# Calculate the average shipping days\n",
    "avg_shipping_days = df['Shipping_days'].mean()\n",
    "\n",
    "# Impute missing 'Order Date' by subtracting the average shipping days from 'Ship Date'\n",
    "df.loc[df['Order Date'].isnull(), 'Order Date'] = df['Ship Date'] - pd.to_timedelta(avg_shipping_days, unit='D')\n",
    "\n",
    "# Drop rows where 'Order Date' is still missing\n",
    "df = df[df['Order Date'].notna()]\n",
    "\n",
    "# Create a new column 'Year-Month' for the order date at a monthly granularity\n",
    "df['Year-Month'] = df['Order Date'].dt.to_period('M')\n",
    "\n",
    "# Identify and print missing months in the dataset\n",
    "missing_months = pd.period_range(start=df['Year-Month'].min(), \n",
    "                                 end=df['Year-Month'].max(), \n",
    "                                 freq='M').difference(df['Year-Month'])\n",
    "print(\"Missing months of sales:\", missing_months)\n",
    "\n",
    "# Clean up by removing the temporary variable\n",
    "del avg_shipping_days\n"
   ]
  },
  {
   "cell_type": "code",
   "execution_count": 4,
   "metadata": {},
   "outputs": [
    {
     "name": "stdout",
     "output_type": "stream",
     "text": [
      "Number of missing values on 'Sales' and 'Sub-Category': 23\n"
     ]
    }
   ],
   "source": [
    "# Print number of rows with missing 'Sales' and 'Sub-Category'\n",
    "print(\"Number of missing values on 'Sales' and 'Sub-Category':\", \n",
    "      df[['Sales', 'Sub-Category']].isnull().all(axis=1).sum())\n",
    "\n",
    "# Calculate average sales by 'Sub-Category' and 'Category'\n",
    "avg_sales_sub_cat = df.groupby('Sub-Category')['Sales'].mean()\n",
    "avg_sales_cat = df.groupby('Category')['Sales'].mean()\n",
    "\n",
    "# Impute missing 'Sales' with average sales by 'Sub-Category' and 'Category'\n",
    "df['Sales'] = df['Sales'].fillna(df['Sub-Category'].map(avg_sales_sub_cat))\n",
    "df['Sales'] = df['Sales'].fillna(df['Category'].map(avg_sales_cat))\n",
    "\n",
    "# Drop rows with still missing 'Sales'\n",
    "df.dropna(subset=['Sales'], inplace=True)\n",
    "\n",
    "# Clean up\n",
    "del avg_sales_sub_cat\n",
    "del avg_sales_cat\n"
   ]
  },
  {
   "cell_type": "code",
   "execution_count": 5,
   "metadata": {},
   "outputs": [
    {
     "name": "stdout",
     "output_type": "stream",
     "text": [
      "0\n",
      "0\n"
     ]
    }
   ],
   "source": [
    "# Check if any 'Customer ID' has more than one 'Customer Name'\n",
    "print((df.groupby('Customer ID')['Customer Name'].nunique() > 1).sum())\n",
    "\n",
    "# Create a dictionary to map 'Customer ID' to the first non-null 'State'\n",
    "state_fill_dict = df.dropna(subset=['State']).groupby('Customer ID')['State'].first().to_dict()\n",
    "\n",
    "# Fill missing 'State' values based on 'Customer ID'\n",
    "df['State'] = df['State'].fillna(df['Customer ID'].map(state_fill_dict))\n",
    "\n",
    "# Create a dictionary to map 'Country' to the first non-null 'State'\n",
    "city_fill_dict = df.dropna(subset=['State', 'Country']).groupby('Country')['State'].first().to_dict()\n",
    "\n",
    "# Fill remaining missing 'State' values based on 'Country'\n",
    "df.loc[df['State'].isna() & df['Country'].notna(), 'State'] = df['Country'].map(city_fill_dict)\n",
    "\n",
    "# Drop rows where 'State' is still missing\n",
    "df.dropna(subset=['State'], inplace=True)\n",
    "\n",
    "# Check for any remaining missing values in 'State'\n",
    "print(df['State'].isna().sum())\n",
    "\n",
    "# Clean up\n",
    "del city_fill_dict\n",
    "del state_fill_dict\n"
   ]
  },
  {
   "cell_type": "markdown",
   "metadata": {},
   "source": [
    "# ____________________________________________________________"
   ]
  },
  {
   "cell_type": "markdown",
   "metadata": {},
   "source": [
    "# Modeling"
   ]
  },
  {
   "cell_type": "markdown",
   "metadata": {},
   "source": [
    "### SARIMA\n"
   ]
  },
  {
   "cell_type": "markdown",
   "metadata": {},
   "source": [
    "##### Year - Month Level"
   ]
  },
  {
   "cell_type": "code",
   "execution_count": 6,
   "metadata": {},
   "outputs": [],
   "source": [
    "# Group sales data by 'Year-Month' and 'State', then sum the sales\n",
    "monthly_sales_state = df.groupby(['Year-Month', 'State'])['Sales'].sum().reset_index()\n",
    "\n",
    "# Aggregate sales by 'Year-Month'\n",
    "monthly_sales = monthly_sales_state.groupby(['Year-Month'])['Sales'].sum()\n",
    "\n",
    "# Pivot the sales data to get sales by 'State' in columns\n",
    "sales_by_state = monthly_sales_state.groupby(['Year-Month', 'State'])['Sales'].sum().unstack().fillna(0)\n",
    "\n",
    "# Calculate the proportion of sales by state for each month\n",
    "state_proportions = sales_by_state.div(sales_by_state.sum(axis=1), axis=0)\n",
    "\n",
    "# Split the data into training and test sets based on date\n",
    "train_data = monthly_sales[monthly_sales.index < '2018-01']\n",
    "test_data = monthly_sales[monthly_sales.index >= '2018-01']\n",
    "\n"
   ]
  },
  {
   "cell_type": "code",
   "execution_count": 7,
   "metadata": {},
   "outputs": [
    {
     "name": "stderr",
     "output_type": "stream",
     "text": [
      "/Users/elenaabcc/miniconda3/envs/tensorflow/lib/python3.10/site-packages/statsmodels/tsa/statespace/sarimax.py:866: UserWarning: Too few observations to estimate starting parameters for seasonal ARMA. All parameters except for variances will be set to zeros.\n",
      "  warn('Too few observations to estimate starting parameters%s.'\n"
     ]
    }
   ],
   "source": [
    "\n",
    "# Define SARIMA model parameters\n",
    "p, d, q = 1, 1, 1  # ARIMA parameters\n",
    "P, D, Q, s = 1, 1, 1, 12  # Seasonal parameters (s=12 for monthly data)\n",
    "\n",
    "# Train the SARIMA model\n",
    "model = SARIMAX(train_data, order=(p, d, q), seasonal_order=(P, D, Q, s))\n",
    "model_fit = model.fit(disp=False)\n"
   ]
  },
  {
   "cell_type": "markdown",
   "metadata": {},
   "source": [
    "#####  Model Evaluation at Year - Month Level"
   ]
  },
  {
   "cell_type": "code",
   "execution_count": 8,
   "metadata": {},
   "outputs": [
    {
     "data": {
      "image/png": "[encoded data removed]",
      "text/plain": [
       "<Figure size 1200x600 with 1 Axes>"
      ]
     },
     "metadata": {},
     "output_type": "display_data"
    }
   ],
   "source": [
    "# Make forecasts for the next 12 periods\n",
    "forecast = model_fit.get_forecast(steps=12)\n",
    "forecast_values = forecast.predicted_mean\n",
    "forecast_conf_int = forecast.conf_int()\n",
    "\n",
    "# Create a Series for forecasted values\n",
    "forecast_index = pd.period_range(start='2018-01', periods=12, freq='M')\n",
    "forecast_series = pd.Series(forecast_values, index=forecast_index)\n",
    "\n",
    "# Plot the results\n",
    "plt.figure(figsize=(12, 6))\n",
    "plt.plot(train_data.index.to_timestamp(), train_data, label='Training Data', color='blue')\n",
    "plt.plot(test_data.index.to_timestamp(), test_data, label='Actual Data', color='green')\n",
    "plt.plot(forecast_series.index.to_timestamp(), forecast_series, label='Forecast', color='red', linestyle='--')\n",
    "plt.fill_between(forecast_series.index.to_timestamp(), \n",
    "                 forecast_conf_int.iloc[:, 0], \n",
    "                 forecast_conf_int.iloc[:, 1], \n",
    "                 color='red', alpha=0.3)\n",
    "plt.title('Forecast vs Actual Data')\n",
    "plt.xlabel('Date')\n",
    "plt.ylabel('Sales')\n",
    "plt.legend()\n",
    "plt.grid(True)\n",
    "plt.show()\n"
   ]
  },
  {
   "cell_type": "code",
   "execution_count": 9,
   "metadata": {},
   "outputs": [
    {
     "name": "stdout",
     "output_type": "stream",
     "text": [
      "Mean Squared Error (MSE): 404944669.73\n",
      "Root Mean Squared Error (RMSE): 20123.24\n",
      "Mean Absolute Error (MAE): 17618.75\n"
     ]
    }
   ],
   "source": [
    "\n",
    "# Evaluate forecast accuracy using MSE, RMSE, and MAE\n",
    "mse = mean_squared_error(test_data, forecast_series)\n",
    "rmse = np.sqrt(mse)\n",
    "mae = mean_absolute_error(test_data, forecast_series)\n",
    "\n",
    "print(f\"Mean Squared Error (MSE): {mse:.2f}\")\n",
    "print(f\"Root Mean Squared Error (RMSE): {rmse:.2f}\")\n",
    "print(f\"Mean Absolute Error (MAE): {mae:.2f}\")\n"
   ]
  },
  {
   "cell_type": "markdown",
   "metadata": {},
   "source": [
    "##### Year - Month proportioned by States"
   ]
  },
  {
   "cell_type": "code",
   "execution_count": 10,
   "metadata": {},
   "outputs": [],
   "source": [
    "\n",
    "# Create a DataFrame to hold proportionally forecasted values for each state\n",
    "forecast_proportioned = pd.DataFrame(index=forecast_series.index, columns=state_proportions.columns)\n",
    "\n",
    "# Allocate the total forecasted values proportionally across states\n",
    "for state in state_proportions.columns:\n",
    "    forecast_proportioned[state] = forecast_series * state_proportions[state]\n"
   ]
  },
  {
   "cell_type": "markdown",
   "metadata": {},
   "source": [
    "#####  Model Evaluation at Year - Month  - states Level"
   ]
  },
  {
   "cell_type": "code",
   "execution_count": 11,
   "metadata": {},
   "outputs": [],
   "source": [
    "# Reconstruct the actual test data for each state based on historical proportions\n",
    "test_data_state = pd.DataFrame(index=test_data.index, columns=state_proportions.columns)\n",
    "\n",
    "# Multiply the total test data by the historical proportions for each state\n",
    "for state in state_proportions.columns:\n",
    "    test_data_state[state] = test_data * state_proportions[state]\n",
    "\n",
    "    from sklearn.metrics import mean_squared_error, mean_absolute_error\n",
    "import numpy as np\n",
    "\n",
    "# Prepare a list to store the results\n",
    "results = []\n",
    "\n",
    "# Calculate metrics for each state\n",
    "for state in forecast_proportioned.columns:\n",
    "    actual_data = test_data_state[state]  # Actual data for the state\n",
    "    forecast_data = forecast_proportioned[state]  # Forecasted data for the state\n",
    "    \n",
    "    mse = mean_squared_error(actual_data, forecast_data)\n",
    "    rmse = np.sqrt(mse)\n",
    "    mae = mean_absolute_error(actual_data, forecast_data)\n",
    "    \n",
    "    # Append results to the list\n",
    "    results.append({\n",
    "        'State': state,\n",
    "        'MSE': mse,\n",
    "        'RMSE': rmse,\n",
    "        'MAE': mae\n",
    "    })\n",
    "    \n",
    "# Create a DataFrame from the results list\n",
    "results_df = pd.DataFrame(results)\n",
    "\n",
    "# Save the results to a CSV file\n",
    "results_df.to_csv('sarima_state_metrics.csv', index=False)\n",
    "\n"
   ]
  },
  {
   "cell_type": "code",
   "execution_count": 12,
   "metadata": {},
   "outputs": [],
   "source": [
    "# Ensure the index of forecast_proportioned is in PeriodIndex format and convert if necessary\n",
    "if isinstance(forecast_proportioned.index, pd.PeriodIndex):\n",
    "    # Convert PeriodIndex to Timestamp for output\n",
    "    forecast_proportioned.index = forecast_proportioned.index.to_timestamp()\n",
    "else:\n",
    "    # Convert non-periodic index to PeriodIndex first, then to Timestamp\n",
    "    forecast_proportioned.index = pd.to_datetime(forecast_proportioned.index).to_period('M').to_timestamp()\n",
    "\n",
    "# Reset index to long format for pivoting\n",
    "forecast_long = forecast_proportioned.reset_index()\n",
    "\n",
    "# Convert the DataFrame to long format (pivot)\n",
    "forecast_long = pd.melt(forecast_long, id_vars=['index'], var_name='State', value_name='Sales')\n",
    "\n",
    "# Rename 'index' column to 'Year-Month'\n",
    "forecast_long.rename(columns={'index': 'Year-Month'}, inplace=True)\n",
    "\n",
    "# Ensure 'Year-Month' is in datetime format\n",
    "forecast_long['Year-Month'] = pd.to_datetime(forecast_long['Year-Month'], format='%Y-%m')\n"
   ]
  },
  {
   "cell_type": "code",
   "execution_count": 13,
   "metadata": {},
   "outputs": [],
   "source": [
    "# Aggregate actual sales data\n",
    "actualsales = df.groupby(['Year-Month', 'State'])['Sales'].sum().reset_index()\n",
    "\n",
    "# Convert 'Year-Month' tao PeriodIndex for merging\n",
    "forecast_long['Year-Month'] = forecast_long['Year-Month'].dt.to_period('M')\n",
    "\n",
    "# Rename columns for clarity\n",
    "forecast_long.rename(columns={'Sales': 'Sales_Prediction'}, inplace=True)\n",
    "actualsales.rename(columns={'Sales': 'Sales_Actual'}, inplace=True)\n",
    "\n",
    "# Merge forecasted and actual sales data\n",
    "prediction_and_actuals = forecast_long.merge(actualsales, on=['Year-Month', 'State'], how='left')\n",
    "\n",
    "# Replace NaN values in 'Sales_Actual' with 0\n",
    "prediction_and_actuals['Sales_Actual'] = prediction_and_actuals['Sales_Actual'].fillna(0)\n"
   ]
  },
  {
   "cell_type": "code",
   "execution_count": 14,
   "metadata": {},
   "outputs": [
    {
     "name": "stdout",
     "output_type": "stream",
     "text": [
      "Figures saved in the directory: sarima_state_sales_figures\n"
     ]
    }
   ],
   "source": [
    "import pandas as pd\n",
    "import matplotlib.pyplot as plt\n",
    "import os\n",
    "\n",
    "# Convert 'Year-Month' to datetime format for plotting\n",
    "# If 'Year-Month' is already a PeriodIndex, convert it to Timestamp\n",
    "if pd.api.types.is_period_dtype(prediction_and_actuals['Year-Month']):\n",
    "    prediction_and_actuals['Year-Month'] = prediction_and_actuals['Year-Month'].dt.to_timestamp()\n",
    "else:\n",
    "    prediction_and_actuals['Year-Month'] = pd.to_datetime(prediction_and_actuals['Year-Month'], format='%Y-%m')\n",
    "\n",
    "# Create a directory to save figures\n",
    "output_dir = 'sarima_state_sales_figures'\n",
    "os.makedirs(output_dir, exist_ok=True)\n",
    "\n",
    "# Get the list of unique states\n",
    "states = prediction_and_actuals['State'].unique()\n",
    "\n",
    "# Generate and save a plot for each state\n",
    "for state in states:\n",
    "    # Filter data for the current state\n",
    "    state_data = prediction_and_actuals[prediction_and_actuals['State'] == state]\n",
    "    \n",
    "    # Set 'Year-Month' as the index\n",
    "    state_data.set_index('Year-Month', inplace=True)\n",
    "    \n",
    "    # Create the plot\n",
    "    plt.figure(figsize=(12, 6))\n",
    "    plt.plot(state_data.index, state_data['Sales_Prediction'], label='Sales Prediction', marker='o')\n",
    "    plt.plot(state_data.index, state_data['Sales_Actual'], label='Sales Actual', marker='o')\n",
    "    plt.title(f'Sales Prediction vs Actual Sales for {state}')\n",
    "    plt.xlabel('Year-Month')\n",
    "    plt.ylabel('Sales')\n",
    "    plt.legend()\n",
    "    plt.grid(True)\n",
    "    plt.xticks(rotation=45)\n",
    "    plt.tight_layout()\n",
    "    \n",
    "    # Save the plot to the specified directory\n",
    "    file_path = os.path.join(output_dir, f'{state}_sales.png')\n",
    "    plt.savefig(file_path)\n",
    "    plt.close()  # Close the figure to free up memory\n",
    "\n",
    "print(f'Figures saved in the directory: {output_dir}')\n"
   ]
  },
  {
   "cell_type": "markdown",
   "metadata": {},
   "source": [
    "# ____________________________________________________________"
   ]
  },
  {
   "cell_type": "markdown",
   "metadata": {},
   "source": [
    "### XGBOOST\n"
   ]
  }
 ],
 "metadata": {
  "kernelspec": {
   "display_name": "Python 3.10 (tensorflow)",
   "language": "python",
   "name": "tensorflow"
  },
  "language_info": {
   "codemirror_mode": {
    "name": "ipython",
    "version": 3
   },
   "file_extension": ".py",
   "mimetype": "text/x-python",
   "name": "python",
   "nbconvert_exporter": "python",
   "pygments_lexer": "ipython3",
   "version": "3.10.12"
  }
 },
 "nbformat": 4,
 "nbformat_minor": 2
}
