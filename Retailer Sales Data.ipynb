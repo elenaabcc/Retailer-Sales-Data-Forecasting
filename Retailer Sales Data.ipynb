{
 "cells": [
  {
   "cell_type": "markdown",
   "metadata": {},
   "source": [
    "### Retailer Sales Data Forecasting\n",
    "\n",
    "This dataset contains the daily sales data of a US retailer.  \n",
    "Your objective is to forecast the total sales for each State over the next 12 months, using the historical data provided.\n"
   ]
  },
  {
   "cell_type": "markdown",
   "metadata": {},
   "source": [
    "### Part 1: Top-Down Approach\n",
    "\n",
    "1. **Aggregate Sales:**  \n",
    "   Combine the sales data to create total sales at the `year-month` level, using the `Order Date` as the time variable for aggregation.\n",
    "\n",
    "\n",
    "2. **Train a Model:**  \n",
    "   Using the aggregated `year-month` data, train a model to forecast the total sales for the next 12 months.  \n",
    "   *(The choice of model is up to you.)*\n",
    "\n",
    "3. **Disaggregate Predictions:**  \n",
    "   Split the predicted sales from the `year-month` level back to the `year-month-State` level.  \n",
    "   *(The splitting strategy is up to you.)*\n",
    "\n",
    "4. **Evaluate Accuracy:**  \n",
    "   Assess the forecast accuracy at both the `year-month` and `year-month-State` levels.\n"
   ]
  },
  {
   "cell_type": "markdown",
   "metadata": {},
   "source": [
    "# ____________________________________________________________"
   ]
  },
  {
   "cell_type": "markdown",
   "metadata": {},
   "source": [
    "### Part 2: Alternative Approach\n",
    "\n",
    "- Implement a different approach to forecast the next 12 months of sales at the `year-month-State` level.\n"
   ]
  },
  {
   "cell_type": "markdown",
   "metadata": {},
   "source": [
    "# ____________________________________________________________"
   ]
  },
  {
   "cell_type": "code",
   "execution_count": 21,
   "metadata": {},
   "outputs": [],
   "source": [
    "# Libraries\n",
    "\n",
    "# Data handling and manipulation\n",
    "import pandas as pd  \n",
    "import numpy as np  \n",
    "\n",
    "# Evaluation metrics\n",
    "from sklearn.metrics import mean_squared_error, mean_absolute_error, r2_score\n",
    "\n",
    "\n",
    "# Data visualization\n",
    "import matplotlib.pyplot as plt  \n",
    "\n",
    "# Data preprocessing\n",
    "from sklearn.preprocessing import MinMaxScaler  # this scales data between a min and max value\n",
    "\n",
    "# Deep learning framework\n",
    "# Time series modeling\n",
    "from statsmodels.tsa.statespace.sarimax import SARIMAX  \n",
    "from keras.models import Sequential  \n",
    "from keras.layers import LSTM, Dense, Dropout  \n",
    "from keras.optimizers import Adam\n",
    "\n"
   ]
  },
  {
   "cell_type": "markdown",
   "metadata": {},
   "source": [
    "# ETL"
   ]
  },
  {
   "cell_type": "code",
   "execution_count": 2,
   "metadata": {},
   "outputs": [],
   "source": [
    "# Load the dataset\n",
    "df = pd.read_csv('Retailer Sales Data.csv')\n",
    "\n",
    "# Convert 'Order Date' and 'Ship Date' columns to datetime format\n",
    "df['Order Date'] = pd.to_datetime(df['Order Date'], format='%d/%m/%Y')\n",
    "df['Ship Date'] = pd.to_datetime(df['Ship Date'], format='%d/%m/%Y')\n"
   ]
  },
  {
   "cell_type": "code",
   "execution_count": 3,
   "metadata": {},
   "outputs": [
    {
     "name": "stdout",
     "output_type": "stream",
     "text": [
      "Number of missing values on 'Ship Date' and 'Order Date': 14\n",
      "Missing months of sales: PeriodIndex([], dtype='period[M]')\n"
     ]
    }
   ],
   "source": [
    "# Print the number of missing values where both 'Ship Date' and 'Order Date' are missing\n",
    "print(\"Number of missing values on 'Ship Date' and 'Order Date':\", \n",
    "      df[df['Ship Date'].isnull() & df['Order Date'].isnull()].shape[0])\n",
    "\n",
    "# Calculate shipping days as the difference between 'Ship Date' and 'Order Date'\n",
    "df['Shipping_days'] = df['Ship Date'] - df['Order Date']\n",
    "\n",
    "# Calculate the average shipping days\n",
    "avg_shipping_days = df['Shipping_days'].mean()\n",
    "\n",
    "# Impute missing 'Order Date' by subtracting the average shipping days from 'Ship Date'\n",
    "df.loc[df['Order Date'].isnull(), 'Order Date'] = df['Ship Date'] - pd.to_timedelta(avg_shipping_days, unit='D')\n",
    "\n",
    "# Drop rows where 'Order Date' is still missing\n",
    "df = df[df['Order Date'].notna()]\n",
    "\n",
    "# Create a new column 'Year-Month' for the order date at a monthly granularity\n",
    "df['Year-Month'] = df['Order Date'].dt.to_period('M')\n",
    "\n",
    "# Identify and print missing months in the dataset\n",
    "missing_months = pd.period_range(start=df['Year-Month'].min(), \n",
    "                                 end=df['Year-Month'].max(), \n",
    "                                 freq='M').difference(df['Year-Month'])\n",
    "print(\"Missing months of sales:\", missing_months)\n",
    "\n",
    "# Clean up by removing the temporary variable\n",
    "del avg_shipping_days\n"
   ]
  },
  {
   "cell_type": "code",
   "execution_count": 4,
   "metadata": {},
   "outputs": [
    {
     "name": "stdout",
     "output_type": "stream",
     "text": [
      "Number of missing values on 'Sales' and 'Sub-Category': 23\n"
     ]
    }
   ],
   "source": [
    "# Print number of rows with missing 'Sales' and 'Sub-Category'\n",
    "print(\"Number of missing values on 'Sales' and 'Sub-Category':\", \n",
    "      df[['Sales', 'Sub-Category']].isnull().all(axis=1).sum())\n",
    "\n",
    "# Calculate average sales by 'Sub-Category' and 'Category'\n",
    "avg_sales_sub_cat = df.groupby('Sub-Category')['Sales'].mean()\n",
    "avg_sales_cat = df.groupby('Category')['Sales'].mean()\n",
    "\n",
    "# Impute missing 'Sales' with average sales by 'Sub-Category' and 'Category'\n",
    "df['Sales'] = df['Sales'].fillna(df['Sub-Category'].map(avg_sales_sub_cat))\n",
    "df['Sales'] = df['Sales'].fillna(df['Category'].map(avg_sales_cat))\n",
    "\n",
    "# Drop rows with still missing 'Sales'\n",
    "df.dropna(subset=['Sales'], inplace=True)\n",
    "\n",
    "# Clean up\n",
    "del avg_sales_cat\n"
   ]
  },
  {
   "cell_type": "code",
   "execution_count": 5,
   "metadata": {},
   "outputs": [
    {
     "name": "stdout",
     "output_type": "stream",
     "text": [
      "0\n",
      "0\n"
     ]
    }
   ],
   "source": [
    "# Check if any 'Customer ID' has more than one 'Customer Name'\n",
    "print((df.groupby('Customer ID')['Customer Name'].nunique() > 1).sum())\n",
    "\n",
    "# Create a dictionary to map 'Customer ID' to the first non-null 'State'\n",
    "state_fill_dict = df.dropna(subset=['State']).groupby('Customer ID')['State'].first().to_dict()\n",
    "\n",
    "# Fill missing 'State' values based on 'Customer ID'\n",
    "df['State'] = df['State'].fillna(df['Customer ID'].map(state_fill_dict))\n",
    "\n",
    "# Create a dictionary to map 'Country' to the first non-null 'State'\n",
    "city_fill_dict = df.dropna(subset=['State', 'Country']).groupby('Country')['State'].first().to_dict()\n",
    "\n",
    "# Fill remaining missing 'State' values based on 'Country'\n",
    "df.loc[df['State'].isna() & df['Country'].notna(), 'State'] = df['Country'].map(city_fill_dict)\n",
    "\n",
    "# Drop rows where 'State' is still missing\n",
    "df.dropna(subset=['State'], inplace=True)\n",
    "\n",
    "# Check for any remaining missing values in 'State'\n",
    "print(df['State'].isna().sum())\n",
    "\n",
    "# Clean up\n",
    "del city_fill_dict\n",
    "del state_fill_dict\n"
   ]
  },
  {
   "cell_type": "code",
   "execution_count": 6,
   "metadata": {},
   "outputs": [
    {
     "name": "stdout",
     "output_type": "stream",
     "text": [
      "447\n",
      "31\n",
      "0\n",
      "-\n",
      "480\n",
      "10\n",
      "0\n"
     ]
    }
   ],
   "source": [
    "print(df['Product ID'].isna().sum())\n",
    "# Create a dictionary to map 'Customer ID' to the first non-null 'State'\n",
    "product_fill_dict = df.dropna(subset=['Product ID']).groupby('Product Name')['Product ID'].first().to_dict()\n",
    "\n",
    "# Fill missing 'State' values based on 'Customer ID'\n",
    "df['Product ID'] = df['Product ID'].fillna(df['Product Name'].map(product_fill_dict))\n",
    "\n",
    "print(df['Product ID'].isna().sum())\n",
    "df.dropna(subset=['Product ID'], inplace=True)\n",
    "print(df['Product ID'].isna().sum())\n",
    "\n",
    "print('-')\n",
    "print(df['Sub-Category'].isna().sum())\n",
    "# Create a dictionary to map 'Customer ID' to the first non-null 'State'\n",
    "sub_cat_fill_dict = df.dropna(subset=['Sub-Category']).groupby('Product Name')['Sub-Category'].first().to_dict()\n",
    "product_id_fill_dict = df.dropna(subset=['Sub-Category']).groupby('Product ID')['Sub-Category'].first().to_dict()\n",
    "\n",
    "# Fill missing 'State' values based on 'Customer ID'\n",
    "df['Sub-Category'] = df['Sub-Category'].fillna(df['Product Name'].map(sub_cat_fill_dict))\n",
    "df['Sub-Category'] = df['Sub-Category'].fillna(df['Product ID'].map(product_id_fill_dict))\n",
    "\n",
    "\n",
    "print(df['Sub-Category'].isna().sum())\n",
    "df.dropna(subset=['Sub-Category'], inplace=True)\n",
    "print(df['Sub-Category'].isna().sum())\n"
   ]
  },
  {
   "cell_type": "markdown",
   "metadata": {},
   "source": [
    "# ____________________________________________________________"
   ]
  },
  {
   "cell_type": "markdown",
   "metadata": {},
   "source": [
    "# Modeling - Top Down Approach (Part 1)"
   ]
  },
  {
   "cell_type": "markdown",
   "metadata": {},
   "source": [
    "### SARIMA\n"
   ]
  },
  {
   "cell_type": "markdown",
   "metadata": {},
   "source": [
    "##### Year - Month Level"
   ]
  },
  {
   "cell_type": "code",
   "execution_count": null,
   "metadata": {},
   "outputs": [],
   "source": [
    "# Group sales data by 'Year-Month' and 'State', then sum the sales\n",
    "monthly_sales_state = df.groupby(['Year-Month', 'State'])['Sales'].sum().reset_index()\n",
    "\n",
    "# Aggregate sales by 'Year-Month'\n",
    "monthly_sales = monthly_sales_state.groupby(['Year-Month'])['Sales'].sum()\n",
    "\n",
    "# Pivot the sales data to get sales by 'State' in columns\n",
    "sales_by_state = monthly_sales_state.groupby(['Year-Month', 'State'])['Sales'].sum().unstack().fillna(0)\n",
    "\n",
    "# Calculate the proportion of sales by state for each month\n",
    "state_proportions = sales_by_state.div(sales_by_state.sum(axis=1), axis=0)\n",
    "\n",
    "# Split the data into training and test sets based on date\n",
    "train_data = monthly_sales[monthly_sales.index < '2018-01']\n",
    "test_data = monthly_sales[monthly_sales.index >= '2018-01']\n",
    "\n"
   ]
  },
  {
   "cell_type": "code",
   "execution_count": null,
   "metadata": {},
   "outputs": [],
   "source": [
    "\n",
    "# Define SARIMA model parameters\n",
    "p, d, q = 1, 1, 1  # ARIMA parameters\n",
    "P, D, Q, s = 1, 1, 1, 12  # Seasonal parameters (s=12 for monthly data)\n",
    "\n",
    "# Train the SARIMA model\n",
    "model = SARIMAX(train_data, order=(p, d, q), seasonal_order=(P, D, Q, s))\n",
    "model_fit = model.fit(disp=False)\n"
   ]
  },
  {
   "cell_type": "markdown",
   "metadata": {},
   "source": [
    "#####  Model Evaluation at Year - Month Level"
   ]
  },
  {
   "cell_type": "code",
   "execution_count": null,
   "metadata": {},
   "outputs": [],
   "source": [
    "# Make forecasts for the next 12 periods\n",
    "forecast = model_fit.get_forecast(steps=12)\n",
    "forecast_values = forecast.predicted_mean\n",
    "forecast_conf_int = forecast.conf_int()\n",
    "\n",
    "# Create a Series for forecasted values\n",
    "forecast_index = pd.period_range(start='2018-01', periods=12, freq='M')\n",
    "forecast_series = pd.Series(forecast_values, index=forecast_index)\n",
    "\n",
    "# Plot the results\n",
    "plt.figure(figsize=(12, 6))\n",
    "plt.plot(train_data.index.to_timestamp(), train_data, label='Training Data', color='blue')\n",
    "plt.plot(test_data.index.to_timestamp(), test_data, label='Actual Data', color='green')\n",
    "plt.plot(forecast_series.index.to_timestamp(), forecast_series, label='Forecast', color='red', linestyle='--')\n",
    "plt.fill_between(forecast_series.index.to_timestamp(), \n",
    "                 forecast_conf_int.iloc[:, 0], \n",
    "                 forecast_conf_int.iloc[:, 1], \n",
    "                 color='red', alpha=0.3)\n",
    "plt.title('Forecast vs Actual Data')\n",
    "plt.xlabel('Date')\n",
    "plt.ylabel('Sales')\n",
    "plt.legend()\n",
    "plt.grid(True)\n",
    "plt.show()\n"
   ]
  },
  {
   "cell_type": "code",
   "execution_count": null,
   "metadata": {},
   "outputs": [],
   "source": [
    "\n",
    "# Evaluate forecast accuracy using MSE, RMSE, and MAE\n",
    "mse = mean_squared_error(test_data, forecast_series)\n",
    "rmse = np.sqrt(mse)\n",
    "mae = mean_absolute_error(test_data, forecast_series)\n",
    "\n",
    "print(f\"Mean Squared Error (MSE): {mse:.2f}\")\n",
    "print(f\"Root Mean Squared Error (RMSE): {rmse:.2f}\")\n",
    "print(f\"Mean Absolute Error (MAE): {mae:.2f}\")\n"
   ]
  },
  {
   "cell_type": "markdown",
   "metadata": {},
   "source": [
    "##### Year - Month proportioned by States"
   ]
  },
  {
   "cell_type": "code",
   "execution_count": null,
   "metadata": {},
   "outputs": [],
   "source": [
    "\n",
    "# Create a DataFrame to hold proportionally forecasted values for each state\n",
    "forecast_proportioned = pd.DataFrame(index=forecast_series.index, columns=state_proportions.columns)\n",
    "\n",
    "# Allocate the total forecasted values proportionally across states\n",
    "for state in state_proportions.columns:\n",
    "    forecast_proportioned[state] = forecast_series * state_proportions[state]\n"
   ]
  },
  {
   "cell_type": "markdown",
   "metadata": {},
   "source": [
    "#####  Model Evaluation at Year - Month  - states Level"
   ]
  },
  {
   "cell_type": "code",
   "execution_count": null,
   "metadata": {},
   "outputs": [],
   "source": [
    "# Reconstruct the actual test data for each state based on historical proportions\n",
    "test_data_state = pd.DataFrame(index=test_data.index, columns=state_proportions.columns)\n",
    "\n",
    "# Multiply the total test data by the historical proportions for each state\n",
    "for state in state_proportions.columns:\n",
    "    test_data_state[state] = test_data * state_proportions[state]\n",
    "\n",
    "    from sklearn.metrics import mean_squared_error, mean_absolute_error\n",
    "import numpy as np\n",
    "\n",
    "# Prepare a list to store the results\n",
    "results = []\n",
    "\n",
    "# Calculate metrics for each state\n",
    "for state in forecast_proportioned.columns:\n",
    "    actual_data = test_data_state[state]  # Actual data for the state\n",
    "    forecast_data = forecast_proportioned[state]  # Forecasted data for the state\n",
    "    \n",
    "    mse = mean_squared_error(actual_data, forecast_data)\n",
    "    rmse = np.sqrt(mse)\n",
    "    mae = mean_absolute_error(actual_data, forecast_data)\n",
    "    \n",
    "    # Append results to the list\n",
    "    results.append({\n",
    "        'State': state,\n",
    "        'MSE': mse,\n",
    "        'RMSE': rmse,\n",
    "        'MAE': mae\n",
    "    })\n",
    "    \n",
    "# Create a DataFrame from the results list\n",
    "results_df = pd.DataFrame(results)\n",
    "\n",
    "# Save the results to a CSV file\n",
    "results_df.to_csv('sarima_state_metrics.csv', index=False)\n",
    "\n"
   ]
  },
  {
   "cell_type": "code",
   "execution_count": null,
   "metadata": {},
   "outputs": [],
   "source": [
    "# Ensure the index of forecast_proportioned is in PeriodIndex format and convert if necessary\n",
    "if isinstance(forecast_proportioned.index, pd.PeriodIndex):\n",
    "    # Convert PeriodIndex to Timestamp for output\n",
    "    forecast_proportioned.index = forecast_proportioned.index.to_timestamp()\n",
    "else:\n",
    "    # Convert non-periodic index to PeriodIndex first, then to Timestamp\n",
    "    forecast_proportioned.index = pd.to_datetime(forecast_proportioned.index).to_period('M').to_timestamp()\n",
    "\n",
    "# Reset index to long format for pivoting\n",
    "forecast_long = forecast_proportioned.reset_index()\n",
    "\n",
    "# Convert the DataFrame to long format (pivot)\n",
    "forecast_long = pd.melt(forecast_long, id_vars=['index'], var_name='State', value_name='Sales')\n",
    "\n",
    "# Rename 'index' column to 'Year-Month'\n",
    "forecast_long.rename(columns={'index': 'Year-Month'}, inplace=True)\n",
    "\n",
    "# Ensure 'Year-Month' is in datetime format\n",
    "forecast_long['Year-Month'] = pd.to_datetime(forecast_long['Year-Month'], format='%Y-%m')\n"
   ]
  },
  {
   "cell_type": "code",
   "execution_count": null,
   "metadata": {},
   "outputs": [],
   "source": [
    "# Aggregate actual sales data\n",
    "actualsales = df.groupby(['Year-Month', 'State'])['Sales'].sum().reset_index()\n",
    "\n",
    "# Convert 'Year-Month' tao PeriodIndex for merging\n",
    "forecast_long['Year-Month'] = forecast_long['Year-Month'].dt.to_period('M')\n",
    "\n",
    "# Rename columns for clarity\n",
    "forecast_long.rename(columns={'Sales': 'Sales_Prediction'}, inplace=True)\n",
    "actualsales.rename(columns={'Sales': 'Sales_Actual'}, inplace=True)\n",
    "\n",
    "# Merge forecasted and actual sales data\n",
    "prediction_and_actuals = forecast_long.merge(actualsales, on=['Year-Month', 'State'], how='left')\n",
    "\n",
    "# Replace NaN values in 'Sales_Actual' with 0\n",
    "prediction_and_actuals['Sales_Actual'] = prediction_and_actuals['Sales_Actual'].fillna(0)\n"
   ]
  },
  {
   "cell_type": "code",
   "execution_count": null,
   "metadata": {},
   "outputs": [],
   "source": [
    "import pandas as pd\n",
    "import matplotlib.pyplot as plt\n",
    "import os\n",
    "\n",
    "# Convert 'Year-Month' to datetime format for plotting\n",
    "# If 'Year-Month' is already a PeriodIndex, convert it to Timestamp\n",
    "if pd.api.types.is_period_dtype(prediction_and_actuals['Year-Month']):\n",
    "    prediction_and_actuals['Year-Month'] = prediction_and_actuals['Year-Month'].dt.to_timestamp()\n",
    "else:\n",
    "    prediction_and_actuals['Year-Month'] = pd.to_datetime(prediction_and_actuals['Year-Month'], format='%Y-%m')\n",
    "\n",
    "# Create a directory to save figures\n",
    "output_dir = 'sarima_state_sales_figures'\n",
    "os.makedirs(output_dir, exist_ok=True)\n",
    "\n",
    "# Get the list of unique states\n",
    "states = prediction_and_actuals['State'].unique()\n",
    "\n",
    "# Generate and save a plot for each state\n",
    "for state in states:\n",
    "    # Filter data for the current state\n",
    "    state_data = prediction_and_actuals[prediction_and_actuals['State'] == state]\n",
    "    \n",
    "    # Set 'Year-Month' as the index\n",
    "    state_data.set_index('Year-Month', inplace=True)\n",
    "    \n",
    "    # Create the plot\n",
    "    plt.figure(figsize=(12, 6))\n",
    "    plt.plot(state_data.index, state_data['Sales_Prediction'], label='Sales Prediction', marker='o')\n",
    "    plt.plot(state_data.index, state_data['Sales_Actual'], label='Sales Actual', marker='o')\n",
    "    plt.title(f'Sales Prediction vs Actual Sales for {state}')\n",
    "    plt.xlabel('Year-Month')\n",
    "    plt.ylabel('Sales')\n",
    "    plt.legend()\n",
    "    plt.grid(True)\n",
    "    plt.xticks(rotation=45)\n",
    "    plt.tight_layout()\n",
    "    \n",
    "    # Save the plot to the specified directory\n",
    "    file_path = os.path.join(output_dir, f'{state}_sales.png')\n",
    "    plt.savefig(file_path)\n",
    "    plt.close()  # Close the figure to free up memory\n",
    "\n",
    "print(f'Figures saved in the directory: {output_dir}')\n"
   ]
  },
  {
   "cell_type": "markdown",
   "metadata": {},
   "source": [
    "# ____________________________________________________________"
   ]
  },
  {
   "cell_type": "markdown",
   "metadata": {},
   "source": [
    "### XGBOOST\n"
   ]
  },
  {
   "cell_type": "markdown",
   "metadata": {},
   "source": [
    "# ____________________________________________________________"
   ]
  },
  {
   "cell_type": "markdown",
   "metadata": {},
   "source": [
    "# Modeling - Bottom-Up Approach (Part 2)"
   ]
  },
  {
   "cell_type": "code",
   "execution_count": 8,
   "metadata": {},
   "outputs": [],
   "source": [
    "\n",
    "# Aggregate sales by Year-Month, State, and Sub-Category\n",
    "df_encoded = df.groupby(['Year-Month', 'State', 'Sub-Category'])['Sales'].sum().reset_index()\n",
    "\n",
    "#* ######## One-hot encode ############\n",
    "df_encoded = pd.get_dummies(df_encoded, columns=['Sub-Category', 'State'], drop_first=True)\n",
    "#* ######## ###############  ##########\n",
    "\n",
    "# Set 'Year-Month' as index\n",
    "df_encoded.set_index('Year-Month', inplace=True)\n",
    "\n",
    "# 3. Extract columns for scaling\n",
    "features_to_scale = df_encoded[['Sales']]\n",
    "\n",
    "# Very impotart -   MinMaxScaler to 0 to 1 range - avoiding high values\n",
    "sales = features_to_scale.values.reshape(-1, 1)\n",
    "scaler = MinMaxScaler()\n",
    "sales_scaled = scaler.fit_transform(sales)\n",
    "\n",
    "# Convert scaled data back to DataFrame\n",
    "scaled_df = pd.DataFrame(sales_scaled, columns=['Sales'], index=df_encoded.index)\n",
    "\n",
    "# Add encoded columns (dummies) to the scaled DataFrame\n",
    "scaled_df = pd.concat([scaled_df, df_encoded.drop(['Sales'], axis=1)], axis=1)\n"
   ]
  },
  {
   "cell_type": "code",
   "execution_count": 9,
   "metadata": {},
   "outputs": [],
   "source": [
    "\n",
    "#* ######## Create training, validation, and test sets ######### \n",
    "# Training set up to 01 2017\n",
    "train_data = scaled_df[scaled_df.index < '2017-01']\n",
    "\n",
    "# Validation set from 01 2017 to 12 2017\n",
    "val_data = scaled_df[(scaled_df.index >= '2017-01') & (scaled_df.index <= '2017-12')]\n",
    "\n",
    "# Test set for 2018\n",
    "test_data = scaled_df[scaled_df.index >= '2018-01']\n",
    "\n",
    "##################################\n",
    "y_train = train_data['Sales'].values\n",
    "y_val = val_data['Sales'].values\n",
    "y_test = test_data['Sales'].values  \n",
    "##################################\n",
    "\n",
    "##################################\n",
    "X_train = train_data.drop(['Sales'], axis=1).values\n",
    "X_val = val_data.drop(['Sales'], axis=1).values\n",
    "X_test = test_data.drop(['Sales'], axis=1).values  # Test set\n",
    "##################################\n",
    "\n",
    "################################## (samples, timesteps, features)\n",
    "X_train = X_train.reshape((X_train.shape[0], 1, X_train.shape[1]))\n",
    "X_val = X_val.reshape((X_val.shape[0], 1, X_val.shape[1]))\n",
    "X_test = X_test.reshape((X_test.shape[0], 1, X_test.shape[1]))  # Reshape test set\n",
    "##################################\n",
    "\n",
    "##################################\n",
    "# y_train = np.array(y_train)\n",
    "y_val = np.array(y_val)\n",
    "y_test = np.array(y_test)\n",
    "##################################"
   ]
  },
  {
   "cell_type": "code",
   "execution_count": 17,
   "metadata": {},
   "outputs": [
    {
     "name": "stdout",
     "output_type": "stream",
     "text": [
      "1.7315989779325377e-05 0.0 1.8022764872359068e-05\n",
      "0.7730134363245998 0.6184068264579134 1.0\n"
     ]
    }
   ],
   "source": [
    "print(min(y_val), min(y_test), min(y_train))\n",
    "print(max(y_val), max(y_test), max(y_train))"
   ]
  },
  {
   "cell_type": "code",
   "execution_count": 13,
   "metadata": {},
   "outputs": [
    {
     "name": "stderr",
     "output_type": "stream",
     "text": [
      "WARNING:absl:At this time, the v2.11+ optimizer `tf.keras.optimizers.Adam` runs slowly on M1/M2 Macs, please use the legacy Keras optimizer instead, located at `tf.keras.optimizers.legacy.Adam`.\n",
      "WARNING:absl:There is a known slowdown when using v2.11+ Keras optimizers on M1/M2 Macs. Falling back to the legacy Keras optimizer, i.e., `tf.keras.optimizers.legacy.Adam`.\n"
     ]
    },
    {
     "name": "stdout",
     "output_type": "stream",
     "text": [
      "Epoch 1/100\n"
     ]
    },
    {
     "name": "stderr",
     "output_type": "stream",
     "text": [
      "2024-09-29 17:07:28.955224: I tensorflow/core/grappler/optimizers/custom_graph_optimizer_registry.cc:114] Plugin optimizer for device_type GPU is enabled.\n",
      "2024-09-29 17:07:29.210618: I tensorflow/core/grappler/optimizers/custom_graph_optimizer_registry.cc:114] Plugin optimizer for device_type GPU is enabled.\n",
      "2024-09-29 17:07:29.520731: I tensorflow/core/grappler/optimizers/custom_graph_optimizer_registry.cc:114] Plugin optimizer for device_type GPU is enabled.\n",
      "2024-09-29 17:07:29.721087: I tensorflow/core/grappler/optimizers/custom_graph_optimizer_registry.cc:114] Plugin optimizer for device_type GPU is enabled.\n"
     ]
    },
    {
     "name": "stdout",
     "output_type": "stream",
     "text": [
      " 1/78 [..............................] - ETA: 2:42 - loss: 8.3229e-04 - mae: 0.0154"
     ]
    },
    {
     "name": "stderr",
     "output_type": "stream",
     "text": [
      "2024-09-29 17:07:29.869312: I tensorflow/core/grappler/optimizers/custom_graph_optimizer_registry.cc:114] Plugin optimizer for device_type GPU is enabled.\n"
     ]
    },
    {
     "name": "stdout",
     "output_type": "stream",
     "text": [
      "78/78 [==============================] - ETA: 0s - loss: 0.0014 - mae: 0.0167"
     ]
    },
    {
     "name": "stderr",
     "output_type": "stream",
     "text": [
      "2024-09-29 17:07:31.260518: I tensorflow/core/grappler/optimizers/custom_graph_optimizer_registry.cc:114] Plugin optimizer for device_type GPU is enabled.\n",
      "2024-09-29 17:07:31.339885: I tensorflow/core/grappler/optimizers/custom_graph_optimizer_registry.cc:114] Plugin optimizer for device_type GPU is enabled.\n",
      "2024-09-29 17:07:31.389743: I tensorflow/core/grappler/optimizers/custom_graph_optimizer_registry.cc:114] Plugin optimizer for device_type GPU is enabled.\n"
     ]
    },
    {
     "name": "stdout",
     "output_type": "stream",
     "text": [
      "78/78 [==============================] - 4s 23ms/step - loss: 0.0014 - mae: 0.0167 - val_loss: 0.0015 - val_mae: 0.0170\n",
      "Epoch 2/100\n",
      "78/78 [==============================] - 1s 13ms/step - loss: 0.0013 - mae: 0.0160 - val_loss: 0.0014 - val_mae: 0.0159\n",
      "Epoch 3/100\n",
      "78/78 [==============================] - 1s 12ms/step - loss: 0.0012 - mae: 0.0152 - val_loss: 0.0014 - val_mae: 0.0156\n",
      "Epoch 4/100\n",
      "78/78 [==============================] - 1s 15ms/step - loss: 0.0012 - mae: 0.0149 - val_loss: 0.0014 - val_mae: 0.0157\n",
      "Epoch 5/100\n",
      "78/78 [==============================] - 1s 12ms/step - loss: 0.0012 - mae: 0.0149 - val_loss: 0.0013 - val_mae: 0.0154\n",
      "Epoch 6/100\n",
      "78/78 [==============================] - 1s 13ms/step - loss: 0.0012 - mae: 0.0148 - val_loss: 0.0013 - val_mae: 0.0149\n",
      "Epoch 7/100\n",
      "78/78 [==============================] - 1s 12ms/step - loss: 0.0012 - mae: 0.0147 - val_loss: 0.0013 - val_mae: 0.0149\n",
      "Epoch 8/100\n",
      "78/78 [==============================] - 1s 13ms/step - loss: 0.0011 - mae: 0.0146 - val_loss: 0.0013 - val_mae: 0.0154\n",
      "Epoch 9/100\n",
      "78/78 [==============================] - 2s 21ms/step - loss: 0.0011 - mae: 0.0149 - val_loss: 0.0013 - val_mae: 0.0152\n",
      "Epoch 10/100\n",
      "78/78 [==============================] - 1s 17ms/step - loss: 0.0011 - mae: 0.0147 - val_loss: 0.0013 - val_mae: 0.0150\n",
      "Epoch 11/100\n",
      "78/78 [==============================] - 1s 13ms/step - loss: 0.0011 - mae: 0.0146 - val_loss: 0.0013 - val_mae: 0.0149\n",
      "Epoch 12/100\n",
      "78/78 [==============================] - 2s 21ms/step - loss: 0.0011 - mae: 0.0148 - val_loss: 0.0013 - val_mae: 0.0147\n",
      "Epoch 13/100\n",
      "78/78 [==============================] - 1s 13ms/step - loss: 0.0011 - mae: 0.0147 - val_loss: 0.0013 - val_mae: 0.0149\n",
      "Epoch 14/100\n",
      "78/78 [==============================] - 1s 12ms/step - loss: 0.0011 - mae: 0.0145 - val_loss: 0.0013 - val_mae: 0.0154\n",
      "Epoch 15/100\n",
      "78/78 [==============================] - 1s 17ms/step - loss: 0.0011 - mae: 0.0146 - val_loss: 0.0013 - val_mae: 0.0153\n",
      "Epoch 16/100\n",
      "78/78 [==============================] - 1s 12ms/step - loss: 0.0011 - mae: 0.0147 - val_loss: 0.0013 - val_mae: 0.0151\n",
      "Epoch 17/100\n",
      "78/78 [==============================] - 1s 11ms/step - loss: 0.0011 - mae: 0.0144 - val_loss: 0.0013 - val_mae: 0.0155\n",
      "Epoch 18/100\n",
      "78/78 [==============================] - 1s 11ms/step - loss: 0.0011 - mae: 0.0149 - val_loss: 0.0013 - val_mae: 0.0149\n",
      "Epoch 19/100\n",
      "78/78 [==============================] - 1s 11ms/step - loss: 0.0011 - mae: 0.0145 - val_loss: 0.0013 - val_mae: 0.0151\n",
      "Epoch 20/100\n",
      "78/78 [==============================] - 1s 12ms/step - loss: 0.0011 - mae: 0.0144 - val_loss: 0.0013 - val_mae: 0.0154\n",
      "Epoch 21/100\n",
      "78/78 [==============================] - 1s 18ms/step - loss: 0.0011 - mae: 0.0145 - val_loss: 0.0013 - val_mae: 0.0151\n",
      "Epoch 22/100\n",
      "78/78 [==============================] - 1s 12ms/step - loss: 0.0011 - mae: 0.0143 - val_loss: 0.0013 - val_mae: 0.0152\n",
      "Epoch 23/100\n",
      "78/78 [==============================] - 1s 14ms/step - loss: 0.0011 - mae: 0.0144 - val_loss: 0.0013 - val_mae: 0.0156\n",
      "Epoch 24/100\n",
      "78/78 [==============================] - 1s 12ms/step - loss: 0.0011 - mae: 0.0149 - val_loss: 0.0013 - val_mae: 0.0147\n",
      "Epoch 25/100\n",
      "78/78 [==============================] - 1s 19ms/step - loss: 0.0011 - mae: 0.0142 - val_loss: 0.0013 - val_mae: 0.0153\n",
      "Epoch 26/100\n",
      "78/78 [==============================] - 1s 12ms/step - loss: 0.0011 - mae: 0.0148 - val_loss: 0.0013 - val_mae: 0.0146\n",
      "Epoch 27/100\n",
      "78/78 [==============================] - 1s 13ms/step - loss: 0.0011 - mae: 0.0143 - val_loss: 0.0013 - val_mae: 0.0148\n",
      "Epoch 28/100\n",
      "78/78 [==============================] - 1s 11ms/step - loss: 0.0011 - mae: 0.0144 - val_loss: 0.0013 - val_mae: 0.0150\n",
      "Epoch 29/100\n",
      "78/78 [==============================] - 1s 15ms/step - loss: 0.0011 - mae: 0.0143 - val_loss: 0.0013 - val_mae: 0.0152\n",
      "Epoch 30/100\n",
      "78/78 [==============================] - 1s 11ms/step - loss: 0.0011 - mae: 0.0142 - val_loss: 0.0013 - val_mae: 0.0154\n",
      "Epoch 31/100\n",
      "78/78 [==============================] - 1s 11ms/step - loss: 0.0011 - mae: 0.0148 - val_loss: 0.0013 - val_mae: 0.0151\n",
      "Epoch 32/100\n",
      "78/78 [==============================] - 1s 12ms/step - loss: 0.0011 - mae: 0.0143 - val_loss: 0.0013 - val_mae: 0.0151\n",
      "Epoch 33/100\n",
      "78/78 [==============================] - 1s 12ms/step - loss: 0.0011 - mae: 0.0144 - val_loss: 0.0013 - val_mae: 0.0149\n",
      "Epoch 34/100\n",
      "78/78 [==============================] - 1s 13ms/step - loss: 0.0011 - mae: 0.0144 - val_loss: 0.0013 - val_mae: 0.0149\n",
      "Epoch 35/100\n",
      "78/78 [==============================] - 1s 14ms/step - loss: 0.0011 - mae: 0.0142 - val_loss: 0.0013 - val_mae: 0.0156\n",
      "Epoch 36/100\n",
      "78/78 [==============================] - 1s 12ms/step - loss: 0.0011 - mae: 0.0143 - val_loss: 0.0013 - val_mae: 0.0155\n",
      "Epoch 37/100\n",
      "78/78 [==============================] - 1s 11ms/step - loss: 0.0011 - mae: 0.0145 - val_loss: 0.0013 - val_mae: 0.0150\n",
      "Epoch 38/100\n",
      "78/78 [==============================] - 1s 11ms/step - loss: 0.0011 - mae: 0.0144 - val_loss: 0.0013 - val_mae: 0.0150\n",
      "Epoch 39/100\n",
      "78/78 [==============================] - 1s 15ms/step - loss: 0.0011 - mae: 0.0144 - val_loss: 0.0013 - val_mae: 0.0150\n",
      "Epoch 40/100\n",
      "78/78 [==============================] - 1s 13ms/step - loss: 0.0011 - mae: 0.0144 - val_loss: 0.0013 - val_mae: 0.0147\n",
      "Epoch 41/100\n",
      "78/78 [==============================] - 1s 12ms/step - loss: 0.0011 - mae: 0.0143 - val_loss: 0.0013 - val_mae: 0.0146\n",
      "Epoch 42/100\n",
      "78/78 [==============================] - 1s 15ms/step - loss: 0.0011 - mae: 0.0139 - val_loss: 0.0013 - val_mae: 0.0152\n",
      "Epoch 43/100\n",
      "78/78 [==============================] - 1s 13ms/step - loss: 0.0011 - mae: 0.0143 - val_loss: 0.0013 - val_mae: 0.0151\n",
      "Epoch 44/100\n",
      "78/78 [==============================] - 1s 13ms/step - loss: 0.0011 - mae: 0.0142 - val_loss: 0.0013 - val_mae: 0.0151\n",
      "Epoch 45/100\n",
      "78/78 [==============================] - 2s 25ms/step - loss: 0.0011 - mae: 0.0141 - val_loss: 0.0013 - val_mae: 0.0153\n",
      "Epoch 46/100\n",
      "78/78 [==============================] - 1s 14ms/step - loss: 0.0011 - mae: 0.0141 - val_loss: 0.0013 - val_mae: 0.0156\n",
      "Epoch 47/100\n",
      "78/78 [==============================] - 1s 11ms/step - loss: 0.0011 - mae: 0.0144 - val_loss: 0.0013 - val_mae: 0.0150\n",
      "Epoch 48/100\n",
      "78/78 [==============================] - 1s 12ms/step - loss: 0.0011 - mae: 0.0140 - val_loss: 0.0013 - val_mae: 0.0151\n",
      "Epoch 49/100\n",
      "78/78 [==============================] - 1s 11ms/step - loss: 0.0011 - mae: 0.0141 - val_loss: 0.0013 - val_mae: 0.0150\n",
      "Epoch 50/100\n",
      "78/78 [==============================] - 1s 11ms/step - loss: 0.0011 - mae: 0.0141 - val_loss: 0.0013 - val_mae: 0.0153\n",
      "Epoch 51/100\n",
      "78/78 [==============================] - 1s 14ms/step - loss: 0.0011 - mae: 0.0143 - val_loss: 0.0013 - val_mae: 0.0147\n",
      "Epoch 52/100\n",
      "78/78 [==============================] - 1s 11ms/step - loss: 0.0011 - mae: 0.0140 - val_loss: 0.0013 - val_mae: 0.0149\n",
      "Epoch 53/100\n",
      "78/78 [==============================] - 1s 11ms/step - loss: 0.0011 - mae: 0.0140 - val_loss: 0.0013 - val_mae: 0.0161\n",
      "Epoch 54/100\n",
      "78/78 [==============================] - 1s 11ms/step - loss: 0.0011 - mae: 0.0142 - val_loss: 0.0013 - val_mae: 0.0153\n",
      "Epoch 55/100\n",
      "78/78 [==============================] - 1s 11ms/step - loss: 0.0011 - mae: 0.0140 - val_loss: 0.0013 - val_mae: 0.0150\n",
      "Epoch 56/100\n",
      "78/78 [==============================] - 1s 11ms/step - loss: 0.0011 - mae: 0.0139 - val_loss: 0.0013 - val_mae: 0.0156\n",
      "Epoch 57/100\n",
      "78/78 [==============================] - 1s 14ms/step - loss: 0.0011 - mae: 0.0144 - val_loss: 0.0013 - val_mae: 0.0148\n",
      "Epoch 58/100\n",
      "78/78 [==============================] - 1s 11ms/step - loss: 0.0011 - mae: 0.0142 - val_loss: 0.0013 - val_mae: 0.0150\n",
      "Epoch 59/100\n",
      "78/78 [==============================] - 1s 11ms/step - loss: 0.0011 - mae: 0.0140 - val_loss: 0.0013 - val_mae: 0.0153\n",
      "Epoch 60/100\n",
      "78/78 [==============================] - 1s 11ms/step - loss: 0.0011 - mae: 0.0144 - val_loss: 0.0013 - val_mae: 0.0149\n",
      "Epoch 61/100\n",
      "78/78 [==============================] - 1s 12ms/step - loss: 0.0011 - mae: 0.0140 - val_loss: 0.0013 - val_mae: 0.0149\n",
      "Epoch 62/100\n",
      "78/78 [==============================] - 1s 15ms/step - loss: 0.0010 - mae: 0.0139 - val_loss: 0.0013 - val_mae: 0.0149\n",
      "Epoch 63/100\n",
      "78/78 [==============================] - 1s 11ms/step - loss: 0.0011 - mae: 0.0141 - val_loss: 0.0013 - val_mae: 0.0148\n",
      "Epoch 64/100\n",
      "78/78 [==============================] - 1s 12ms/step - loss: 0.0011 - mae: 0.0141 - val_loss: 0.0013 - val_mae: 0.0146\n",
      "Epoch 65/100\n",
      "78/78 [==============================] - 1s 12ms/step - loss: 0.0011 - mae: 0.0137 - val_loss: 0.0013 - val_mae: 0.0156\n",
      "Epoch 66/100\n",
      "78/78 [==============================] - 1s 11ms/step - loss: 0.0011 - mae: 0.0143 - val_loss: 0.0013 - val_mae: 0.0148\n",
      "Epoch 67/100\n",
      "78/78 [==============================] - 1s 11ms/step - loss: 0.0011 - mae: 0.0140 - val_loss: 0.0013 - val_mae: 0.0150\n",
      "Epoch 68/100\n",
      "78/78 [==============================] - 1s 14ms/step - loss: 0.0010 - mae: 0.0140 - val_loss: 0.0013 - val_mae: 0.0149\n",
      "Epoch 69/100\n",
      "78/78 [==============================] - 1s 11ms/step - loss: 0.0011 - mae: 0.0139 - val_loss: 0.0013 - val_mae: 0.0150\n",
      "Epoch 70/100\n",
      "78/78 [==============================] - 1s 12ms/step - loss: 0.0011 - mae: 0.0139 - val_loss: 0.0013 - val_mae: 0.0146\n",
      "Epoch 71/100\n",
      "78/78 [==============================] - 1s 11ms/step - loss: 0.0011 - mae: 0.0138 - val_loss: 0.0013 - val_mae: 0.0150\n",
      "Epoch 72/100\n",
      "78/78 [==============================] - 1s 11ms/step - loss: 0.0010 - mae: 0.0138 - val_loss: 0.0013 - val_mae: 0.0148\n",
      "Epoch 73/100\n",
      "78/78 [==============================] - 1s 14ms/step - loss: 0.0011 - mae: 0.0142 - val_loss: 0.0013 - val_mae: 0.0148\n",
      "Epoch 74/100\n",
      "78/78 [==============================] - 1s 12ms/step - loss: 0.0010 - mae: 0.0137 - val_loss: 0.0013 - val_mae: 0.0152\n",
      "Epoch 75/100\n",
      "78/78 [==============================] - 1s 12ms/step - loss: 0.0011 - mae: 0.0138 - val_loss: 0.0013 - val_mae: 0.0154\n",
      "Epoch 76/100\n",
      "78/78 [==============================] - 1s 12ms/step - loss: 0.0010 - mae: 0.0139 - val_loss: 0.0013 - val_mae: 0.0153\n",
      "Epoch 77/100\n",
      "78/78 [==============================] - 1s 16ms/step - loss: 0.0010 - mae: 0.0139 - val_loss: 0.0013 - val_mae: 0.0150\n",
      "Epoch 78/100\n",
      "78/78 [==============================] - 1s 12ms/step - loss: 0.0010 - mae: 0.0140 - val_loss: 0.0013 - val_mae: 0.0148\n",
      "Epoch 79/100\n",
      "78/78 [==============================] - 1s 11ms/step - loss: 0.0011 - mae: 0.0140 - val_loss: 0.0013 - val_mae: 0.0147\n",
      "Epoch 80/100\n",
      "78/78 [==============================] - 1s 13ms/step - loss: 0.0010 - mae: 0.0138 - val_loss: 0.0013 - val_mae: 0.0151\n",
      "Epoch 81/100\n",
      "78/78 [==============================] - 1s 11ms/step - loss: 0.0010 - mae: 0.0138 - val_loss: 0.0013 - val_mae: 0.0149\n",
      "Epoch 82/100\n",
      "78/78 [==============================] - 1s 14ms/step - loss: 0.0010 - mae: 0.0137 - val_loss: 0.0013 - val_mae: 0.0151\n",
      "Epoch 83/100\n",
      "78/78 [==============================] - 1s 11ms/step - loss: 0.0010 - mae: 0.0139 - val_loss: 0.0013 - val_mae: 0.0149\n",
      "Epoch 84/100\n",
      "78/78 [==============================] - 1s 11ms/step - loss: 0.0011 - mae: 0.0138 - val_loss: 0.0013 - val_mae: 0.0146\n",
      "Epoch 85/100\n",
      "78/78 [==============================] - 1s 12ms/step - loss: 0.0010 - mae: 0.0136 - val_loss: 0.0013 - val_mae: 0.0152\n",
      "Epoch 86/100\n",
      "78/78 [==============================] - 1s 11ms/step - loss: 0.0010 - mae: 0.0140 - val_loss: 0.0013 - val_mae: 0.0146\n",
      "Epoch 87/100\n",
      "78/78 [==============================] - 1s 14ms/step - loss: 0.0010 - mae: 0.0136 - val_loss: 0.0013 - val_mae: 0.0157\n",
      "Epoch 88/100\n",
      "78/78 [==============================] - 1s 11ms/step - loss: 0.0010 - mae: 0.0140 - val_loss: 0.0013 - val_mae: 0.0149\n",
      "Epoch 89/100\n",
      "78/78 [==============================] - 1s 11ms/step - loss: 0.0010 - mae: 0.0138 - val_loss: 0.0013 - val_mae: 0.0149\n",
      "Epoch 90/100\n",
      "78/78 [==============================] - 1s 11ms/step - loss: 0.0010 - mae: 0.0137 - val_loss: 0.0013 - val_mae: 0.0147\n",
      "Epoch 91/100\n",
      "78/78 [==============================] - 1s 11ms/step - loss: 0.0010 - mae: 0.0138 - val_loss: 0.0013 - val_mae: 0.0152\n",
      "Epoch 92/100\n",
      "78/78 [==============================] - 1s 15ms/step - loss: 0.0010 - mae: 0.0137 - val_loss: 0.0013 - val_mae: 0.0147\n",
      "Epoch 93/100\n",
      "78/78 [==============================] - 1s 12ms/step - loss: 0.0011 - mae: 0.0140 - val_loss: 0.0013 - val_mae: 0.0149\n",
      "Epoch 94/100\n",
      "78/78 [==============================] - 1s 12ms/step - loss: 0.0010 - mae: 0.0138 - val_loss: 0.0013 - val_mae: 0.0148\n",
      "Epoch 95/100\n",
      "78/78 [==============================] - 1s 12ms/step - loss: 0.0010 - mae: 0.0137 - val_loss: 0.0013 - val_mae: 0.0146\n",
      "Epoch 96/100\n",
      "78/78 [==============================] - 1s 12ms/step - loss: 0.0010 - mae: 0.0136 - val_loss: 0.0013 - val_mae: 0.0150\n",
      "Epoch 97/100\n",
      "78/78 [==============================] - 1s 15ms/step - loss: 0.0010 - mae: 0.0137 - val_loss: 0.0013 - val_mae: 0.0152\n",
      "Epoch 98/100\n",
      "78/78 [==============================] - 1s 11ms/step - loss: 0.0010 - mae: 0.0140 - val_loss: 0.0013 - val_mae: 0.0149\n",
      "Epoch 99/100\n",
      "78/78 [==============================] - 1s 11ms/step - loss: 0.0010 - mae: 0.0136 - val_loss: 0.0013 - val_mae: 0.0145\n",
      "Epoch 100/100\n",
      "78/78 [==============================] - 1s 11ms/step - loss: 0.0010 - mae: 0.0137 - val_loss: 0.0013 - val_mae: 0.0146\n",
      " 1/47 [..............................] - ETA: 17s"
     ]
    },
    {
     "name": "stderr",
     "output_type": "stream",
     "text": [
      "2024-09-29 17:09:10.632648: I tensorflow/core/grappler/optimizers/custom_graph_optimizer_registry.cc:114] Plugin optimizer for device_type GPU is enabled.\n",
      "2024-09-29 17:09:10.701401: I tensorflow/core/grappler/optimizers/custom_graph_optimizer_registry.cc:114] Plugin optimizer for device_type GPU is enabled.\n",
      "2024-09-29 17:09:10.759898: I tensorflow/core/grappler/optimizers/custom_graph_optimizer_registry.cc:114] Plugin optimizer for device_type GPU is enabled.\n"
     ]
    },
    {
     "name": "stdout",
     "output_type": "stream",
     "text": [
      "47/47 [==============================] - 1s 3ms/step\n"
     ]
    }
   ],
   "source": [
    "\n",
    "#* ####################################################\n",
    "#* ############ Create the LSTM model ################\n",
    "model = Sequential()  \n",
    "model.add(LSTM(units=100, return_sequences=True, input_shape=(X_train.shape[1], X_train.shape[2]))) \n",
    "\n",
    "model.add(Dropout(0.2)) \n",
    "model.add(LSTM(units=100, return_sequences=False))  # do not return sequences as it's the last LSTM layer\n",
    "\n",
    "model.add(Dropout(0.3))  # Add another dropout layer\n",
    "model.add(Dense(units=1))  # Add a Dense layer with 1 unit for output\n",
    "#* ####################################################\n",
    "#* ####################################################\n",
    "\n",
    "\n",
    "# Learning rate for the optimizer\n",
    "learning_rate = 0.0001  \n",
    "optimizer = Adam(learning_rate=learning_rate) \n",
    "\n",
    "\n",
    "#* ################ Compile and train the model ################\n",
    "model.compile(optimizer=optimizer, loss='mean_squared_error', metrics=['mae'])  \n",
    "\n",
    "history = model.fit(X_train, y_train, epochs=100, batch_size=32, validation_data=(X_val, y_val))  \n"
   ]
  },
  {
   "cell_type": "code",
   "execution_count": 14,
   "metadata": {},
   "outputs": [
    {
     "name": "stdout",
     "output_type": "stream",
     "text": [
      "47/47 [==============================] - 1s 10ms/step - loss: 0.0013 - mae: 0.0146\n",
      "Test Loss: 0.001263165264390409\n",
      "Test MAE: 0.014582477509975433\n"
     ]
    }
   ],
   "source": [
    "test_loss, test_mae = model.evaluate(X_val, y_val)\n",
    "print(f'Test Loss: {test_loss}')\n",
    "print(f'Test MAE: {test_mae}')\n"
   ]
  },
  {
   "cell_type": "code",
   "execution_count": 18,
   "metadata": {},
   "outputs": [
    {
     "data": {
      "image/png": "[encoded data removed]",
      "text/plain": [
       "<Figure size 1000x600 with 1 Axes>"
      ]
     },
     "metadata": {},
     "output_type": "display_data"
    }
   ],
   "source": [
    "\n",
    "plt.figure(figsize=(10, 6))\n",
    "plt.plot(history.history['mae'], label='Train MAE')  \n",
    "plt.plot(history.history['val_mae'], label='Validation MAE')  \n",
    "plt.title('Training and Validation MAE Over Epochs')\n",
    "plt.xlabel('Epochs')\n",
    "plt.ylabel('Mean Absolute Error')\n",
    "plt.legend()\n",
    "plt.show()\n"
   ]
  },
  {
   "cell_type": "code",
   "execution_count": 19,
   "metadata": {},
   "outputs": [
    {
     "data": {
      "image/png": "[encoded data removed]",
      "text/plain": [
       "<Figure size 1000x600 with 1 Axes>"
      ]
     },
     "metadata": {},
     "output_type": "display_data"
    }
   ],
   "source": [
    "\n",
    "plt.figure(figsize=(10, 6))\n",
    "plt.plot(history.history['loss'], label='Training Loss')  \n",
    "plt.plot(history.history['val_loss'], label='Validation Loss')  \n",
    "plt.title('T')\n",
    "plt.xlabel('Epochs')\n",
    "plt.ylabel('Loss')\n",
    "plt.legend()\n",
    "plt.show()\n"
   ]
  },
  {
   "cell_type": "code",
   "execution_count": 17,
   "metadata": {},
   "outputs": [
    {
     "name": "stdout",
     "output_type": "stream",
     "text": [
      "55/55 [==============================] - 1s 8ms/step\n",
      "     Year-Month  Real Sales  Predicted Sales       State Sub-Category  \\\n",
      "0       2018-01      15.470        60.087093     Arizona          Art   \n",
      "1       2018-01      40.900       284.558411     Arizona      Binders   \n",
      "2       2018-01      95.984       260.150543     Arizona   Appliances   \n",
      "3       2018-01       4.938       277.209808     Arizona      Binders   \n",
      "4       2018-01     256.560       562.626709  California   Appliances   \n",
      "...         ...         ...              ...         ...          ...   \n",
      "1731    2018-12     459.920       616.594604   Wisconsin    Bookcases   \n",
      "1732    2018-12      99.950       129.339706   Wisconsin  Furnishings   \n",
      "1733    2018-12      61.060        55.285309   Wisconsin       Labels   \n",
      "1734    2018-12      27.520        76.576012   Wisconsin        Paper   \n",
      "1735    2018-12      32.560       373.044739   Wisconsin      Storage   \n",
      "\n",
      "      Aggregated Sales  \n",
      "0                  NaN  \n",
      "1                4.938  \n",
      "2                  NaN  \n",
      "3                4.938  \n",
      "4               25.860  \n",
      "...                ...  \n",
      "1731           459.920  \n",
      "1732            99.950  \n",
      "1733            61.060  \n",
      "1734            27.520  \n",
      "1735            32.560  \n",
      "\n",
      "[1736 rows x 6 columns]\n"
     ]
    }
   ],
   "source": [
    "# Make predictions on the test set\n",
    "y_pred_test = model.predict(X_test)  # Generate predictions using the trained model on the test data\n",
    "\n",
    "# Inverse scaling of predictions and actual values\n",
    "# Combine features and predicted values, then inverse transform to get original scale\n",
    "y_pred_test_inverse = scaler.inverse_transform(np.hstack((X_test.reshape(X_test.shape[0], -1), y_pred_test)))\n",
    "y_test_inverse = scaler.inverse_transform(np.hstack((X_test.reshape(X_test.shape[0], -1), y_test.reshape(-1, 1))))\n",
    "\n",
    "# Create a DataFrame for the predicted and actual sales\n",
    "predictions_df = pd.DataFrame({\n",
    "    'Year-Month': test_data.index,  # Use the index from the test data for the Year-Month\n",
    "    'Real Sales': y_test_inverse[:, -1],  # Last column for 'Sales' values\n",
    "    'Predicted Sales': y_pred_test_inverse[:, -1]  # Last column for predicted 'Sales'\n",
    "})\n",
    "\n",
    "#* ############## Convert dummy columns to categorical columns\n",
    "#* ######################################################################\n",
    "\n",
    "state_columns = [col for col in test_data.columns if 'State_' in col]  # Identify state dummy columns\n",
    "sub_cat_columns = [col for col in test_data.columns if 'Sub-Category_' in col]  # Identify sub-category dummy columns\n",
    "\n",
    "dummy_data = test_data[state_columns + sub_cat_columns]  # Extract dummy columns\n",
    "decoded_data = pd.DataFrame(scaler.inverse_transform(dummy_data), columns=dummy_data.columns)  # Inverse scale the dummy data\n",
    "\n",
    "decoded_data['State'] = decoded_data[state_columns].idxmax(axis=1).str.replace('State_', '')  # Get the original state names\n",
    "decoded_data['Sub-Category'] = decoded_data[sub_cat_columns].idxmax(axis=1).str.replace('Sub-Category_', '')  # Get the original sub-category names\n",
    "\n",
    "#* ######################################################################\n",
    "#* ######################################################################\n",
    "\n",
    "# Add 'State' and 'Sub-Category' columns to the predictions DataFrame\n",
    "predictions_df = pd.concat([predictions_df, decoded_data[['State', 'Sub-Category']]], axis=1)\n",
    "\n",
    "# 1. Group the original DataFrame df by Year-Month, State, and Sub-Category and sum sales\n",
    "df_grouped = df.groupby(['Year-Month', 'State', 'Sub-Category'])['Sales'].sum().reset_index()  # Aggregate sales data\n",
    "\n",
    "# Merge the predictionsaFr with the aggregated data\n",
    "predictions_df = predictions_df.merge(df_grouped, on=['Year-Month', 'State', 'Sub-Category'], how='left', suffixes=('', '_agg'))\n",
    "\n",
    "predictions_df.rename(columns={'Sales': 'Aggregated Sales'}, inplace=True)  # Rename the sales column for clarity\n"
   ]
  },
  {
   "cell_type": "code",
   "execution_count": 58,
   "metadata": {},
   "outputs": [
    {
     "name": "stdout",
     "output_type": "stream",
     "text": [
      "         State Year-Month   Real Sales  Predicted Sales  Accuracy\n",
      "0      Arizona    2018-01   157.292000      1065.279419  6.772623\n",
      "1      Arizona    2018-02  1112.044723      1788.965210  1.608717\n",
      "2      Arizona    2018-04  1079.056000      1561.061523  1.446692\n",
      "3      Arizona    2018-05  1114.123897      2136.491699  1.917643\n",
      "4      Arizona    2018-06   951.548000      2041.188354  2.145124\n",
      "..         ...        ...          ...              ...       ...\n",
      "344  Wisconsin    2018-08   113.410000       350.500244  3.090559\n",
      "345  Wisconsin    2018-09   312.610167      1345.802124  4.305049\n",
      "346  Wisconsin    2018-10    60.720000       222.086044  3.657544\n",
      "347  Wisconsin    2018-11   442.262750      1192.234131  2.695760\n",
      "348  Wisconsin    2018-12  2020.770345      1946.409668  0.963202\n",
      "\n",
      "[349 rows x 5 columns]\n"
     ]
    }
   ],
   "source": [
    "\n",
    "# Group by 'State' and 'Year-Month' \n",
    "grouped_predictions = predictions_df.groupby(['State', 'Year-Month']).agg({\n",
    "    'Real Sales': 'sum',  \n",
    "    'Predicted Sales': 'sum' \n",
    "}).reset_index()  \n",
    "\n",
    "# Calculate accuracy as a percentage of predicted sales to real sales\n",
    "grouped_predictions['Accuracy'] = grouped_predictions['Predicted Sales'] / grouped_predictions['Real Sales']\n",
    "\n",
    "# Handle any division by zero cases\n",
    "# Replace infinite values with NaN and then fill NaN with 0\n",
    "grouped_predictions['Accuracy'].replace([np.inf, -np.inf], np.nan, inplace=True)  # Replace inf/-inf with NaN\n",
    "grouped_predictions['Accuracy'].fillna(0, inplace=True)  # Fill NaN with 0 to avoid any invalid accuracy\n",
    "\n",
    "# Print the DataFrame with real sales, predicted sales, and accuracy\n",
    "print(grouped_predictions)  # Display the grouped predictions DataFrame\n"
   ]
  },
  {
   "cell_type": "code",
   "execution_count": 22,
   "metadata": {},
   "outputs": [
    {
     "name": "stdout",
     "output_type": "stream",
     "text": [
      "Mean Squared Error (MSE): 4434038.3141\n",
      "Root Mean Squared Error (RMSE): 2105.7156\n",
      "Mean Absolute Error (MAE): 1072.2502\n",
      "R-squared (R²): 0.6162\n"
     ]
    }
   ],
   "source": [
    "\n",
    "grouped_predictions = predictions_df.groupby(['State', 'Year-Month']).agg({\n",
    "    'Real Sales': 'sum',  \n",
    "    'Predicted Sales': 'sum' \n",
    "}).reset_index()  \n",
    "\n",
    "# Calcola le metriche\n",
    "mse = mean_squared_error(grouped_predictions['Real Sales'], grouped_predictions['Predicted Sales'])\n",
    "rmse = np.sqrt(mse)\n",
    "mae = mean_absolute_error(grouped_predictions['Real Sales'], grouped_predictions['Predicted Sales'])\n",
    "r_squared = r2_score(grouped_predictions['Real Sales'], grouped_predictions['Predicted Sales'])\n",
    "\n",
    "# Stampa i risultati\n",
    "print(f\"Mean Squared Error (MSE): {mse:.4f}\")\n",
    "print(f\"Root Mean Squared Error (RMSE): {rmse:.4f}\")\n",
    "print(f\"Mean Absolute Error (MAE): {mae:.4f}\")\n",
    "print(f\"R-squared (R²): {r_squared:.4f}\")\n"
   ]
  },
  {
   "cell_type": "code",
   "execution_count": 63,
   "metadata": {},
   "outputs": [
    {
     "name": "stdout",
     "output_type": "stream",
     "text": [
      "Figures saved in the directory: lstm_state_sales_figures\n"
     ]
    }
   ],
   "source": [
    "\n",
    "# Convert 'Year-Month' to datetime format for plotting\n",
    "if pd.api.types.is_period_dtype(grouped_predictions['Year-Month']):\n",
    "    grouped_predictions['Year-Month'] = grouped_predictions['Year-Month'].dt.to_timestamp()\n",
    "else:\n",
    "    grouped_predictions['Year-Month'] = pd.to_datetime(grouped_predictions['Year-Month'], format='%Y-%m')\n",
    "\n",
    "# Create a directory to save figures\n",
    "output_dir = 'lstm_state_sales_figures'\n",
    "os.makedirs(output_dir, exist_ok=True)\n",
    "\n",
    "# Get the list of unique states\n",
    "states = grouped_predictions['State'].unique()\n",
    "\n",
    "# Generate and save a plot for each state\n",
    "for state in states:\n",
    "    # Filter data for the current state\n",
    "    state_data = grouped_predictions[grouped_predictions['State'] == state]\n",
    "    \n",
    "    # Set 'Year-Month' as the index\n",
    "    state_data.set_index('Year-Month', inplace=True)\n",
    "    \n",
    "    # Create the plot\n",
    "    plt.figure(figsize=(12, 6))\n",
    "    plt.plot(state_data.index, state_data['Predicted Sales'], label='Sales Prediction', marker='o', color='blue')\n",
    "    plt.plot(state_data.index, state_data['Real Sales'], label='Sales Actual', marker='o', color='orange')\n",
    "    plt.title(f'Sales Prediction vs Actual Sales for {state}')\n",
    "    plt.xlabel('Year-Month')\n",
    "    plt.ylabel('Sales')\n",
    "    plt.legend()\n",
    "    plt.grid(True)\n",
    "    plt.xticks(rotation=45)\n",
    "    plt.tight_layout()\n",
    "    \n",
    "    # Save the plot to the specified directory\n",
    "    file_path = os.path.join(output_dir, f'{state}_sales.png')\n",
    "    plt.savefig(file_path)\n",
    "    plt.close()  # Close the figure to free up memory\n",
    "\n",
    "print(f'Figures saved in the directory: {output_dir}')\n"
   ]
  }
 ],
 "metadata": {
  "kernelspec": {
   "display_name": "Python 3.10 (tensorflow)",
   "language": "python",
   "name": "tensorflow"
  },
  "language_info": {
   "codemirror_mode": {
    "name": "ipython",
    "version": 3
   },
   "file_extension": ".py",
   "mimetype": "text/x-python",
   "name": "python",
   "nbconvert_exporter": "python",
   "pygments_lexer": "ipython3",
   "version": "3.10.12"
  }
 },
 "nbformat": 4,
 "nbformat_minor": 2
}
