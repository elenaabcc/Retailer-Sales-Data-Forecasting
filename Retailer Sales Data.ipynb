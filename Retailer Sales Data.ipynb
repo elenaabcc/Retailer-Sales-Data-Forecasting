{
 "cells": [
  {
   "cell_type": "markdown",
   "metadata": {},
   "source": [
    "### Retailer Sales Data Forecasting\n",
    "\n",
    "This dataset contains the daily sales data of a US retailer.  \n",
    "Your objective is to forecast the total sales for each State over the next 12 months, using the historical data provided.\n"
   ]
  },
  {
   "cell_type": "markdown",
   "metadata": {},
   "source": [
    "### Part 1: Top-Down Approach\n",
    "\n",
    "1. **Aggregate Sales:**  \n",
    "   Combine the sales data to create total sales at the `year-month` level, using the `Order Date` as the time variable for aggregation.\n",
    "\n",
    "\n",
    "2. **Train a Model:**  \n",
    "   Using the aggregated `year-month` data, train a model to forecast the total sales for the next 12 months.  \n",
    "   *(The choice of model is up to you.)*\n",
    "\n",
    "3. **Disaggregate Predictions:**  \n",
    "   Split the predicted sales from the `year-month` level back to the `year-month-State` level.  \n",
    "   *(The splitting strategy is up to you.)*\n",
    "\n",
    "4. **Evaluate Accuracy:**  \n",
    "   Assess the forecast accuracy at both the `year-month` and `year-month-State` levels.\n"
   ]
  },
  {
   "cell_type": "markdown",
   "metadata": {},
   "source": [
    "# ____________________________________________________________"
   ]
  },
  {
   "cell_type": "markdown",
   "metadata": {},
   "source": [
    "### Part 2: Alternative Approach\n",
    "\n",
    "- Implement a different approach to forecast the next 12 months of sales at the `year-month-State` level.\n"
   ]
  },
  {
   "cell_type": "markdown",
   "metadata": {},
   "source": [
    "# ____________________________________________________________"
   ]
  },
  {
   "cell_type": "code",
   "execution_count": 1,
   "metadata": {},
   "outputs": [],
   "source": [
    "# Libraries\n",
    "\n",
    "# Data handling and manipulation\n",
    "import pandas as pd  \n",
    "import numpy as np  \n",
    "import os\n",
    "\n",
    "# Evaluation metrics\n",
    "from sklearn.metrics import mean_squared_error, mean_absolute_error, r2_score\n",
    "\n",
    "\n",
    "# Data visualization\n",
    "import matplotlib.pyplot as plt  \n",
    "\n",
    "# Data preprocessing\n",
    "from sklearn.preprocessing import MinMaxScaler  # this scales data between a min and max value\n",
    "\n",
    "# Deep learning framework\n",
    "# Time series modeling\n",
    "from statsmodels.tsa.statespace.sarimax import SARIMAX   \n",
    "from keras.optimizers import Adam\n",
    "import visualkeras\n",
    "from keras.models import Sequential\n",
    "from keras.layers import LSTM, Dropout, Dense, BatchNormalization, LeakyReLU\n",
    "from keras.optimizers import Adam\n",
    "from keras.callbacks import EarlyStopping\n",
    "\n"
   ]
  },
  {
   "cell_type": "markdown",
   "metadata": {},
   "source": [
    "# ETL"
   ]
  },
  {
   "cell_type": "code",
   "execution_count": 2,
   "metadata": {},
   "outputs": [],
   "source": [
    "# Load the dataset\n",
    "df = pd.read_csv('Retailer Sales Data.csv')\n",
    "\n",
    "# Convert 'Order Date' and 'Ship Date' columns to datetime format\n",
    "df['Order Date'] = pd.to_datetime(df['Order Date'], format='%d/%m/%Y')\n",
    "df['Ship Date'] = pd.to_datetime(df['Ship Date'], format='%d/%m/%Y')\n"
   ]
  },
  {
   "cell_type": "code",
   "execution_count": 3,
   "metadata": {},
   "outputs": [
    {
     "name": "stdout",
     "output_type": "stream",
     "text": [
      "Number of missing values on 'Ship Date' and 'Order Date': 14\n",
      "Missing months of sales: PeriodIndex([], dtype='period[M]')\n"
     ]
    }
   ],
   "source": [
    "# Print the number of missing values where both 'Ship Date' and 'Order Date' are missing\n",
    "print(\"Number of missing values on 'Ship Date' and 'Order Date':\", \n",
    "      df[df['Ship Date'].isnull() & df['Order Date'].isnull()].shape[0])\n",
    "\n",
    "# Calculate shipping days as the difference between 'Ship Date' and 'Order Date'\n",
    "df['Shipping_days'] = df['Ship Date'] - df['Order Date']\n",
    "\n",
    "# Calculate the average shipping days\n",
    "avg_shipping_days = df['Shipping_days'].mean()\n",
    "\n",
    "# Impute missing 'Order Date' by subtracting the average shipping days from 'Ship Date'\n",
    "df.loc[df['Order Date'].isnull(), 'Order Date'] = df['Ship Date'] - pd.to_timedelta(avg_shipping_days, unit='D')\n",
    "\n",
    "# Drop rows where 'Order Date' is still missing\n",
    "df = df[df['Order Date'].notna()]\n",
    "\n",
    "# Create a new column 'Year-Month' for the order date at a monthly granularity\n",
    "df['Year-Month'] = df['Order Date'].dt.to_period('M')\n",
    "\n",
    "# Identify and print missing months in the dataset\n",
    "missing_months = pd.period_range(start=df['Year-Month'].min(), \n",
    "                                 end=df['Year-Month'].max(), \n",
    "                                 freq='M').difference(df['Year-Month'])\n",
    "print(\"Missing months of sales:\", missing_months)\n",
    "\n",
    "# Clean up by removing the temporary variable\n",
    "del avg_shipping_days\n"
   ]
  },
  {
   "cell_type": "code",
   "execution_count": 4,
   "metadata": {},
   "outputs": [
    {
     "name": "stdout",
     "output_type": "stream",
     "text": [
      "Number of missing values on 'Sales' and 'Sub-Category': 23\n"
     ]
    }
   ],
   "source": [
    "# Print number of rows with missing 'Sales' and 'Sub-Category'\n",
    "print(\"Number of missing values on 'Sales' and 'Sub-Category':\", \n",
    "      df[['Sales', 'Sub-Category']].isnull().all(axis=1).sum())\n",
    "\n",
    "# Calculate average sales by 'Sub-Category' and 'Category'\n",
    "avg_sales_sub_cat = df.groupby('Sub-Category')['Sales'].mean()\n",
    "avg_sales_cat = df.groupby('Category')['Sales'].mean()\n",
    "\n",
    "# Impute missing 'Sales' with average sales by 'Sub-Category' and 'Category'\n",
    "df['Sales'] = df['Sales'].fillna(df['Sub-Category'].map(avg_sales_sub_cat))\n",
    "df['Sales'] = df['Sales'].fillna(df['Category'].map(avg_sales_cat))\n",
    "\n",
    "# Drop rows with still missing 'Sales'\n",
    "df.dropna(subset=['Sales'], inplace=True)\n",
    "\n",
    "# Clean up\n",
    "del avg_sales_cat\n"
   ]
  },
  {
   "cell_type": "code",
   "execution_count": 5,
   "metadata": {},
   "outputs": [
    {
     "name": "stdout",
     "output_type": "stream",
     "text": [
      "0\n",
      "0\n"
     ]
    }
   ],
   "source": [
    "# Check if any 'Customer ID' has more than one 'Customer Name'\n",
    "print((df.groupby('Customer ID')['Customer Name'].nunique() > 1).sum())\n",
    "\n",
    "# Create a dictionary to map 'Customer ID' to the first non-null 'State'\n",
    "state_fill_dict = df.dropna(subset=['State']).groupby('Customer ID')['State'].first().to_dict()\n",
    "\n",
    "# Fill missing 'State' values based on 'Customer ID'\n",
    "df['State'] = df['State'].fillna(df['Customer ID'].map(state_fill_dict))\n",
    "\n",
    "# Create a dictionary to map 'Country' to the first non-null 'State'\n",
    "city_fill_dict = df.dropna(subset=['State', 'Country']).groupby('Country')['State'].first().to_dict()\n",
    "\n",
    "# Fill remaining missing 'State' values based on 'Country'\n",
    "df.loc[df['State'].isna() & df['Country'].notna(), 'State'] = df['Country'].map(city_fill_dict)\n",
    "\n",
    "# Drop rows where 'State' is still missing\n",
    "df.dropna(subset=['State'], inplace=True)\n",
    "\n",
    "# Check for any remaining missing values in 'State'\n",
    "print(df['State'].isna().sum())\n",
    "\n",
    "# Clean up\n",
    "del city_fill_dict\n",
    "del state_fill_dict\n"
   ]
  },
  {
   "cell_type": "code",
   "execution_count": 6,
   "metadata": {},
   "outputs": [
    {
     "name": "stdout",
     "output_type": "stream",
     "text": [
      "447\n",
      "31\n",
      "0\n",
      "-\n",
      "480\n",
      "10\n",
      "0\n"
     ]
    }
   ],
   "source": [
    "print(df['Product ID'].isna().sum())\n",
    "# Create a dictionary to map 'Customer ID' to the first non-null 'State'\n",
    "product_fill_dict = df.dropna(subset=['Product ID']).groupby('Product Name')['Product ID'].first().to_dict()\n",
    "\n",
    "# Fill missing 'State' values based on 'Customer ID'\n",
    "df['Product ID'] = df['Product ID'].fillna(df['Product Name'].map(product_fill_dict))\n",
    "\n",
    "print(df['Product ID'].isna().sum())\n",
    "df.dropna(subset=['Product ID'], inplace=True)\n",
    "print(df['Product ID'].isna().sum())\n",
    "\n",
    "print('-')\n",
    "print(df['Sub-Category'].isna().sum())\n",
    "# Create a dictionary to map 'Customer ID' to the first non-null 'State'\n",
    "sub_cat_fill_dict = df.dropna(subset=['Sub-Category']).groupby('Product Name')['Sub-Category'].first().to_dict()\n",
    "product_id_fill_dict = df.dropna(subset=['Sub-Category']).groupby('Product ID')['Sub-Category'].first().to_dict()\n",
    "\n",
    "# Fill missing 'State' values based on 'Customer ID'\n",
    "df['Sub-Category'] = df['Sub-Category'].fillna(df['Product Name'].map(sub_cat_fill_dict))\n",
    "df['Sub-Category'] = df['Sub-Category'].fillna(df['Product ID'].map(product_id_fill_dict))\n",
    "\n",
    "\n",
    "print(df['Sub-Category'].isna().sum())\n",
    "df.dropna(subset=['Sub-Category'], inplace=True)\n",
    "print(df['Sub-Category'].isna().sum())\n"
   ]
  },
  {
   "cell_type": "markdown",
   "metadata": {},
   "source": [
    "# ____________________________________________________________"
   ]
  },
  {
   "cell_type": "markdown",
   "metadata": {},
   "source": [
    "# Modeling - Top Down Approach (Part 1)"
   ]
  },
  {
   "cell_type": "markdown",
   "metadata": {},
   "source": [
    "### SARIMA\n"
   ]
  },
  {
   "cell_type": "markdown",
   "metadata": {},
   "source": [
    "##### Year - Month Level"
   ]
  },
  {
   "cell_type": "code",
   "execution_count": 7,
   "metadata": {},
   "outputs": [],
   "source": [
    "# Group sales data by 'Year-Month' and 'State', then sum the sales\n",
    "monthly_sales_state = df.groupby(['Year-Month', 'State'])['Sales'].sum().reset_index()\n",
    "\n",
    "# Aggregate sales by 'Year-Month'\n",
    "monthly_sales = monthly_sales_state.groupby(['Year-Month'])['Sales'].sum()\n",
    "\n",
    "# Pivot the sales data to get sales by 'State' in columns\n",
    "sales_by_state = monthly_sales_state.groupby(['Year-Month', 'State'])['Sales'].sum().unstack().fillna(0)\n",
    "\n",
    "# Calculate the proportion of sales by state for each month\n",
    "state_proportions = sales_by_state.div(sales_by_state.sum(axis=1), axis=0)\n",
    "\n",
    "# Split the data into training and test sets based on date\n",
    "train_data = monthly_sales[monthly_sales.index < '2018-01']\n",
    "test_data = monthly_sales[monthly_sales.index >= '2018-01']\n",
    "\n"
   ]
  },
  {
   "cell_type": "code",
   "execution_count": 8,
   "metadata": {},
   "outputs": [
    {
     "name": "stderr",
     "output_type": "stream",
     "text": [
      "/Users/elenaabcc/miniconda3/envs/tensorflow/lib/python3.10/site-packages/statsmodels/tsa/statespace/sarimax.py:866: UserWarning: Too few observations to estimate starting parameters for seasonal ARMA. All parameters except for variances will be set to zeros.\n",
      "  warn('Too few observations to estimate starting parameters%s.'\n"
     ]
    }
   ],
   "source": [
    "\n",
    "# Define SARIMA model parameters\n",
    "p, d, q = 4, 1, 1  # ARIMA parameters\n",
    "P, D, Q, s = 1, 1, 1, 12  # Seasonal parameters (s=12 for monthly data)\n",
    "\n",
    "# Train the SARIMA model\n",
    "model = SARIMAX(train_data, order=(p, d, q), seasonal_order=(P, D, Q, s))\n",
    "model_fit = model.fit(disp=False)\n"
   ]
  },
  {
   "cell_type": "markdown",
   "metadata": {},
   "source": [
    "#####  Model Evaluation at Year - Month Level"
   ]
  },
  {
   "cell_type": "code",
   "execution_count": 9,
   "metadata": {},
   "outputs": [
    {
     "data": {
      "image/png": "[encoded data removed]",
      "text/plain": [
       "<Figure size 1200x600 with 1 Axes>"
      ]
     },
     "metadata": {},
     "output_type": "display_data"
    }
   ],
   "source": [
    "# Make forecasts for the next 12 periods\n",
    "forecast = model_fit.get_forecast(steps=12)\n",
    "forecast_values = forecast.predicted_mean\n",
    "forecast_conf_int = forecast.conf_int()\n",
    "\n",
    "# Create a Series for forecasted values\n",
    "forecast_index = pd.period_range(start='2018-01', periods=12, freq='M')\n",
    "forecast_series = pd.Series(forecast_values, index=forecast_index)\n",
    "\n",
    "# Plot the results\n",
    "plt.figure(figsize=(12, 6))\n",
    "plt.plot(train_data.index.to_timestamp(), train_data, label='Training Data', color='blue')\n",
    "plt.plot(test_data.index.to_timestamp(), test_data, label='Actual Data', color='green')\n",
    "plt.plot(forecast_series.index.to_timestamp(), forecast_series, label='Forecast', color='red', linestyle='--')\n",
    "plt.fill_between(forecast_series.index.to_timestamp(), \n",
    "                 forecast_conf_int.iloc[:, 0], \n",
    "                 forecast_conf_int.iloc[:, 1], \n",
    "                 color='red', alpha=0.3)\n",
    "plt.title('Forecast vs Actual Data')\n",
    "plt.xlabel('Date')\n",
    "plt.ylabel('Sales')\n",
    "plt.legend()\n",
    "plt.grid(True)\n",
    "plt.show()\n"
   ]
  },
  {
   "cell_type": "code",
   "execution_count": 10,
   "metadata": {},
   "outputs": [
    {
     "name": "stdout",
     "output_type": "stream",
     "text": [
      "Mean Squared Error (MSE): 497492678.46\n",
      "Root Mean Squared Error (RMSE): 22304.54\n",
      "Mean Absolute Error (MAE): 19043.94\n"
     ]
    }
   ],
   "source": [
    "\n",
    "# Evaluate forecast accuracy using MSE, RMSE, and MAE\n",
    "mse = mean_squared_error(test_data, forecast_series)\n",
    "rmse = np.sqrt(mse)\n",
    "mae = mean_absolute_error(test_data, forecast_series)\n",
    "\n",
    "print(f\"Mean Squared Error (MSE): {mse:.2f}\")\n",
    "print(f\"Root Mean Squared Error (RMSE): {rmse:.2f}\")\n",
    "print(f\"Mean Absolute Error (MAE): {mae:.2f}\")\n"
   ]
  },
  {
   "cell_type": "markdown",
   "metadata": {},
   "source": [
    "##### Year - Month proportioned by States"
   ]
  },
  {
   "cell_type": "code",
   "execution_count": 11,
   "metadata": {},
   "outputs": [],
   "source": [
    "\n",
    "# Create a DataFrame to hold proportionally forecasted values for each state\n",
    "forecast_proportioned = pd.DataFrame(index=forecast_series.index, columns=state_proportions.columns)\n",
    "\n",
    "# Allocate the total forecasted values proportionally across states\n",
    "for state in state_proportions.columns:\n",
    "    forecast_proportioned[state] = forecast_series * state_proportions[state]\n"
   ]
  },
  {
   "cell_type": "markdown",
   "metadata": {},
   "source": [
    "#####  Model Evaluation at Year - Month  - states Level"
   ]
  },
  {
   "cell_type": "code",
   "execution_count": 12,
   "metadata": {},
   "outputs": [],
   "source": [
    "# Reconstruct the actual test data for each state based on historical proportions\n",
    "test_data_state = pd.DataFrame(index=test_data.index, columns=state_proportions.columns)\n",
    "\n",
    "# Multiply the total test data by the historical proportions for each state\n",
    "for state in state_proportions.columns:\n",
    "    test_data_state[state] = test_data * state_proportions[state]\n",
    "\n",
    "    from sklearn.metrics import mean_squared_error, mean_absolute_error\n",
    "import numpy as np\n",
    "\n",
    "# Prepare a list to store the results\n",
    "results = []\n",
    "\n",
    "# Calculate metrics for each state\n",
    "for state in forecast_proportioned.columns:\n",
    "    actual_data = test_data_state[state]  # Actual data for the state\n",
    "    forecast_data = forecast_proportioned[state]  # Forecasted data for the state\n",
    "    \n",
    "    mse = mean_squared_error(actual_data, forecast_data)\n",
    "    rmse = np.sqrt(mse)\n",
    "    mae = mean_absolute_error(actual_data, forecast_data)\n",
    "    \n",
    "    # Append results to the list\n",
    "    results.append({\n",
    "        'State': state,\n",
    "        'MSE': mse,\n",
    "        'RMSE': rmse,\n",
    "        'MAE': mae\n",
    "    })\n",
    "    \n",
    "# Create a DataFrame from the results list\n",
    "results_df = pd.DataFrame(results)\n",
    "\n",
    "# Save the results to a CSV file\n",
    "results_df.to_csv('sarima_state_metrics.csv', index=False)\n",
    "\n"
   ]
  },
  {
   "cell_type": "code",
   "execution_count": 13,
   "metadata": {},
   "outputs": [],
   "source": [
    "# Ensure the index of forecast_proportioned is in PeriodIndex format and convert if necessary\n",
    "if isinstance(forecast_proportioned.index, pd.PeriodIndex):\n",
    "    # Convert PeriodIndex to Timestamp for output\n",
    "    forecast_proportioned.index = forecast_proportioned.index.to_timestamp()\n",
    "else:\n",
    "    # Convert non-periodic index to PeriodIndex first, then to Timestamp\n",
    "    forecast_proportioned.index = pd.to_datetime(forecast_proportioned.index).to_period('M').to_timestamp()\n",
    "\n",
    "# Reset index to long format for pivoting\n",
    "forecast_long = forecast_proportioned.reset_index()\n",
    "\n",
    "# Convert the DataFrame to long format (pivot)\n",
    "forecast_long = pd.melt(forecast_long, id_vars=['index'], var_name='State', value_name='Sales')\n",
    "\n",
    "# Rename 'index' column to 'Year-Month'\n",
    "forecast_long.rename(columns={'index': 'Year-Month'}, inplace=True)\n",
    "\n",
    "# Ensure 'Year-Month' is in datetime format\n",
    "forecast_long['Year-Month'] = pd.to_datetime(forecast_long['Year-Month'], format='%Y-%m')\n"
   ]
  },
  {
   "cell_type": "code",
   "execution_count": 14,
   "metadata": {},
   "outputs": [],
   "source": [
    "# Aggregate actual sales data\n",
    "actualsales = df.groupby(['Year-Month', 'State'])['Sales'].sum().reset_index()\n",
    "\n",
    "# Convert 'Year-Month' tao PeriodIndex for merging\n",
    "forecast_long['Year-Month'] = forecast_long['Year-Month'].dt.to_period('M')\n",
    "\n",
    "# Rename columns for clarity\n",
    "forecast_long.rename(columns={'Sales': 'Sales_Prediction'}, inplace=True)\n",
    "actualsales.rename(columns={'Sales': 'Sales_Actual'}, inplace=True)\n",
    "\n",
    "# Merge forecasted and actual sales data\n",
    "prediction_and_actuals = forecast_long.merge(actualsales, on=['Year-Month', 'State'], how='left')\n",
    "\n",
    "# Replace NaN values in 'Sales_Actual' with 0\n",
    "prediction_and_actuals['Sales_Actual'] = prediction_and_actuals['Sales_Actual'].fillna(0)\n"
   ]
  },
  {
   "cell_type": "code",
   "execution_count": 15,
   "metadata": {},
   "outputs": [
    {
     "data": {
      "text/html": [
       "<div>\n",
       "<style scoped>\n",
       "    .dataframe tbody tr th:only-of-type {\n",
       "        vertical-align: middle;\n",
       "    }\n",
       "\n",
       "    .dataframe tbody tr th {\n",
       "        vertical-align: top;\n",
       "    }\n",
       "\n",
       "    .dataframe thead th {\n",
       "        text-align: right;\n",
       "    }\n",
       "</style>\n",
       "<table border=\"1\" class=\"dataframe\">\n",
       "  <thead>\n",
       "    <tr style=\"text-align: right;\">\n",
       "      <th></th>\n",
       "      <th>Year-Month</th>\n",
       "      <th>State</th>\n",
       "      <th>Sales_Actual</th>\n",
       "    </tr>\n",
       "  </thead>\n",
       "  <tbody>\n",
       "    <tr>\n",
       "      <th>0</th>\n",
       "      <td>2015-01</td>\n",
       "      <td>Arizona</td>\n",
       "      <td>378.594000</td>\n",
       "    </tr>\n",
       "    <tr>\n",
       "      <th>1</th>\n",
       "      <td>2015-01</td>\n",
       "      <td>Arkansas</td>\n",
       "      <td>1898.445298</td>\n",
       "    </tr>\n",
       "    <tr>\n",
       "      <th>2</th>\n",
       "      <td>2015-01</td>\n",
       "      <td>California</td>\n",
       "      <td>2135.166000</td>\n",
       "    </tr>\n",
       "    <tr>\n",
       "      <th>3</th>\n",
       "      <td>2015-01</td>\n",
       "      <td>Delaware</td>\n",
       "      <td>9.940000</td>\n",
       "    </tr>\n",
       "    <tr>\n",
       "      <th>4</th>\n",
       "      <td>2015-01</td>\n",
       "      <td>Georgia</td>\n",
       "      <td>168.210000</td>\n",
       "    </tr>\n",
       "    <tr>\n",
       "      <th>...</th>\n",
       "      <td>...</td>\n",
       "      <td>...</td>\n",
       "      <td>...</td>\n",
       "    </tr>\n",
       "    <tr>\n",
       "      <th>1269</th>\n",
       "      <td>2018-12</td>\n",
       "      <td>Texas</td>\n",
       "      <td>2683.298800</td>\n",
       "    </tr>\n",
       "    <tr>\n",
       "      <th>1270</th>\n",
       "      <td>2018-12</td>\n",
       "      <td>Vermont</td>\n",
       "      <td>205.030000</td>\n",
       "    </tr>\n",
       "    <tr>\n",
       "      <th>1271</th>\n",
       "      <td>2018-12</td>\n",
       "      <td>Virginia</td>\n",
       "      <td>1867.753272</td>\n",
       "    </tr>\n",
       "    <tr>\n",
       "      <th>1272</th>\n",
       "      <td>2018-12</td>\n",
       "      <td>Washington</td>\n",
       "      <td>3615.039268</td>\n",
       "    </tr>\n",
       "    <tr>\n",
       "      <th>1273</th>\n",
       "      <td>2018-12</td>\n",
       "      <td>Wisconsin</td>\n",
       "      <td>2020.770345</td>\n",
       "    </tr>\n",
       "  </tbody>\n",
       "</table>\n",
       "<p>1274 rows × 3 columns</p>\n",
       "</div>"
      ],
      "text/plain": [
       "     Year-Month       State  Sales_Actual\n",
       "0       2015-01     Arizona    378.594000\n",
       "1       2015-01    Arkansas   1898.445298\n",
       "2       2015-01  California   2135.166000\n",
       "3       2015-01    Delaware      9.940000\n",
       "4       2015-01     Georgia    168.210000\n",
       "...         ...         ...           ...\n",
       "1269    2018-12       Texas   2683.298800\n",
       "1270    2018-12     Vermont    205.030000\n",
       "1271    2018-12    Virginia   1867.753272\n",
       "1272    2018-12  Washington   3615.039268\n",
       "1273    2018-12   Wisconsin   2020.770345\n",
       "\n",
       "[1274 rows x 3 columns]"
      ]
     },
     "execution_count": 15,
     "metadata": {},
     "output_type": "execute_result"
    }
   ],
   "source": [
    "actualsales"
   ]
  },
  {
   "cell_type": "code",
   "execution_count": 16,
   "metadata": {},
   "outputs": [
    {
     "name": "stdout",
     "output_type": "stream",
     "text": [
      "Figures saved in the directory: sarima_state_sales_figures\n"
     ]
    }
   ],
   "source": [
    "\n",
    "if pd.api.types.is_period_dtype(prediction_and_actuals['Year-Month']):\n",
    "    prediction_and_actuals['Year-Month'] = prediction_and_actuals['Year-Month'].dt.to_timestamp()\n",
    "else:\n",
    "    prediction_and_actuals['Year-Month'] = pd.to_datetime(prediction_and_actuals['Year-Month'], format='%Y-%m')\n",
    "\n",
    "# Create a directory to save figures\n",
    "output_dir = 'sarima_state_sales_figures'\n",
    "os.makedirs(output_dir, exist_ok=True)\n",
    "\n",
    "# Get the list of unique states\n",
    "states = prediction_and_actuals['State'].unique()\n",
    "\n",
    "# Generate and save a plot for each state\n",
    "for state in states:\n",
    "    # Filter data for the current state\n",
    "    state_data = prediction_and_actuals[prediction_and_actuals['State'] == state]\n",
    "    \n",
    "    # Set 'Year-Month' as the index\n",
    "    state_data.set_index('Year-Month', inplace=True)\n",
    "    \n",
    "    # Create the plot\n",
    "    plt.figure(figsize=(12, 6))\n",
    "    plt.plot(state_data.index, state_data['Sales_Prediction'], label='Sales Prediction', marker='o')\n",
    "    plt.plot(state_data.index, state_data['Sales_Actual'], label='Sales Actual', marker='o')\n",
    "    plt.title(f'Sales Prediction vs Actual Sales for {state}')\n",
    "    plt.xlabel('Year-Month')\n",
    "    plt.ylabel('Sales')\n",
    "    plt.legend()\n",
    "    plt.grid(True)\n",
    "    plt.xticks(rotation=45)\n",
    "    plt.tight_layout()\n",
    "    \n",
    "    # Save the plot to the specified directory\n",
    "    file_path = os.path.join(output_dir, f'{state}_sales.png')\n",
    "    plt.savefig(file_path)\n",
    "    plt.close()  # Close the figure to free up memory\n",
    "\n",
    "print(f'Figures saved in the directory: {output_dir}')\n"
   ]
  },
  {
   "cell_type": "markdown",
   "metadata": {},
   "source": [
    "# ____________________________________________________________"
   ]
  },
  {
   "cell_type": "markdown",
   "metadata": {},
   "source": [
    "### XGBOOST\n"
   ]
  },
  {
   "cell_type": "markdown",
   "metadata": {},
   "source": [
    "# ____________________________________________________________"
   ]
  },
  {
   "cell_type": "markdown",
   "metadata": {},
   "source": [
    "# Modeling - Bottom-Up Approach (Part 2)"
   ]
  },
  {
   "cell_type": "code",
   "execution_count": 17,
   "metadata": {},
   "outputs": [],
   "source": [
    "\n",
    "# Aggregate sales by Year-Month, State, and Sub-Category\n",
    "df_encoded = df.groupby(['Year-Month', 'State', 'Sub-Category'])['Sales'].sum().reset_index()\n",
    "\n",
    "#* ######## One-hot encode ############\n",
    "df_encoded = pd.get_dummies(df_encoded, columns=['Sub-Category', 'State'], drop_first=True)\n",
    "#* ######## ###############  ##########\n",
    "\n",
    "# Set 'Year-Month' as index\n",
    "df_encoded.set_index('Year-Month', inplace=True)\n",
    "\n",
    "# 3. Extract columns for scaling\n",
    "features_to_scale = df_encoded[['Sales']]\n",
    "\n",
    "# Very impotart -   MinMaxScaler to 0 to 1 range - avoiding high values\n",
    "sales = features_to_scale.values.reshape(-1, 1)\n",
    "scaler = MinMaxScaler()\n",
    "sales_scaled = scaler.fit_transform(sales)\n",
    "\n",
    "# Convert scaled data back to DataFrame\n",
    "scaled_df = pd.DataFrame(sales_scaled, columns=['Sales'], index=df_encoded.index)\n",
    "\n",
    "# Add encoded columns (dummies) to the scaled DataFrame\n",
    "scaled_df = pd.concat([scaled_df, df_encoded.drop(['Sales'], axis=1)], axis=1)\n"
   ]
  },
  {
   "cell_type": "code",
   "execution_count": 18,
   "metadata": {},
   "outputs": [],
   "source": [
    "\n",
    "#* ######## Create training, validation, and test sets ######### \n",
    "# Training set up to 01 2017\n",
    "train_data = scaled_df[scaled_df.index < '2017-01']\n",
    "\n",
    "# Validation set from 01 2017 to 12 2017\n",
    "val_data = scaled_df[(scaled_df.index >= '2017-01') & (scaled_df.index <= '2017-12')]\n",
    "\n",
    "# Test set for 2018\n",
    "test_data = scaled_df[scaled_df.index >= '2018-01']\n",
    "\n",
    "##################################\n",
    "y_train = train_data['Sales'].values\n",
    "y_val = val_data['Sales'].values\n",
    "y_test = test_data['Sales'].values  \n",
    "##################################\n",
    "\n",
    "##################################\n",
    "X_train = train_data.drop(['Sales'], axis=1).values\n",
    "X_val = val_data.drop(['Sales'], axis=1).values\n",
    "X_test = test_data.drop(['Sales'], axis=1).values  # Test set\n",
    "##################################\n",
    "\n",
    "################################## (samples, timesteps, features)\n",
    "X_train = X_train.reshape((X_train.shape[0], 1, X_train.shape[1]))\n",
    "X_val = X_val.reshape((X_val.shape[0], 1, X_val.shape[1]))\n",
    "X_test = X_test.reshape((X_test.shape[0], 1, X_test.shape[1]))  # Reshape test set\n",
    "##################################\n",
    "\n",
    "##################################\n",
    "# y_train = np.array(y_train)\n",
    "y_val = np.array(y_val)\n",
    "y_test = np.array(y_test)\n",
    "##################################"
   ]
  },
  {
   "cell_type": "code",
   "execution_count": 19,
   "metadata": {},
   "outputs": [
    {
     "name": "stdout",
     "output_type": "stream",
     "text": [
      "0.0 3.069191861321636e-05 6.820426358492557e-07\n",
      "0.7459463648491595 0.5967499645337829 1.0\n"
     ]
    }
   ],
   "source": [
    "print(min(y_val), min(y_test), min(y_train))\n",
    "print(max(y_val), max(y_test), max(y_train))"
   ]
  },
  {
   "cell_type": "code",
   "execution_count": 20,
   "metadata": {},
   "outputs": [
    {
     "data": {
      "text/plain": [
       "\"\\n#* ####################################################\\n#* ############ Create the LSTM model ################\\nmodel = Sequential()  \\nmodel.add(LSTM(units=100, return_sequences=True, input_shape=(X_train.shape[1], X_train.shape[2]))) \\n\\nmodel.add(Dropout(0.2)) \\nmodel.add(LSTM(units=100, return_sequences=False))  # do not return sequences as it's the last LSTM layer\\n\\nmodel.add(Dropout(0.3))  # Add another dropout layer\\nmodel.add(Dense(units=1))  # Add a Dense layer with 1 unit for output\\n#* ####################################################\\n#* ####################################################\\n\\n#* ####################################################\\n#* ############ Create the LSTM model ################\\nmodel = Sequential()  \\nmodel.add(LSTM(units=100, return_sequences=True, input_shape=(X_train.shape[1], X_train.shape[2]))) \\nmodel.add(Dropout(0.2)) \\n\\nmodel.add(LSTM(units=100, return_sequences=True)) \\nmodel.add(Dropout(0.2)) \\n\\nmodel.add(LSTM(units=100, return_sequences=False))  # ultimo LSTM\\nmodel.add(Dropout(0.3)) \\n\\nmodel.add(Dense(units=50, activation='relu'))\\nmodel.add(Dropout(0.3))  # ulteriore Dropout\\n\\nmodel.add(Dense(units=1))   # output finale\\n\\n#* ####################################################\\n#* ####################################################\\n\\n# Learning rate for the optimizer\\nlearning_rate = 0.001  \\noptimizer = Adam(learning_rate=learning_rate) \\n\\n\\n#* ################ Compile and train the model ################\\nmodel.compile(optimizer=optimizer, loss='mean_squared_error', metrics=['mae'])  \\n\\nhistory = model.fit(X_train, y_train, epochs=100, batch_size=32, validation_data=(X_val, y_val))  \\n\""
      ]
     },
     "execution_count": 20,
     "metadata": {},
     "output_type": "execute_result"
    }
   ],
   "source": [
    "\"\"\"\n",
    "#* ####################################################\n",
    "#* ############ Create the LSTM model ################\n",
    "model = Sequential()  \n",
    "model.add(LSTM(units=100, return_sequences=True, input_shape=(X_train.shape[1], X_train.shape[2]))) \n",
    "\n",
    "model.add(Dropout(0.2)) \n",
    "model.add(LSTM(units=100, return_sequences=False))  # do not return sequences as it's the last LSTM layer\n",
    "\n",
    "model.add(Dropout(0.3))  # Add another dropout layer\n",
    "model.add(Dense(units=1))  # Add a Dense layer with 1 unit for output\n",
    "#* ####################################################\n",
    "#* ####################################################\n",
    "\n",
    "#* ####################################################\n",
    "#* ############ Create the LSTM model ################\n",
    "model = Sequential()  \n",
    "model.add(LSTM(units=100, return_sequences=True, input_shape=(X_train.shape[1], X_train.shape[2]))) \n",
    "model.add(Dropout(0.2)) \n",
    "\n",
    "model.add(LSTM(units=100, return_sequences=True)) \n",
    "model.add(Dropout(0.2)) \n",
    "\n",
    "model.add(LSTM(units=100, return_sequences=False))  # ultimo LSTM\n",
    "model.add(Dropout(0.3)) \n",
    "\n",
    "model.add(Dense(units=50, activation='relu'))\n",
    "model.add(Dropout(0.3))  # ulteriore Dropout\n",
    "\n",
    "model.add(Dense(units=1))   # output finale\n",
    "\n",
    "#* ####################################################\n",
    "#* ####################################################\n",
    "\n",
    "# Learning rate for the optimizer\n",
    "learning_rate = 0.001  \n",
    "optimizer = Adam(learning_rate=learning_rate) \n",
    "\n",
    "\n",
    "#* ################ Compile and train the model ################\n",
    "model.compile(optimizer=optimizer, loss='mean_squared_error', metrics=['mae'])  \n",
    "\n",
    "history = model.fit(X_train, y_train, epochs=100, batch_size=32, validation_data=(X_val, y_val))  \n",
    "\"\"\""
   ]
  },
  {
   "cell_type": "code",
   "execution_count": 21,
   "metadata": {},
   "outputs": [
    {
     "name": "stderr",
     "output_type": "stream",
     "text": [
      "2024-09-29 19:40:45.777405: I metal_plugin/src/device/metal_device.cc:1154] Metal device set to: Apple M1\n",
      "2024-09-29 19:40:45.777502: I metal_plugin/src/device/metal_device.cc:296] systemMemory: 8.00 GB\n",
      "2024-09-29 19:40:45.777523: I metal_plugin/src/device/metal_device.cc:313] maxCacheSize: 2.67 GB\n",
      "2024-09-29 19:40:45.777818: I tensorflow/core/common_runtime/pluggable_device/pluggable_device_factory.cc:303] Could not identify NUMA node of platform GPU ID 0, defaulting to 0. Your kernel may not have been built with NUMA support.\n",
      "2024-09-29 19:40:45.777853: I tensorflow/core/common_runtime/pluggable_device/pluggable_device_factory.cc:269] Created TensorFlow device (/job:localhost/replica:0/task:0/device:GPU:0 with 0 MB memory) -> physical PluggableDevice (device: 0, name: METAL, pci bus id: <undefined>)\n",
      "WARNING:absl:At this time, the v2.11+ optimizer `tf.keras.optimizers.Adam` runs slowly on M1/M2 Macs, please use the legacy Keras optimizer instead, located at `tf.keras.optimizers.legacy.Adam`.\n",
      "WARNING:absl:There is a known slowdown when using v2.11+ Keras optimizers on M1/M2 Macs. Falling back to the legacy Keras optimizer, i.e., `tf.keras.optimizers.legacy.Adam`.\n"
     ]
    },
    {
     "name": "stdout",
     "output_type": "stream",
     "text": [
      "Epoch 1/3\n"
     ]
    },
    {
     "name": "stderr",
     "output_type": "stream",
     "text": [
      "2024-09-29 19:40:47.659192: I tensorflow/core/grappler/optimizers/custom_graph_optimizer_registry.cc:114] Plugin optimizer for device_type GPU is enabled.\n",
      "2024-09-29 19:40:48.024252: I tensorflow/core/grappler/optimizers/custom_graph_optimizer_registry.cc:114] Plugin optimizer for device_type GPU is enabled.\n",
      "2024-09-29 19:40:48.161926: I tensorflow/core/grappler/optimizers/custom_graph_optimizer_registry.cc:114] Plugin optimizer for device_type GPU is enabled.\n",
      "2024-09-29 19:40:48.259885: I tensorflow/core/grappler/optimizers/custom_graph_optimizer_registry.cc:114] Plugin optimizer for device_type GPU is enabled.\n",
      "2024-09-29 19:40:48.473222: I tensorflow/core/grappler/optimizers/custom_graph_optimizer_registry.cc:114] Plugin optimizer for device_type GPU is enabled.\n",
      "2024-09-29 19:40:48.653373: I tensorflow/core/grappler/optimizers/custom_graph_optimizer_registry.cc:114] Plugin optimizer for device_type GPU is enabled.\n"
     ]
    },
    {
     "name": "stdout",
     "output_type": "stream",
     "text": [
      " 4/78 [>.............................] - ETA: 1s - loss: 0.6781 - mae: 0.1519  "
     ]
    },
    {
     "name": "stderr",
     "output_type": "stream",
     "text": [
      "2024-09-29 19:40:48.805245: I tensorflow/core/grappler/optimizers/custom_graph_optimizer_registry.cc:114] Plugin optimizer for device_type GPU is enabled.\n"
     ]
    },
    {
     "name": "stdout",
     "output_type": "stream",
     "text": [
      "78/78 [==============================] - ETA: 0s - loss: 0.4074 - mae: 0.0733"
     ]
    },
    {
     "name": "stderr",
     "output_type": "stream",
     "text": [
      "2024-09-29 19:40:50.984417: I tensorflow/core/grappler/optimizers/custom_graph_optimizer_registry.cc:114] Plugin optimizer for device_type GPU is enabled.\n",
      "2024-09-29 19:40:51.119058: I tensorflow/core/grappler/optimizers/custom_graph_optimizer_registry.cc:114] Plugin optimizer for device_type GPU is enabled.\n",
      "2024-09-29 19:40:51.180375: I tensorflow/core/grappler/optimizers/custom_graph_optimizer_registry.cc:114] Plugin optimizer for device_type GPU is enabled.\n",
      "2024-09-29 19:40:51.234021: I tensorflow/core/grappler/optimizers/custom_graph_optimizer_registry.cc:114] Plugin optimizer for device_type GPU is enabled.\n"
     ]
    },
    {
     "name": "stdout",
     "output_type": "stream",
     "text": [
      "78/78 [==============================] - 5s 39ms/step - loss: 0.4074 - mae: 0.0733 - val_loss: 0.2025 - val_mae: 0.0207\n",
      "Epoch 2/3\n",
      "78/78 [==============================] - 2s 23ms/step - loss: 0.1129 - mae: 0.0284 - val_loss: 0.0508 - val_mae: 0.0183\n",
      "Epoch 3/3\n",
      "78/78 [==============================] - 2s 24ms/step - loss: 0.0266 - mae: 0.0177 - val_loss: 0.0115 - val_mae: 0.0174\n"
     ]
    }
   ],
   "source": [
    "\n",
    "\n",
    "model = Sequential()\n",
    "\n",
    "# Primo layer LSTM\n",
    "model.add(LSTM(units=100, return_sequences=True, input_shape=(X_train.shape[1], X_train.shape[2]))) \n",
    "model.add(Dropout(0.2)) \n",
    "model.add(BatchNormalization())\n",
    "\n",
    "# Secondo layer LSTM\n",
    "model.add(LSTM(units=100, return_sequences=True)) \n",
    "model.add(Dropout(0.2)) \n",
    "model.add(BatchNormalization())\n",
    "\n",
    "# Ultimo layer LSTM\n",
    "model.add(LSTM(units=100, return_sequences=False))  \n",
    "model.add(Dropout(0.3)) \n",
    "\n",
    "# Layer Dense\n",
    "model.add(Dense(units=50, kernel_regularizer='l2'))  # Aggiungi regolarizzazione L2\n",
    "model.add(LeakyReLU(alpha=0.1))\n",
    "model.add(Dropout(0.3))  # Ulteriore Dropout\n",
    "\n",
    "# Output layer\n",
    "model.add(Dense(units=1)) \n",
    "\n",
    "# Compila il modello\n",
    "model.compile(optimizer=Adam(learning_rate=0.001), loss='mean_squared_error',metrics=['mae'] )\n",
    "\n",
    "# Aggiungi Early Stopping\n",
    "early_stopping = EarlyStopping(monitor='val_loss', patience=30, restore_best_weights=True)\n",
    "\n",
    "# Addestra il modello\n",
    "history = model.fit(X_train, y_train, validation_data=(X_val, y_val), \n",
    "                    epochs=3, batch_size=32, callbacks=[early_stopping])\n"
   ]
  },
  {
   "cell_type": "code",
   "execution_count": 22,
   "metadata": {},
   "outputs": [
    {
     "name": "stdout",
     "output_type": "stream",
     "text": [
      "47/47 [==============================] - 0s 10ms/step - loss: 0.0115 - mae: 0.0174\n",
      "Test Loss: 0.011485393159091473\n",
      "Test MAE: 0.01738051138818264\n"
     ]
    }
   ],
   "source": [
    "test_loss, test_mae = model.evaluate(X_val, y_val)\n",
    "print(f'Test Loss: {test_loss}')\n",
    "print(f'Test MAE: {test_mae}')\n"
   ]
  },
  {
   "cell_type": "code",
   "execution_count": 23,
   "metadata": {},
   "outputs": [
    {
     "data": {
      "image/png": "[encoded data removed]",
      "text/plain": [
       "<Figure size 1000x600 with 1 Axes>"
      ]
     },
     "metadata": {},
     "output_type": "display_data"
    }
   ],
   "source": [
    "\n",
    "plt.figure(figsize=(10, 6))\n",
    "plt.plot(history.history['mae'], label='Train MAE')  \n",
    "plt.plot(history.history['val_mae'], label='Validation MAE')  \n",
    "plt.title('Train and Val mae')\n",
    "plt.xlabel('Epochs')\n",
    "plt.ylabel('Mean Absolute Error')\n",
    "plt.legend()\n",
    "plt.show()\n"
   ]
  },
  {
   "cell_type": "code",
   "execution_count": 24,
   "metadata": {},
   "outputs": [
    {
     "data": {
      "image/png": "[encoded data removed]",
      "text/plain": [
       "<Figure size 1000x600 with 1 Axes>"
      ]
     },
     "metadata": {},
     "output_type": "display_data"
    }
   ],
   "source": [
    "\n",
    "plt.figure(figsize=(10, 6))\n",
    "plt.plot(history.history['loss'], label='Training Loss')  \n",
    "plt.plot(history.history['val_loss'], label='Validation Loss')  \n",
    "plt.title('Train val loss')\n",
    "plt.xlabel('Epochs')\n",
    "plt.ylabel('Loss')\n",
    "plt.legend()\n",
    "plt.show()\n"
   ]
  },
  {
   "cell_type": "code",
   "execution_count": 25,
   "metadata": {},
   "outputs": [
    {
     "name": "stderr",
     "output_type": "stream",
     "text": [
      "2024-09-29 19:40:57.047875: I tensorflow/core/grappler/optimizers/custom_graph_optimizer_registry.cc:114] Plugin optimizer for device_type GPU is enabled.\n",
      "2024-09-29 19:40:57.184033: I tensorflow/core/grappler/optimizers/custom_graph_optimizer_registry.cc:114] Plugin optimizer for device_type GPU is enabled.\n"
     ]
    },
    {
     "name": "stdout",
     "output_type": "stream",
     "text": [
      " 1/55 [..............................] - ETA: 41s"
     ]
    },
    {
     "name": "stderr",
     "output_type": "stream",
     "text": [
      "2024-09-29 19:40:57.274345: I tensorflow/core/grappler/optimizers/custom_graph_optimizer_registry.cc:114] Plugin optimizer for device_type GPU is enabled.\n",
      "2024-09-29 19:40:57.353228: I tensorflow/core/grappler/optimizers/custom_graph_optimizer_registry.cc:114] Plugin optimizer for device_type GPU is enabled.\n"
     ]
    },
    {
     "name": "stdout",
     "output_type": "stream",
     "text": [
      "55/55 [==============================] - 1s 5ms/step\n"
     ]
    }
   ],
   "source": [
    "# Make predictions on the test set\n",
    "y_pred_test = model.predict(X_test)  # Generate predictions using the trained model on the test data\n",
    "\n",
    "# Inverse scaling of predictions and actual values\n",
    "# Combine features and predicted values, then inverse transform to get original scale\n",
    "y_pred_test_inverse = scaler.inverse_transform(np.hstack((X_test.reshape(X_test.shape[0], -1), y_pred_test)))\n",
    "y_test_inverse = scaler.inverse_transform(np.hstack((X_test.reshape(X_test.shape[0], -1), y_test.reshape(-1, 1))))\n",
    "\n",
    "# Create a DataFrame for the predicted and actual sales\n",
    "predictions_df = pd.DataFrame({\n",
    "    'Year-Month': test_data.index,  # Use the index from the test data for the Year-Month\n",
    "    'Real Sales': y_test_inverse[:, -1],  # Last column for 'Sales' values\n",
    "    'Predicted Sales': y_pred_test_inverse[:, -1]  # Last column for predicted 'Sales'\n",
    "})\n",
    "\n",
    "#* ############## Convert dummy columns to categorical columns\n",
    "#* ######################################################################\n",
    "\n",
    "state_columns = [col for col in test_data.columns if 'State_' in col]  # Identify state dummy columns\n",
    "sub_cat_columns = [col for col in test_data.columns if 'Sub-Category_' in col]  # Identify sub-category dummy columns\n",
    "\n",
    "dummy_data = test_data[state_columns + sub_cat_columns]  # Extract dummy columns\n",
    "decoded_data = pd.DataFrame(scaler.inverse_transform(dummy_data), columns=dummy_data.columns)  # Inverse scale the dummy data\n",
    "\n",
    "decoded_data['State'] = decoded_data[state_columns].idxmax(axis=1).str.replace('State_', '')  # Get the original state names\n",
    "decoded_data['Sub-Category'] = decoded_data[sub_cat_columns].idxmax(axis=1).str.replace('Sub-Category_', '')  # Get the original sub-category names\n",
    "\n",
    "#* ######################################################################\n",
    "#* ######################################################################\n",
    "\n",
    "# Add 'State' and 'Sub-Category' columns to the predictions DataFrame\n",
    "predictions_df = pd.concat([predictions_df, decoded_data[['State', 'Sub-Category']]], axis=1)\n",
    "\n",
    "# 1. Group the original DataFrame df by Year-Month, State, and Sub-Category and sum sales\n",
    "df_grouped = df.groupby(['Year-Month', 'State', 'Sub-Category'])['Sales'].sum().reset_index()  # Aggregate sales data\n",
    "\n",
    "# Merge the predictionsaFr with the aggregated data\n",
    "predictions_df = predictions_df.merge(df_grouped, on=['Year-Month', 'State', 'Sub-Category'], how='left', suffixes=('', '_agg'))\n",
    "\n",
    "predictions_df.rename(columns={'Sales': 'Aggregated Sales'}, inplace=True)  # Rename the sales column for clarity\n"
   ]
  },
  {
   "cell_type": "code",
   "execution_count": 26,
   "metadata": {},
   "outputs": [],
   "source": [
    "df_grouped = df.groupby(['Year-Month', 'State'])['Sales'].sum().reset_index()  # Aggregate sales data\n"
   ]
  },
  {
   "cell_type": "code",
   "execution_count": 27,
   "metadata": {},
   "outputs": [
    {
     "name": "stdout",
     "output_type": "stream",
     "text": [
      "Mean Squared Error (MSE): 7336245.1536\n",
      "Root Mean Squared Error (RMSE): 2708.5504\n",
      "Mean Absolute Error (MAE): 1245.7314\n",
      "R-squared (R²): 0.3650\n"
     ]
    }
   ],
   "source": [
    "\n",
    "grouped_predictions = predictions_df.groupby(['State', 'Year-Month']).agg({\n",
    "    'Real Sales': 'sum',  \n",
    "    'Predicted Sales': 'sum' \n",
    "}).reset_index()  \n",
    "\n",
    "# Calcola le metriche\n",
    "mse = mean_squared_error(grouped_predictions['Real Sales'], grouped_predictions['Predicted Sales'])\n",
    "rmse = np.sqrt(mse)\n",
    "mae = mean_absolute_error(grouped_predictions['Real Sales'], grouped_predictions['Predicted Sales'])\n",
    "r_squared = r2_score(grouped_predictions['Real Sales'], grouped_predictions['Predicted Sales'])\n",
    "\n",
    "# Stampa i risultati\n",
    "print(f\"Mean Squared Error (MSE): {mse:.4f}\")\n",
    "print(f\"Root Mean Squared Error (RMSE): {rmse:.4f}\")\n",
    "print(f\"Mean Absolute Error (MAE): {mae:.4f}\")\n",
    "print(f\"R-squared (R²): {r_squared:.4f}\")\n"
   ]
  },
  {
   "cell_type": "code",
   "execution_count": 28,
   "metadata": {},
   "outputs": [
    {
     "data": {
      "text/html": [
       "<div>\n",
       "<style scoped>\n",
       "    .dataframe tbody tr th:only-of-type {\n",
       "        vertical-align: middle;\n",
       "    }\n",
       "\n",
       "    .dataframe tbody tr th {\n",
       "        vertical-align: top;\n",
       "    }\n",
       "\n",
       "    .dataframe thead th {\n",
       "        text-align: right;\n",
       "    }\n",
       "</style>\n",
       "<table border=\"1\" class=\"dataframe\">\n",
       "  <thead>\n",
       "    <tr style=\"text-align: right;\">\n",
       "      <th></th>\n",
       "      <th>State</th>\n",
       "      <th>Year-Month</th>\n",
       "      <th>Real Sales</th>\n",
       "      <th>Predicted Sales</th>\n",
       "    </tr>\n",
       "  </thead>\n",
       "  <tbody>\n",
       "    <tr>\n",
       "      <th>0</th>\n",
       "      <td>Arizona</td>\n",
       "      <td>2018-01</td>\n",
       "      <td>157.292000</td>\n",
       "      <td>1256.364014</td>\n",
       "    </tr>\n",
       "    <tr>\n",
       "      <th>1</th>\n",
       "      <td>Arizona</td>\n",
       "      <td>2018-02</td>\n",
       "      <td>1112.044723</td>\n",
       "      <td>1878.505371</td>\n",
       "    </tr>\n",
       "    <tr>\n",
       "      <th>2</th>\n",
       "      <td>Arizona</td>\n",
       "      <td>2018-04</td>\n",
       "      <td>1079.056000</td>\n",
       "      <td>1571.739624</td>\n",
       "    </tr>\n",
       "    <tr>\n",
       "      <th>3</th>\n",
       "      <td>Arizona</td>\n",
       "      <td>2018-05</td>\n",
       "      <td>1114.123897</td>\n",
       "      <td>1886.983643</td>\n",
       "    </tr>\n",
       "    <tr>\n",
       "      <th>4</th>\n",
       "      <td>Arizona</td>\n",
       "      <td>2018-06</td>\n",
       "      <td>951.548000</td>\n",
       "      <td>2816.202148</td>\n",
       "    </tr>\n",
       "    <tr>\n",
       "      <th>...</th>\n",
       "      <td>...</td>\n",
       "      <td>...</td>\n",
       "      <td>...</td>\n",
       "      <td>...</td>\n",
       "    </tr>\n",
       "    <tr>\n",
       "      <th>344</th>\n",
       "      <td>Wisconsin</td>\n",
       "      <td>2018-08</td>\n",
       "      <td>113.410000</td>\n",
       "      <td>627.969727</td>\n",
       "    </tr>\n",
       "    <tr>\n",
       "      <th>345</th>\n",
       "      <td>Wisconsin</td>\n",
       "      <td>2018-09</td>\n",
       "      <td>312.610167</td>\n",
       "      <td>1269.018311</td>\n",
       "    </tr>\n",
       "    <tr>\n",
       "      <th>346</th>\n",
       "      <td>Wisconsin</td>\n",
       "      <td>2018-10</td>\n",
       "      <td>60.720000</td>\n",
       "      <td>317.407196</td>\n",
       "    </tr>\n",
       "    <tr>\n",
       "      <th>347</th>\n",
       "      <td>Wisconsin</td>\n",
       "      <td>2018-11</td>\n",
       "      <td>442.262750</td>\n",
       "      <td>1581.096680</td>\n",
       "    </tr>\n",
       "    <tr>\n",
       "      <th>348</th>\n",
       "      <td>Wisconsin</td>\n",
       "      <td>2018-12</td>\n",
       "      <td>2020.770345</td>\n",
       "      <td>2528.738770</td>\n",
       "    </tr>\n",
       "  </tbody>\n",
       "</table>\n",
       "<p>349 rows × 4 columns</p>\n",
       "</div>"
      ],
      "text/plain": [
       "         State Year-Month   Real Sales  Predicted Sales\n",
       "0      Arizona    2018-01   157.292000      1256.364014\n",
       "1      Arizona    2018-02  1112.044723      1878.505371\n",
       "2      Arizona    2018-04  1079.056000      1571.739624\n",
       "3      Arizona    2018-05  1114.123897      1886.983643\n",
       "4      Arizona    2018-06   951.548000      2816.202148\n",
       "..         ...        ...          ...              ...\n",
       "344  Wisconsin    2018-08   113.410000       627.969727\n",
       "345  Wisconsin    2018-09   312.610167      1269.018311\n",
       "346  Wisconsin    2018-10    60.720000       317.407196\n",
       "347  Wisconsin    2018-11   442.262750      1581.096680\n",
       "348  Wisconsin    2018-12  2020.770345      2528.738770\n",
       "\n",
       "[349 rows x 4 columns]"
      ]
     },
     "execution_count": 28,
     "metadata": {},
     "output_type": "execute_result"
    }
   ],
   "source": [
    "grouped_predictions"
   ]
  },
  {
   "cell_type": "code",
   "execution_count": 29,
   "metadata": {},
   "outputs": [
    {
     "name": "stdout",
     "output_type": "stream",
     "text": [
      "Figures saved in the directory: lstm_state_sales_figures\n"
     ]
    }
   ],
   "source": [
    "# Convert 'Year-Month' to datetime format for plotting\n",
    "if pd.api.types.is_period_dtype(grouped_predictions['Year-Month']):\n",
    "    grouped_predictions['Year-Month'] = grouped_predictions['Year-Month'].dt.to_timestamp()\n",
    "else:\n",
    "    grouped_predictions['Year-Month'] = pd.to_datetime(grouped_predictions['Year-Month'], format='%Y-%m')\n",
    "\n",
    "# Create a directory to save figures\n",
    "output_dir = 'lstm_state_sales_figures'\n",
    "os.makedirs(output_dir, exist_ok=True)\n",
    "\n",
    "# Get the list of unique states\n",
    "states = grouped_predictions['State'].unique()\n",
    "\n",
    "# Define a common date range from January 2018 to December 2018\n",
    "full_date_range = pd.date_range(start='2018-01-01', end='2018-12-01', freq='MS')\n",
    "\n",
    "# Generate and save a plot for each state\n",
    "for state in states:\n",
    "    # Filter data for the current state\n",
    "    state_data = grouped_predictions[grouped_predictions['State'] == state]\n",
    "\n",
    "    # Set 'Year-Month' as the index\n",
    "    state_data.set_index('Year-Month', inplace=True)\n",
    "    \n",
    "    # Reindex the state data to include all months from 2018-01 to 2018-12, filling NaNs with 0\n",
    "    state_data = state_data.reindex(full_date_range, fill_value=0)\n",
    "    \n",
    "    # Create the plot\n",
    "    plt.figure(figsize=(12, 6))\n",
    "    plt.plot(state_data.index, state_data['Predicted Sales'], label='Sales Prediction', marker='o', color='blue')\n",
    "    plt.plot(state_data.index, state_data['Real Sales'], label='Sales Actual', marker='o', color='orange')\n",
    "    plt.title(f'Sales Prediction vs Actual Sales for {state} (2018)')\n",
    "    plt.xlabel('Year-Month')\n",
    "    plt.ylabel('Sales')\n",
    "    plt.legend()\n",
    "    plt.grid(True)\n",
    "    plt.xticks(rotation=45)\n",
    "    plt.tight_layout()\n",
    "    \n",
    "    # Save the plot to the specified directory\n",
    "    file_path = os.path.join(output_dir, f'{state}.png')\n",
    "    plt.savefig(file_path)\n",
    "    plt.close()  # Close the figure to free up memory\n",
    "\n",
    "print(f'Figures saved in the directory: {output_dir}')\n"
   ]
  },
  {
   "cell_type": "code",
   "execution_count": 30,
   "metadata": {},
   "outputs": [
    {
     "name": "stdout",
     "output_type": "stream",
     "text": [
      "Model: \"sequential\"\n",
      "_________________________________________________________________\n",
      " Layer (type)                Output Shape              Param #   \n",
      "=================================================================\n",
      " lstm (LSTM)                 (None, 1, 100)            66000     \n",
      "                                                                 \n",
      " dropout (Dropout)           (None, 1, 100)            0         \n",
      "                                                                 \n",
      " batch_normalization (Batch  (None, 1, 100)            400       \n",
      " Normalization)                                                  \n",
      "                                                                 \n",
      " lstm_1 (LSTM)               (None, 1, 100)            80400     \n",
      "                                                                 \n",
      " dropout_1 (Dropout)         (None, 1, 100)            0         \n",
      "                                                                 \n",
      " batch_normalization_1 (Bat  (None, 1, 100)            400       \n",
      " chNormalization)                                                \n",
      "                                                                 \n",
      " lstm_2 (LSTM)               (None, 100)               80400     \n",
      "                                                                 \n",
      " dropout_2 (Dropout)         (None, 100)               0         \n",
      "                                                                 \n",
      " dense (Dense)               (None, 50)                5050      \n",
      "                                                                 \n",
      " leaky_re_lu (LeakyReLU)     (None, 50)                0         \n",
      "                                                                 \n",
      " dropout_3 (Dropout)         (None, 50)                0         \n",
      "                                                                 \n",
      " dense_1 (Dense)             (None, 1)                 51        \n",
      "                                                                 \n",
      "=================================================================\n",
      "Total params: 232701 (908.99 KB)\n",
      "Trainable params: 232301 (907.43 KB)\n",
      "Non-trainable params: 400 (1.56 KB)\n",
      "_________________________________________________________________\n"
     ]
    }
   ],
   "source": [
    "model.summary()\n"
   ]
  },
  {
   "cell_type": "markdown",
   "metadata": {},
   "source": [
    "# GROUND TRUTH & ESAMBLE"
   ]
  },
  {
   "cell_type": "code",
   "execution_count": 31,
   "metadata": {},
   "outputs": [],
   "source": [
    "df_real = df.groupby(['Year-Month', 'State'])['Sales'].sum().reset_index()"
   ]
  },
  {
   "cell_type": "code",
   "execution_count": 32,
   "metadata": {},
   "outputs": [
    {
     "data": {
      "text/html": [
       "<div>\n",
       "<style scoped>\n",
       "    .dataframe tbody tr th:only-of-type {\n",
       "        vertical-align: middle;\n",
       "    }\n",
       "\n",
       "    .dataframe tbody tr th {\n",
       "        vertical-align: top;\n",
       "    }\n",
       "\n",
       "    .dataframe thead th {\n",
       "        text-align: right;\n",
       "    }\n",
       "</style>\n",
       "<table border=\"1\" class=\"dataframe\">\n",
       "  <thead>\n",
       "    <tr style=\"text-align: right;\">\n",
       "      <th></th>\n",
       "      <th>State</th>\n",
       "      <th>Year-Month</th>\n",
       "      <th>Real Sales</th>\n",
       "      <th>Predicted Sales</th>\n",
       "    </tr>\n",
       "  </thead>\n",
       "  <tbody>\n",
       "    <tr>\n",
       "      <th>0</th>\n",
       "      <td>Arizona</td>\n",
       "      <td>2018-01-01</td>\n",
       "      <td>157.292000</td>\n",
       "      <td>1256.364014</td>\n",
       "    </tr>\n",
       "    <tr>\n",
       "      <th>1</th>\n",
       "      <td>Arizona</td>\n",
       "      <td>2018-02-01</td>\n",
       "      <td>1112.044723</td>\n",
       "      <td>1878.505371</td>\n",
       "    </tr>\n",
       "    <tr>\n",
       "      <th>2</th>\n",
       "      <td>Arizona</td>\n",
       "      <td>2018-04-01</td>\n",
       "      <td>1079.056000</td>\n",
       "      <td>1571.739624</td>\n",
       "    </tr>\n",
       "    <tr>\n",
       "      <th>3</th>\n",
       "      <td>Arizona</td>\n",
       "      <td>2018-05-01</td>\n",
       "      <td>1114.123897</td>\n",
       "      <td>1886.983643</td>\n",
       "    </tr>\n",
       "    <tr>\n",
       "      <th>4</th>\n",
       "      <td>Arizona</td>\n",
       "      <td>2018-06-01</td>\n",
       "      <td>951.548000</td>\n",
       "      <td>2816.202148</td>\n",
       "    </tr>\n",
       "    <tr>\n",
       "      <th>...</th>\n",
       "      <td>...</td>\n",
       "      <td>...</td>\n",
       "      <td>...</td>\n",
       "      <td>...</td>\n",
       "    </tr>\n",
       "    <tr>\n",
       "      <th>344</th>\n",
       "      <td>Wisconsin</td>\n",
       "      <td>2018-08-01</td>\n",
       "      <td>113.410000</td>\n",
       "      <td>627.969727</td>\n",
       "    </tr>\n",
       "    <tr>\n",
       "      <th>345</th>\n",
       "      <td>Wisconsin</td>\n",
       "      <td>2018-09-01</td>\n",
       "      <td>312.610167</td>\n",
       "      <td>1269.018311</td>\n",
       "    </tr>\n",
       "    <tr>\n",
       "      <th>346</th>\n",
       "      <td>Wisconsin</td>\n",
       "      <td>2018-10-01</td>\n",
       "      <td>60.720000</td>\n",
       "      <td>317.407196</td>\n",
       "    </tr>\n",
       "    <tr>\n",
       "      <th>347</th>\n",
       "      <td>Wisconsin</td>\n",
       "      <td>2018-11-01</td>\n",
       "      <td>442.262750</td>\n",
       "      <td>1581.096680</td>\n",
       "    </tr>\n",
       "    <tr>\n",
       "      <th>348</th>\n",
       "      <td>Wisconsin</td>\n",
       "      <td>2018-12-01</td>\n",
       "      <td>2020.770345</td>\n",
       "      <td>2528.738770</td>\n",
       "    </tr>\n",
       "  </tbody>\n",
       "</table>\n",
       "<p>349 rows × 4 columns</p>\n",
       "</div>"
      ],
      "text/plain": [
       "         State Year-Month   Real Sales  Predicted Sales\n",
       "0      Arizona 2018-01-01   157.292000      1256.364014\n",
       "1      Arizona 2018-02-01  1112.044723      1878.505371\n",
       "2      Arizona 2018-04-01  1079.056000      1571.739624\n",
       "3      Arizona 2018-05-01  1114.123897      1886.983643\n",
       "4      Arizona 2018-06-01   951.548000      2816.202148\n",
       "..         ...        ...          ...              ...\n",
       "344  Wisconsin 2018-08-01   113.410000       627.969727\n",
       "345  Wisconsin 2018-09-01   312.610167      1269.018311\n",
       "346  Wisconsin 2018-10-01    60.720000       317.407196\n",
       "347  Wisconsin 2018-11-01   442.262750      1581.096680\n",
       "348  Wisconsin 2018-12-01  2020.770345      2528.738770\n",
       "\n",
       "[349 rows x 4 columns]"
      ]
     },
     "execution_count": 32,
     "metadata": {},
     "output_type": "execute_result"
    }
   ],
   "source": [
    "grouped_predictions"
   ]
  },
  {
   "cell_type": "code",
   "execution_count": 33,
   "metadata": {},
   "outputs": [],
   "source": [
    "\n",
    "df_real['Year-Month'] = df_real['Year-Month'].astype(str)\n",
    "\n",
    "# Ensure 'Year-Month' is a string in both DataFrames\n",
    "grouped_predictions['Year-Month'] = grouped_predictions['Year-Month'].astype(str)\n",
    "prediction_and_actuals['Year-Month'] = prediction_and_actuals['Year-Month'].astype(str)\n",
    "\n",
    "# Remove the last 3 characters from 'Year-Month'\n",
    "grouped_predictions['Year-Month'] = grouped_predictions['Year-Month'].str[:-3]\n",
    "prediction_and_actuals['Year-Month'] = prediction_and_actuals['Year-Month'].str[:-3]\n",
    "\n",
    "\n"
   ]
  },
  {
   "cell_type": "code",
   "execution_count": 38,
   "metadata": {},
   "outputs": [
    {
     "name": "stdout",
     "output_type": "stream",
     "text": [
      "       State Year-Month        Sales  lstm_Predicted_Sales  \\\n",
      "0    Arizona    2018-01   100.922000           1256.364014   \n",
      "1    Arizona    2018-02  1112.044723           1878.505371   \n",
      "2    Arizona    2018-03     0.000000              0.000000   \n",
      "3    Arizona    2018-04   560.896000           1571.739624   \n",
      "4    Arizona    2018-05  1087.963897           1886.983643   \n",
      "..       ...        ...          ...                   ...   \n",
      "583  Wyoming    2018-08     0.000000              0.000000   \n",
      "584  Wyoming    2018-09     0.000000              0.000000   \n",
      "585  Wyoming    2018-10     0.000000              0.000000   \n",
      "586  Wyoming    2018-11     0.000000              0.000000   \n",
      "587  Wyoming    2018-12     0.000000              0.000000   \n",
      "\n",
      "     sarima_Sales_Prediction     ensemble  \n",
      "0                 130.853585   693.608799  \n",
      "1                2703.108032  2290.806702  \n",
      "2                   0.000000     0.000000  \n",
      "3                1151.432516  1361.586070  \n",
      "4                1928.195044  1907.589343  \n",
      "..                       ...          ...  \n",
      "583                 0.000000     0.000000  \n",
      "584                 0.000000     0.000000  \n",
      "585                 0.000000     0.000000  \n",
      "586                 0.000000     0.000000  \n",
      "587                 0.000000     0.000000  \n",
      "\n",
      "[588 rows x 6 columns]\n"
     ]
    }
   ],
   "source": [
    "\n",
    "# Rename columns for LSTM model\n",
    "df_lstm = grouped_predictions.rename(columns={\n",
    "    'Predicted Sales': 'lstm_Predicted_Sales',\n",
    "})\n",
    "\n",
    "# Rename columns for SARIMA model\n",
    "df_sarima = prediction_and_actuals.rename(columns={\n",
    "    'Sales_Prediction': 'sarima_Sales_Prediction',\n",
    "})\n",
    "\n",
    "# Create a list of all months in string format for 2018\n",
    "months_2018 = pd.date_range(start='2018-01-01', end='2018-12-31', freq='M').strftime('%Y-%m').tolist()\n",
    "\n",
    "# Get all unique states from the dataframes\n",
    "all_states = pd.concat([df_lstm['State'], df_sarima['State'], df_real['State']]).unique()\n",
    "\n",
    "# Create all possible combinations of states and Year-Months\n",
    "state_month_combinations = pd.MultiIndex.from_product([all_states, months_2018], names=['State', 'Year-Month']).to_frame(index=False)\n",
    "\n",
    "# Merge with real data\n",
    "ground_truth = pd.merge(state_month_combinations, df_real, on=['State', 'Year-Month'], how='left')\n",
    "\n",
    "# Merge with LSTM predictions\n",
    "ground_truth = pd.merge(ground_truth, df_lstm[['State', 'Year-Month',  'lstm_Predicted_Sales']], \n",
    "                         on=['State', 'Year-Month'], how='left')\n",
    "\n",
    "\n",
    "# Merge with SARIMA data\n",
    "ground_truth = pd.merge(ground_truth, df_sarima[['State', 'Year-Month', 'sarima_Sales_Prediction']], \n",
    "                         on=['State', 'Year-Month'], how='left')\n",
    "\n",
    "# Select relevant columns for the final result\n",
    "ground_truth = ground_truth[['State', 'Year-Month', 'Sales', 'lstm_Predicted_Sales', 'sarima_Sales_Prediction']]\n",
    "\n",
    "# Calculate average between LSTM and SARIMA to create \"ensemble\" column\n",
    "ground_truth['ensemble'] = ground_truth[['lstm_Predicted_Sales', 'sarima_Sales_Prediction']].mean(axis=1)\n",
    "\n",
    "# fill na with 0 all the dataset ground_thrut\n",
    "ground_truth = ground_truth.fillna(0)\n",
    "\n",
    "# Display the final result\n",
    "print(ground_truth)\n"
   ]
  },
  {
   "cell_type": "code",
   "execution_count": 42,
   "metadata": {},
   "outputs": [
    {
     "name": "stdout",
     "output_type": "stream",
     "text": [
      "RMSE: 812.1799949911906\n",
      "MSE: 659636.3442638903\n",
      "CCC: 0.9569942270963182\n"
     ]
    }
   ],
   "source": [
    "\n",
    "ground_truth = ground_truth[['State', 'Year-Month', 'Sales', 'lstm_Predicted_Sales', 'sarima_Sales_Prediction']]\n",
    "\n",
    "# Calculate weighted average between LSTM and SARIMA\n",
    "weight_lstm = 0.3  # LSTM weight\n",
    "weight_sarima = 0.7  # SARIMA weight\n",
    "ground_truth['weighted_ensemble'] = (ground_truth['lstm_Predicted_Sales'] * weight_lstm +\n",
    "                                      ground_truth['sarima_Sales_Prediction'] * weight_sarima)\n",
    "\n",
    "# Define function to calculate RMSE, MSE, and CCC\n",
    "def calculate_metrics(df):\n",
    "    # Remove rows with null values\n",
    "    df = df.dropna(subset=['Sales', 'weighted_ensemble'])\n",
    "\n",
    "    # Calculate RMSE\n",
    "    rmse = np.sqrt(np.mean((df['Sales'] - df['weighted_ensemble']) ** 2))\n",
    "    \n",
    "    # Calculate MSE\n",
    "    mse = np.mean((df['Sales'] - df['weighted_ensemble']) ** 2)\n",
    "    \n",
    "    # Calculate CCC\n",
    "    mean_sales = df['Sales'].mean()\n",
    "    mean_ensemble = df['weighted_ensemble'].mean()\n",
    "    \n",
    "    # CCC calculation\n",
    "    numerator = 2 * np.cov(df['Sales'], df['weighted_ensemble'])[0][1]\n",
    "    denominator = np.var(df['Sales']) + np.var(df['weighted_ensemble']) + (mean_sales - mean_ensemble) ** 2\n",
    "    ccc = numerator / denominator if denominator != 0 else 0  # Prevent division by zero\n",
    "    \n",
    "    return rmse, mse, ccc\n",
    "\n",
    "# Calculate metrics\n",
    "rmse, mse, ccc = calculate_metrics(ground_truth)\n",
    "\n",
    "# Display metric results\n",
    "print(f\"RMSE: {rmse}\")\n",
    "print(f\"MSE: {mse}\")\n",
    "print(f\"CCC: {ccc}\")\n",
    "\n"
   ]
  },
  {
   "cell_type": "code",
   "execution_count": 39,
   "metadata": {},
   "outputs": [
    {
     "name": "stdout",
     "output_type": "stream",
     "text": [
      "RMSE: 812.1799949911906\n",
      "MSE: 659636.3442638903\n",
      "CCC: 0.9569942270963182\n"
     ]
    }
   ],
   "source": [
    "\n",
    "ground_truth = ground_truth[['State', 'Year-Month', 'Sales', 'lstm_Predicted_Sales', 'sarima_Sales_Prediction']]\n",
    "\n",
    "# Calculate weighted average between LSTM and SARIMA\n",
    "weight_lstm = 0.3  # LSTM weight\n",
    "weight_sarima = 0.7  # SARIMA weight\n",
    "ground_truth['weighted_ensemble'] = (ground_truth['lstm_Predicted_Sales'] * weight_lstm +\n",
    "                                      ground_truth['sarima_Sales_Prediction'] * weight_sarima)\n",
    "\n",
    "# Define function to calculate RMSE, MSE, and CCC\n",
    "def calculate_metrics(df):\n",
    "    # Remove rows with null values\n",
    "    df = df.dropna(subset=['Sales', 'weighted_ensemble'])\n",
    "\n",
    "    # Calculate RMSE\n",
    "    rmse = np.sqrt(np.mean((df['Sales'] - df['weighted_ensemble']) ** 2))\n",
    "    \n",
    "    # Calculate MSE\n",
    "    mse = np.mean((df['Sales'] - df['weighted_ensemble']) ** 2)\n",
    "    \n",
    "    # Calculate CCC\n",
    "    mean_sales = df['Sales'].mean()\n",
    "    mean_ensemble = df['weighted_ensemble'].mean()\n",
    "    \n",
    "    # CCC calculation\n",
    "    numerator = 2 * np.cov(df['Sales'], df['weighted_ensemble'])[0][1]\n",
    "    denominator = np.var(df['Sales']) + np.var(df['weighted_ensemble']) + (mean_sales - mean_ensemble) ** 2\n",
    "    ccc = numerator / denominator if denominator != 0 else 0  # Prevent division by zero\n",
    "    \n",
    "    return rmse, mse, ccc\n",
    "\n",
    "# Calculate metrics\n",
    "rmse, mse, ccc = calculate_metrics(ground_truth)\n",
    "\n",
    "# Display metric results\n",
    "print(f\"RMSE: {rmse}\")\n",
    "print(f\"MSE: {mse}\")\n",
    "print(f\"CCC: {ccc}\")\n",
    "\n"
   ]
  },
  {
   "cell_type": "code",
   "execution_count": 45,
   "metadata": {},
   "outputs": [
    {
     "name": "stdout",
     "output_type": "stream",
     "text": [
      "                   State  RMSE_Weighted_Ensemble  MSE_Weighted_Ensemble  \\\n",
      "0                Alabama               71.761465           5.149708e+03   \n",
      "1                Arizona              646.517124           4.179844e+05   \n",
      "2               Arkansas              151.101295           2.283160e+04   \n",
      "3             California             3264.840093           1.065918e+07   \n",
      "4               Colorado              586.593195           3.440916e+05   \n",
      "5            Connecticut              416.816861           1.737363e+05   \n",
      "6               Delaware             1186.341871           1.407407e+06   \n",
      "7   District of Columbia               52.008201           2.704853e+03   \n",
      "8                Florida             1003.242958           1.006496e+06   \n",
      "9                Georgia              737.882253           5.444702e+05   \n",
      "10                 Idaho              153.428204           2.354021e+04   \n",
      "11              Illinois              910.288262           8.286247e+05   \n",
      "12               Indiana              540.787635           2.924513e+05   \n",
      "13                  Iowa              137.962611           1.903368e+04   \n",
      "14                Kansas               97.726667           9.550502e+03   \n",
      "15              Kentucky              458.569460           2.102859e+05   \n",
      "16             Louisiana              122.950634           1.511686e+04   \n",
      "17                 Maine                0.000000           0.000000e+00   \n",
      "18              Maryland              477.950058           2.284363e+05   \n",
      "19         Massachusetts              245.464639           6.025289e+04   \n",
      "20              Michigan              432.518526           1.870723e+05   \n",
      "21             Minnesota              261.949797           6.861770e+04   \n",
      "22           Mississippi              162.080866           2.627021e+04   \n",
      "23              Missouri              194.742983           3.792483e+04   \n",
      "24               Montana               37.307384           1.391841e+03   \n",
      "25              Nebraska              107.332531           1.152027e+04   \n",
      "26                Nevada              176.018396           3.098248e+04   \n",
      "27         New Hampshire               56.758907           3.221574e+03   \n",
      "28            New Jersey              566.202631           3.205854e+05   \n",
      "29            New Mexico              192.295271           3.697747e+04   \n",
      "30              New York             2708.831269           7.337767e+06   \n",
      "31        North Carolina             1250.387712           1.563469e+06   \n",
      "32          North Dakota              153.201937           2.347083e+04   \n",
      "33                  Ohio              786.102581           6.179573e+05   \n",
      "34              Oklahoma              182.838452           3.342990e+04   \n",
      "35                Oregon              223.650789           5.001968e+04   \n",
      "36          Pennsylvania             1242.493266           1.543790e+06   \n",
      "37          Rhode Island              139.986714           1.959628e+04   \n",
      "38        South Carolina               79.583896           6.333596e+03   \n",
      "39          South Dakota              159.887708           2.556408e+04   \n",
      "40             Tennessee              435.156013           1.893608e+05   \n",
      "41                 Texas             1175.846436           1.382615e+06   \n",
      "42                  Utah              225.396241           5.080347e+04   \n",
      "43               Vermont               70.860166           5.021163e+03   \n",
      "44              Virginia              407.139827           1.657628e+05   \n",
      "45            Washington             1497.357754           2.242080e+06   \n",
      "46         West Virginia               57.672426           3.326109e+03   \n",
      "47             Wisconsin              256.719070           6.590468e+04   \n",
      "48               Wyoming                0.000000           0.000000e+00   \n",
      "\n",
      "    CCC_Weighted_Ensemble    RMSE_LSTM      MSE_LSTM  CCC_LSTM  RMSE_SARIMA  \\\n",
      "0                1.058860   323.298445  1.045219e+05  0.000000   189.036749   \n",
      "1                0.800615   957.028271  9.159031e+05  0.545766   625.501154   \n",
      "2                1.036912   275.754426  7.604050e+04  0.906528   149.747438   \n",
      "3                0.757755  8846.074590  7.825304e+07  0.045126  5381.945074   \n",
      "4                0.948687   750.240055  5.628601e+05  0.757017   874.998806   \n",
      "5                0.864654   437.231808  1.911717e+05  0.775450   482.660300   \n",
      "6                0.970333  2940.070489  8.644014e+06  0.166063   517.850692   \n",
      "7                0.579422   157.826561  2.490922e+04  0.250350     6.657474   \n",
      "8                0.937323  1167.883014  1.363951e+06  0.734088  1507.335765   \n",
      "9                0.981294  1112.256421  1.237114e+06  0.605404  1377.158947   \n",
      "10               0.957408   217.269078  4.720585e+04  0.816180   181.624772   \n",
      "11               0.801017  1250.617787  1.564045e+06  0.140052  1155.323623   \n",
      "12               1.000864   723.330907  5.232076e+05  0.874368   674.387403   \n",
      "13               0.712031   384.596481  1.479145e+05  0.332483    43.626083   \n",
      "14               0.899184   261.279778  6.826712e+04  0.454090    61.344585   \n",
      "15               1.044901  1008.609677  1.017293e+06  0.767466   569.319362   \n",
      "16               1.057962   281.049903  7.898905e+04  0.903092    67.612232   \n",
      "17               0.000000     0.000000  0.000000e+00  0.000000     0.000000   \n",
      "18               1.003422  1019.837778  1.040069e+06  0.588860   365.690172   \n",
      "19               1.065394   421.471384  1.776381e+05  0.982342   375.496557   \n",
      "20               1.077774  2586.770197  6.691380e+06  0.328117  1185.168211   \n",
      "21               0.988471   711.690089  5.065028e+05  0.388045   190.716060   \n",
      "22               1.047038   238.044535  5.666520e+04  0.975198   193.454273   \n",
      "23               1.079882  1073.090568  1.151523e+06  0.565270   457.128195   \n",
      "24               1.090313   923.909600  8.536089e+05  0.442886   354.273268   \n",
      "25               1.083658   623.596441  3.888725e+05  0.645332   354.568370   \n",
      "26               0.994635   105.108435  1.104778e+04  1.025045   273.550297   \n",
      "27               1.033393   168.368129  2.834783e+04  0.741485    15.858022   \n",
      "28               0.959047   563.954604  3.180448e+05  0.869689   842.322426   \n",
      "29               0.884771   518.233503  2.685660e+05  0.413555   109.062186   \n",
      "30               0.982765  7695.041276  5.921366e+07  0.142394  1853.256675   \n",
      "31               0.985072  2838.769819  8.058614e+06  0.362437   622.407867   \n",
      "32               0.969133   173.565721  3.012506e+04  0.875796   198.783931   \n",
      "33               0.869874  1044.868076  1.091749e+06  0.656080   836.969800   \n",
      "34               1.061555   581.352100  3.379703e+05  0.658811   253.027673   \n",
      "35               1.020498   547.533494  2.997929e+05  0.814316   135.718963   \n",
      "36               0.980859  3294.632068  1.085460e+07  0.196117  1198.021789   \n",
      "37               1.059806   300.642698  9.038603e+04  0.921222   180.131626   \n",
      "38               1.059291   298.738607  8.924476e+04  0.438655   130.337754   \n",
      "39               1.001636   154.332440  2.381850e+04  1.001809   170.014642   \n",
      "40               1.031594  1104.426835  1.219759e+06  0.620054   432.140918   \n",
      "41               0.855069  1393.896041  1.942946e+06  0.620828  1649.541992   \n",
      "42               1.032625   264.705688  7.006910e+04  0.990251   376.503954   \n",
      "43               1.032300    98.856522  9.772612e+03  0.991854    58.876279   \n",
      "44               0.965016   601.452739  3.617454e+05  0.774353   460.420910   \n",
      "45               1.015764  4820.479002  2.323702e+07  0.156979  2102.309438   \n",
      "46               1.057434   105.197996  1.106662e+04  0.954386    56.477044   \n",
      "47               1.033616   640.575172  4.103366e+05  0.695351   290.813344   \n",
      "48               0.000000     0.000000  0.000000e+00  0.000000     0.000000   \n",
      "\n",
      "      MSE_SARIMA  CCC_SARIMA  LSTM_Predicted_Sales  Weighted_Ensemble  \\\n",
      "0   3.573489e+04    0.951077              0.000000         159.991220   \n",
      "1   3.912517e+05    0.831459           1701.436890        1437.014963   \n",
      "2   2.242430e+04    1.040836            398.191986         317.434071   \n",
      "3   2.896533e+07    0.582508           4449.186035       12554.764925   \n",
      "4   7.656229e+05    0.852112           1155.590454        1334.161816   \n",
      "5   2.329610e+05    0.831600            814.206055         768.621581   \n",
      "6   2.681693e+05    1.072373            420.090668        1102.803325   \n",
      "7   4.432196e+01    1.051982             52.040604          21.493474   \n",
      "8   2.272061e+06    0.839133           1994.521973        2426.851561   \n",
      "9   1.896567e+06    0.838551           1074.857422        1772.181821   \n",
      "10  3.298756e+04    0.922791            211.204330         172.838738   \n",
      "11  1.334773e+06    0.767826           2716.509766        2979.515504   \n",
      "12  4.547984e+05    0.972586           1015.839050        1246.555309   \n",
      "13  1.903235e+03    1.008562            235.705444         114.289210   \n",
      "14  3.763158e+03    1.003356            159.043198         106.384755   \n",
      "15  3.241245e+05    1.033059           1044.230103        1337.866688   \n",
      "16  4.571414e+03    1.081592            342.324341         339.822442   \n",
      "17  0.000000e+00    0.000000              0.000000           0.000000   \n",
      "18  1.337293e+05    1.047410            718.985840         830.909008   \n",
      "19  1.409977e+05    1.040416            764.649841         805.454474   \n",
      "20  1.404624e+06    1.021570           1307.304688        2441.748110   \n",
      "21  3.637262e+04    1.044900            767.212585         695.519456   \n",
      "22  3.742456e+04    1.034860            349.477417         367.129358   \n",
      "23  2.089662e+05    1.045169            560.219788         877.264911   \n",
      "24  1.255095e+05    1.051924            105.235115         347.083515   \n",
      "25  1.257187e+05    1.032395            293.338135         384.310077   \n",
      "26  7.482976e+04    0.912832            132.260300         193.612480   \n",
      "27  2.514769e+02    1.086110            130.469467          89.495391   \n",
      "28  7.095071e+05    0.870053            883.865540         991.773039   \n",
      "29  1.189456e+04    1.013833            524.496643         363.584565   \n",
      "30  3.434560e+06    1.051421           3412.926025        7004.804371   \n",
      "31  3.873916e+05    1.069190           1495.459473        1805.641267   \n",
      "32  3.951505e+04    0.921056            130.659790         133.642793   \n",
      "33  7.005184e+05    0.870599           2381.546631        2251.626495   \n",
      "34  6.402300e+04    1.046431            417.032227         576.981058   \n",
      "35  1.841964e+04    1.061176            685.951965         456.598410   \n",
      "36  1.435256e+06    1.012904           2425.915283        4037.969764   \n",
      "37  3.244740e+04    1.045297            398.489105         402.919877   \n",
      "38  1.698793e+04    1.027959            160.558304         213.315695   \n",
      "39  2.890498e+04    0.993551            157.633286         148.719116   \n",
      "40  1.867458e+05    1.042439           1456.595215        1533.036735   \n",
      "41  2.720989e+06    0.752924           3474.096436        4451.928171   \n",
      "42  1.417552e+05    0.954320            342.906006         387.344725   \n",
      "43  3.466416e+03    1.047873            106.798218          96.667001   \n",
      "44  2.119874e+05    0.950576            942.055969         908.519078   \n",
      "45  4.419705e+06    0.986188           2905.560303        5662.337788   \n",
      "46  3.189657e+03    1.061943             80.308441         105.789227   \n",
      "47  8.457240e+04    1.028315            685.624512         623.029217   \n",
      "48  0.000000e+00    0.000000              0.000000           0.000000   \n",
      "\n",
      "    SARIMA_Sales_Prediction         Sales  \n",
      "0                228.558886    152.354167  \n",
      "1               1323.691224    969.195052  \n",
      "2                282.823530    225.636667  \n",
      "3              16028.584453  12187.791026  \n",
      "4               1410.692350   1028.053647  \n",
      "5                749.085355    470.110352  \n",
      "6               1395.394451   1387.090243  \n",
      "7                  8.401847      6.480000  \n",
      "8               2612.135653   1880.139234  \n",
      "9               2071.035099   1297.486354  \n",
      "10               156.396331    102.795667  \n",
      "11              3092.232290   2254.020813  \n",
      "12              1345.433706   1103.569000  \n",
      "13                62.253676     41.997500  \n",
      "14                83.816849     61.625273  \n",
      "15              1463.710948   1259.204634  \n",
      "16               338.750190    304.083667  \n",
      "17                 0.000000      0.000000  \n",
      "18               878.876087    790.341106  \n",
      "19               822.942166    679.890528  \n",
      "20              2927.938112   2198.493022  \n",
      "21               664.793848    548.549029  \n",
      "22               374.694471    300.051060  \n",
      "23              1013.141400    787.336441  \n",
      "24               450.732825    348.152500  \n",
      "25               423.298042    315.590333  \n",
      "26               219.906271    122.379833  \n",
      "27                71.935067     65.987685  \n",
      "28              1038.019057    714.710000  \n",
      "29               294.622223    237.975527  \n",
      "30              8544.180750   7478.707627  \n",
      "31              1938.576285   1856.825859  \n",
      "32               134.921220     76.659167  \n",
      "33              2195.946437   1663.933324  \n",
      "34               645.530580    518.825833  \n",
      "35               358.303989    298.905486  \n",
      "36              4728.850286   3895.152239  \n",
      "37               404.818773    328.481239  \n",
      "38               235.926004    179.132500  \n",
      "39               144.898752     96.117500  \n",
      "40              1565.797387   1362.096240  \n",
      "41              4870.998825   3726.469527  \n",
      "42               406.389886    277.815878  \n",
      "43                92.325050     70.184167  \n",
      "44               894.146113    613.144565  \n",
      "45              6843.813820   5495.414072  \n",
      "46               116.709564    100.818667  \n",
      "47               596.202649    461.525272  \n",
      "48                 0.000000      0.000000  \n"
     ]
    }
   ],
   "source": [
    "import numpy as np\n",
    "import pandas as pd\n",
    "\n",
    "# Calculate weighted average between LSTM and SARIMA\n",
    "weight_lstm = 0.3  # LSTM weight\n",
    "weight_sarima = 0.7  # SARIMA weight\n",
    "ground_truth['weighted_ensemble'] = (ground_truth['lstm_Predicted_Sales'] * weight_lstm +\n",
    "                                      ground_truth['sarima_Sales_Prediction'] * weight_sarima)\n",
    "\n",
    "# Define function to calculate RMSE, MSE, and CCC for each state\n",
    "def calculate_metrics(df, prediction_col):\n",
    "    # Remove rows with null values\n",
    "    df = df.dropna(subset=['Sales', prediction_col])\n",
    "\n",
    "    # Calculate RMSE\n",
    "    rmse = np.sqrt(np.mean((df['Sales'] - df[prediction_col]) ** 2))\n",
    "    \n",
    "    # Calculate MSE\n",
    "    mse = np.mean((df['Sales'] - df[prediction_col]) ** 2)\n",
    "    \n",
    "    # Calculate CCC\n",
    "    mean_sales = df['Sales'].mean()\n",
    "    mean_prediction = df[prediction_col].mean()\n",
    "    \n",
    "    # CCC calculation\n",
    "    numerator = 2 * np.cov(df['Sales'], df[prediction_col])[0][1]\n",
    "    denominator = np.var(df['Sales']) + np.var(df[prediction_col]) + (mean_sales - mean_prediction) ** 2\n",
    "    ccc = numerator / denominator if denominator != 0 else 0  # Prevent division by zero\n",
    "    \n",
    "    return rmse, mse, ccc\n",
    "\n",
    "# Step: Calculate metrics for each state\n",
    "metrics_results = []\n",
    "\n",
    "# Group by 'State' and calculate metrics for each group\n",
    "for state, group in ground_truth.groupby('State'):\n",
    "    # Calculate metrics for weighted ensemble\n",
    "    rmse_weighted, mse_weighted, ccc_weighted = calculate_metrics(group, 'weighted_ensemble')\n",
    "    \n",
    "    # Calculate metrics for LSTM predictions\n",
    "    rmse_lstm, mse_lstm, ccc_lstm = calculate_metrics(group, 'lstm_Predicted_Sales')\n",
    "    \n",
    "    # Calculate metrics for SARIMA predictions\n",
    "    rmse_sarima, mse_sarima, ccc_sarima = calculate_metrics(group, 'sarima_Sales_Prediction')\n",
    "\n",
    "    # Append results for the state along with the actual values\n",
    "    metrics_results.append({\n",
    "        'State': state,\n",
    "        'RMSE_Weighted_Ensemble': rmse_weighted,\n",
    "        'MSE_Weighted_Ensemble': mse_weighted,\n",
    "        'CCC_Weighted_Ensemble': ccc_weighted,\n",
    "        'RMSE_LSTM': rmse_lstm,\n",
    "        'MSE_LSTM': mse_lstm,\n",
    "        'CCC_LSTM': ccc_lstm,\n",
    "        'RMSE_SARIMA': rmse_sarima,\n",
    "        'MSE_SARIMA': mse_sarima,\n",
    "        'CCC_SARIMA': ccc_sarima,\n",
    "        'LSTM_Predicted_Sales': group['lstm_Predicted_Sales'].mean(),  # Average for each state\n",
    "        'Weighted_Ensemble': group['weighted_ensemble'].mean(),         # Average for each state\n",
    "        'SARIMA_Sales_Prediction': group['sarima_Sales_Prediction'].mean(),  # Average for each state\n",
    "        'Sales': group['Sales'].mean()                                    # Average for each state\n",
    "    })\n",
    "\n",
    "# Create a DataFrame from the results\n",
    "metrics_df = pd.DataFrame(metrics_results)\n",
    "\n",
    "# Display the metrics for each state\n",
    "print(metrics_df)\n"
   ]
  },
  {
   "cell_type": "code",
   "execution_count": 41,
   "metadata": {},
   "outputs": [
    {
     "name": "stdout",
     "output_type": "stream",
     "text": [
      "Figures saved in the directory: esamble_state_sales_figures\n"
     ]
    }
   ],
   "source": [
    "import os\n",
    "import pandas as pd\n",
    "import matplotlib.pyplot as plt\n",
    "\n",
    "# Convert 'Year-Month' to datetime format for plotting in ground_truth\n",
    "if pd.api.types.is_period_dtype(ground_truth['Year-Month']):\n",
    "    ground_truth['Year-Month'] = ground_truth['Year-Month'].dt.to_timestamp()\n",
    "else:\n",
    "    ground_truth['Year-Month'] = pd.to_datetime(ground_truth['Year-Month'], format='%Y-%m')\n",
    "\n",
    "# Create a directory to save figures\n",
    "output_dir = 'esamble_state_sales_figures'\n",
    "os.makedirs(output_dir, exist_ok=True)\n",
    "\n",
    "# Get the list of unique states\n",
    "states = ground_truth['State'].unique()\n",
    "\n",
    "# Define a common date range from January 2018 to December 2018\n",
    "full_date_range = pd.date_range(start='2018-01-01', end='2018-12-01', freq='MS')\n",
    "\n",
    "# Generate and save a plot for each state\n",
    "for state in states:\n",
    "    # Filter data for the current state\n",
    "    state_data = ground_truth[ground_truth['State'] == state]\n",
    "\n",
    "    # Set 'Year-Month' as the index\n",
    "    state_data.set_index('Year-Month', inplace=True)\n",
    "    \n",
    "    # Reindex the state data to include all months from 2018-01 to 2018-12, filling NaNs with 0\n",
    "    state_data = state_data.reindex(full_date_range, fill_value=0)\n",
    "    \n",
    "    # Create the plot\n",
    "    plt.figure(figsize=(12, 6))\n",
    "    plt.plot(state_data.index, state_data['weighted_ensemble'], label='Weighted Ensemble', marker='o', color='blue')\n",
    "    plt.plot(state_data.index, state_data['Sales'], label='Sales Actual', marker='o', color='orange')\n",
    "    plt.title(f'Sales Prediction vs Actual Sales for {state} (2018)')\n",
    "    plt.xlabel('Year-Month')\n",
    "    plt.ylabel('Sales')\n",
    "    plt.legend()\n",
    "    plt.grid(True)\n",
    "    plt.xticks(rotation=45)\n",
    "    plt.tight_layout()\n",
    "    \n",
    "    # Save the plot to the specified directory\n",
    "    file_path = os.path.join(output_dir, f'{state}.png')\n",
    "    plt.savefig(file_path)\n",
    "    plt.close()  # Close the figure to free up memory\n",
    "\n",
    "print(f'Figures saved in the directory: {output_dir}')\n"
   ]
  }
 ],
 "metadata": {
  "kernelspec": {
   "display_name": "Python 3.10 (tensorflow)",
   "language": "python",
   "name": "tensorflow"
  },
  "language_info": {
   "codemirror_mode": {
    "name": "ipython",
    "version": 3
   },
   "file_extension": ".py",
   "mimetype": "text/x-python",
   "name": "python",
   "nbconvert_exporter": "python",
   "pygments_lexer": "ipython3",
   "version": "3.10.12"
  }
 },
 "nbformat": 4,
 "nbformat_minor": 2
}
