{
 "cells": [
  {
   "cell_type": "markdown",
   "metadata": {},
   "source": [
    "### Retailer Sales Data Forecasting\n",
    "\n",
    "This dataset contains the daily sales data of a US retailer.  \n",
    "Your objective is to forecast the total sales for each State over the next 12 months, using the historical data provided.\n"
   ]
  },
  {
   "cell_type": "markdown",
   "metadata": {},
   "source": [
    "### Part 1: Top-Down Approach\n",
    "\n",
    "1. **Aggregate Sales:**  \n",
    "   Combine the sales data to create total sales at the `year-month` level, using the `Order Date` as the time variable for aggregation.\n",
    "\n",
    "\n",
    "2. **Train a Model:**  \n",
    "   Using the aggregated `year-month` data, train a model to forecast the total sales for the next 12 months.  \n",
    "   *(The choice of model is up to you.)*\n",
    "\n",
    "3. **Disaggregate Predictions:**  \n",
    "   Split the predicted sales from the `year-month` level back to the `year-month-State` level.  \n",
    "   *(The splitting strategy is up to you.)*\n",
    "\n",
    "4. **Evaluate Accuracy:**  \n",
    "   Assess the forecast accuracy at both the `year-month` and `year-month-State` levels.\n"
   ]
  },
  {
   "cell_type": "markdown",
   "metadata": {},
   "source": [
    "### Part 2: Alternative Approach\n",
    "\n",
    "- Implement a different approach to forecast the next 12 months of sales at the `year-month-State` level.\n"
   ]
  }
 ],
 "metadata": {
  "language_info": {
   "name": "python"
  }
 },
 "nbformat": 4,
 "nbformat_minor": 2
}
